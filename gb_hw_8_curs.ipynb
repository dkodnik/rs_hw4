{
  "cells": [
    {
      "cell_type": "markdown",
      "source": [
        "## **Основное**\n",
        "- На retail_test1.csv целевая метрика precision@5 > 0.235\n",
        "- Бейзлайн решения - [MainRecommender](https://github.com/geangohn/recsys-tutorial/blob/master/src/recommenders.py)\n",
        "- Сдаем ссылку на github с решением. В решении должны быть отчетливо видна метрика на новом тестовом сете из файла retail_test1.csv, то есть вам нужно для всех юзеров из этого файла выдать выши рекомендации, и посчитать на actual покупках precision@5. "
      ],
      "metadata": {
        "id": "NbsDSzKoCy6r"
      },
      "id": "NbsDSzKoCy6r"
    },
    {
      "cell_type": "markdown",
      "id": "20d895d2-bf68-4120-803f-dee12633ae74",
      "metadata": {
        "id": "20d895d2-bf68-4120-803f-dee12633ae74"
      },
      "source": [
        "# Импорт"
      ]
    },
    {
      "cell_type": "code",
      "source": [
        "#!pip install implicit==0.4.4\n",
        "#!pip install catboost"
      ],
      "metadata": {
        "id": "hpvvi9WNxuTw"
      },
      "id": "hpvvi9WNxuTw",
      "execution_count": 1,
      "outputs": []
    },
    {
      "cell_type": "code",
      "source": [
        "_GPU_ACTION=True"
      ],
      "metadata": {
        "id": "IC3Zq-Q2xvyr"
      },
      "id": "IC3Zq-Q2xvyr",
      "execution_count": 2,
      "outputs": []
    },
    {
      "cell_type": "code",
      "execution_count": 3,
      "id": "fa0ad6d8-65e0-4bb1-9e7a-245bbefe9790",
      "metadata": {
        "tags": [],
        "id": "fa0ad6d8-65e0-4bb1-9e7a-245bbefe9790"
      },
      "outputs": [],
      "source": [
        "from src.utils import *\n",
        "from src.metrics import precision_at_k\n",
        "from src.recommenders import MainRecommender\n",
        "import pandas as pd\n",
        "import numpy as np\n",
        "#import yaml\n",
        "\n",
        "import sys\n",
        "import inspect\n",
        "from pprint import pprint\n",
        "import warnings\n"
      ]
    },
    {
      "cell_type": "code",
      "source": [
        "!pip install -U -q PyDrive\n",
        " \n",
        "from pydrive.auth import GoogleAuth\n",
        "from pydrive.drive import GoogleDrive\n",
        "from google.colab import auth\n",
        "from oauth2client.client import GoogleCredentials\n",
        " \n",
        " \n",
        "# Authenticate and create the PyDrive client.\n",
        "auth.authenticate_user()\n",
        "gauth = GoogleAuth()\n",
        "gauth.credentials = GoogleCredentials.get_application_default()\n",
        "drive = GoogleDrive(gauth)\n",
        "\n",
        "link1 = 'https://drive.google.com/file/d/11I5eGSyDkFvSbU5J-5HTkunRoVjUPvZ4/view'\n",
        "id1 = link1.split(\"/\")[-2]\n",
        "downloaded1 = drive.CreateFile({'id':id1})\n",
        "downloaded1.GetContentFile('retail_train.csv')\n",
        "\n",
        "link2 = 'https://drive.google.com/file/d/15r1tmfW5NbS-wE0EkZ_KWBEWRb29PPFF/view'\n",
        "id2 = link2.split(\"/\")[-2]\n",
        "downloaded2 = drive.CreateFile({'id':id2})\n",
        "downloaded2.GetContentFile('product.csv')\n",
        "\n",
        "link3 = 'https://drive.google.com/file/d/1x8MG76QgnJQZ5nsv8J35sGTm0kMc5vaZ/view'\n",
        "id3 = link3.split(\"/\")[-2]\n",
        "downloaded3 = drive.CreateFile({'id':id3})\n",
        "downloaded3.GetContentFile('hh_demographic.csv')\n",
        "\n",
        "link4 = 'https://drive.google.com/file/d/16ZdmG_RJX6kUSOrAwhQ1rAOmPXTbhbaw/view'\n",
        "id4 = link4.split(\"/\")[-2]\n",
        "downloaded4 = drive.CreateFile({'id':id4})\n",
        "downloaded4.GetContentFile('retail_test1.csv')"
      ],
      "metadata": {
        "id": "lPf1YAedF6K2"
      },
      "id": "lPf1YAedF6K2",
      "execution_count": 4,
      "outputs": []
    },
    {
      "cell_type": "markdown",
      "id": "5b03554f-a7ae-4fc8-a258-e70c3b20c9f7",
      "metadata": {
        "id": "5b03554f-a7ae-4fc8-a258-e70c3b20c9f7"
      },
      "source": [
        "\n",
        "# Предоброботка данных\n"
      ]
    },
    {
      "cell_type": "code",
      "source": [
        "_CONSTANTS = {\n",
        "    'ITEM_COL': 'item_id',\n",
        "    'USER_COL': 'user_id',\n",
        "    'ACTUAL_COL': 'actual',\n",
        "    'TOPK_PRECISION': 5,\n",
        "    'VAL_MATCHER_WEEKS': 6,\n",
        "    'VAL_RANKER_WEEKS': 3,\n",
        "}"
      ],
      "metadata": {
        "id": "6m8lo1sd_47z"
      },
      "id": "6m8lo1sd_47z",
      "execution_count": 5,
      "outputs": []
    },
    {
      "cell_type": "code",
      "source": [
        "class Dataset:\n",
        "    data_train = pd.read_csv('retail_train.csv')\n",
        "    data_test = pd.read_csv(r'retail_test1.csv')\n",
        "    item_features = pd.read_csv('product.csv')\n",
        "    user_features = pd.read_csv('hh_demographic.csv')\n",
        "    _CONSTANTS = _CONSTANTS\n",
        "\n",
        "    \n",
        "\n",
        "    def data_prefilter(self, make_worse=False):\n",
        "        # column start processing\n",
        "        self.item_features.columns = [col.lower() for col in self.item_features.columns]\n",
        "        self.user_features.columns = [col.lower() for col in self.user_features.columns]\n",
        "        self.item_features.rename(columns={'product_id': _CONSTANTS['ITEM_COL']}, inplace=True)\n",
        "        self.user_features.rename(columns={'household_key': _CONSTANTS['USER_COL']}, inplace=True)\n",
        "\n",
        "        # mark unpopular departments\n",
        "        department_size = pd.DataFrame(self.item_features. \\\n",
        "                                       groupby('department')[_CONSTANTS['ITEM_COL']].nunique(). \\\n",
        "                                       sort_values(ascending=False)).reset_index()\n",
        "        department_size.columns = ['department', 'n_items']\n",
        "        rare_departments = department_size[department_size['n_items'] < 10].department.tolist()\n",
        "        items_in_rare_departments = self.item_features[self.item_features['department']. \\\n",
        "            isin(rare_departments)].item_id.unique().tolist()\n",
        "\n",
        "        # transform categorical data to numeric\n",
        "        self.item_features['brand'] = pd.factorize(self.item_features['brand'])[0]\n",
        "        self.item_features['commodity_type'] = pd.factorize(self.item_features['commodity_desc'])[0]\n",
        "\n",
        "        # recalculate mean age, income of users\n",
        "        self.user_features.loc[self.user_features['age_desc'] == '65+', 'age'] = 75\n",
        "        self.user_features.loc[self.user_features['age_desc'] != '65+', 'age'] = self.user_features.loc[\n",
        "            self.user_features['age_desc'] != '65+', 'age_desc'].apply(\n",
        "            lambda x: int((int(x.split('-')[0]) + int(x.split('-')[1])) / 2))\n",
        "\n",
        "        self.user_features.loc[self.user_features['income_desc'].str.contains('\\+'), 'income'] = 300\n",
        "        self.user_features.loc[self.user_features['income_desc'].str.contains('Under'), 'income'] = 10\n",
        "        self.user_features.loc[self.user_features['income_desc'].str.contains('-'), 'income'] = self.user_features.loc[\n",
        "            self.user_features['income_desc'].str.contains('-'), 'income_desc'].apply(\n",
        "            lambda x: int((int(x.split('-')[0]) + int(x.split('-')[1][:-1])) / 2))\n",
        "        # calculating adults_num and has_kids\n",
        "        self.user_features.loc[(self.user_features['hh_comp_desc'].str.contains('Kids')) & \\\n",
        "                               (~self.user_features['hh_comp_desc'].str.contains('No')), 'has_kids'] = 1\n",
        "        self.user_features.loc[self.user_features['has_kids'].isnull(), 'has_kids'] = 0\n",
        "        self.user_features.loc[self.user_features['hh_comp_desc'].str.contains('Adults'), 'adults_num'] = 2\n",
        "        self.user_features.loc[self.user_features['hh_comp_desc'].str.contains('Single'), 'adults_num'] = 1\n",
        "        self.user_features.loc[self.user_features['hh_comp_desc'].str.contains('1 Adult'), 'adults_num'] = 1\n",
        "        self.user_features.loc[self.user_features['hh_comp_desc'] == 'Unknown', 'adults_num'] = 1\n",
        "\n",
        "        # remove '+' from category and make col type numeric\n",
        "        self.user_features.loc[self.user_features['household_size_desc'] == '5+', 'household_size_desc'] = 5\n",
        "        self.user_features.loc[self.user_features['kid_category_desc'] == '3+', 'kid_category_desc'] = 3\n",
        "        self.user_features.loc[self.user_features['kid_category_desc'] == 'None/Unknown', 'kid_category_desc'] = 0\n",
        "        self.user_features['household_size_desc'] = self.user_features['household_size_desc'].astype(int)\n",
        "        self.user_features['kid_category_desc'] = self.user_features['kid_category_desc'].astype(int)\n",
        "\n",
        "        # transform categorical data to numeric\n",
        "        self.user_features = pd.concat([self.user_features, pd.get_dummies(self.user_features['homeowner_desc'])],\n",
        "                                       axis=1)\n",
        "        self.user_features = pd.concat([self.user_features, pd.get_dummies(self.user_features['marital_status_code'])],\n",
        "                                       axis=1)\n",
        "\n",
        "        # remove text data\n",
        "        self.user_features = self.user_features.iloc[:, 5:]\n",
        "        self.item_features = self.item_features[[self._CONSTANTS['ITEM_COL'],\n",
        "                                                 'manufacturer',\n",
        "                                                 'brand',\n",
        "                                                 'commodity_type']]\n",
        "\n",
        "        # iterate throw train and test\n",
        "        for i in ['train', 'test']:\n",
        "            if i == 'train':\n",
        "                df = self.data_train.copy()\n",
        "            else:\n",
        "                df = self.data_test.copy()\n",
        "            # remove unpopular departments\n",
        "            df = df[~df[_CONSTANTS['ITEM_COL']].isin(items_in_rare_departments)]\n",
        "\n",
        "            if make_worse:\n",
        "                # making worst max precision score (hypothesis)\n",
        "                # remove cheap ones\n",
        "                df['price'] = df['sales_value'] / (np.maximum(df['quantity'], 1))\n",
        "                df = df[df['price'] > 2]\n",
        "                # remove expensive ones\n",
        "                df = df[df['price'] < 50]\n",
        "\n",
        "            # add new features\n",
        "            # user's mean check\n",
        "            basket_stat = self.user_features.merge(df, on=_CONSTANTS['USER_COL'], how='left')\n",
        "            basket_stat = basket_stat.pivot_table(index=_CONSTANTS['USER_COL'], values=['basket_id', 'sales_value'],\n",
        "                                                  aggfunc={'basket_id': 'count', 'sales_value': 'sum'})\n",
        "            basket_stat = basket_stat['sales_value'] / basket_stat['basket_id']\n",
        "            basket_stat = basket_stat.reset_index()\n",
        "            basket_stat.rename(columns={0: 'avg_check'}, inplace=True)\n",
        "            df = df.merge(basket_stat.reset_index(), on=_CONSTANTS['USER_COL'])\n",
        "            del basket_stat\n",
        "\n",
        "            # get top popularity items\n",
        "            df = df.merge(df.groupby(_CONSTANTS['ITEM_COL'])['quantity'].sum().reset_index(),\n",
        "                          on=_CONSTANTS['ITEM_COL'],\n",
        "                          how='left',\n",
        "                          suffixes=['', '_total'])\n",
        "\n",
        "            # remove super unpopular items over 12 month\n",
        "            max_day = df['day'].max()\n",
        "            items_365 = df.loc[\n",
        "                (df['day'] <= max_day) & (df['day'] >= max_day - 365), _CONSTANTS['ITEM_COL']].unique().tolist()\n",
        "            df = df.loc[df[_CONSTANTS['ITEM_COL']].isin(items_365)]\n",
        "            del items_365\n",
        "\n",
        "            if make_worse:\n",
        "                # change item_id to fakes where we think user \"already\" served his needs\n",
        "                df.loc[df['quantity_total'] >= _CONSTANTS['TAKE_N_POPULAR'], _CONSTANTS['ITEM_COL']] = 999999\n",
        "\n",
        "            # commit instance changes\n",
        "            if i == 'train':\n",
        "                self.data_train = df.copy()\n",
        "            else:\n",
        "                self.data_test = df.copy()\n",
        "            del df\n",
        "\n",
        "    def data_split(self,\n",
        "                   val_lvl_1_size_weeks=_CONSTANTS['VAL_MATCHER_WEEKS'],\n",
        "                   val_lvl_2_size_weeks=_CONSTANTS['VAL_RANKER_WEEKS']):\n",
        "\n",
        "        # iterate throw train and test\n",
        "        for i in ['train', 'test']:\n",
        "            if i == 'train':\n",
        "                df = self.data_train.copy()\n",
        "            else:\n",
        "                df = self.data_test.copy()\n",
        "\n",
        "            data_train_lvl_1 = df[df['week_no'] < df['week_no'].max() - \\\n",
        "                                  (val_lvl_1_size_weeks + val_lvl_2_size_weeks)]\n",
        "            data_val_lvl_1 = df[(df['week_no'] >= df['week_no'].max() - \\\n",
        "                                 (val_lvl_1_size_weeks + val_lvl_2_size_weeks)) & \\\n",
        "                                (df['week_no'] < df['week_no'].max() - \\\n",
        "                                 (val_lvl_2_size_weeks))]\n",
        "\n",
        "            data_train_lvl_2 = data_val_lvl_1.copy()\n",
        "            data_val_lvl_2 = df[df['week_no'] >= df['week_no'].max() - \\\n",
        "                                val_lvl_2_size_weeks]\n",
        "\n",
        "            result_lvl_1 = data_val_lvl_1.groupby(_CONSTANTS['USER_COL'])[\n",
        "                _CONSTANTS['ITEM_COL']].unique().reset_index()\n",
        "            result_lvl_1.columns = [_CONSTANTS['USER_COL'], _CONSTANTS['ACTUAL_COL']]\n",
        "\n",
        "            users_train = data_train_lvl_1[_CONSTANTS['USER_COL']].tolist()\n",
        "            users_valid = result_lvl_1[_CONSTANTS['USER_COL']].tolist()\n",
        "            new_users = list(set(users_valid) - set(users_train))\n",
        "            all_users = list(set(users_valid) & set(users_train))\n",
        "            result_lvl_1 = result_lvl_1[~result_lvl_1[_CONSTANTS['USER_COL']].isin(new_users)]\n",
        "\n",
        "            # commit instance changes\n",
        "            if i == 'train':\n",
        "                self.data_train_lvl_1 = data_train_lvl_1.copy()\n",
        "                self.data_val_lvl_1 = data_val_lvl_1.copy()\n",
        "                self.data_train_lvl_2 = data_train_lvl_2.copy()\n",
        "                self.data_val_lvl_2 = data_val_lvl_2.copy()\n",
        "                self.result_lvl_1 = result_lvl_1.copy()\n",
        "            else:\n",
        "                self.data_train_lvl_1_real = data_train_lvl_1.copy()\n",
        "                self.data_val_lvl_1_real = data_val_lvl_1.copy()\n",
        "                self.data_train_lvl_2_real = data_train_lvl_2.copy()\n",
        "                self.data_val_lvl_2_real = data_val_lvl_2.copy()\n",
        "                self.result_lvl_1_real = result_lvl_1.copy()\n",
        "\n",
        "    def data_test_split(self):\n",
        "        # iterate throw train and test\n",
        "        data_train_lvl_1 = self.data_train.copy()\n",
        "        data_val_lvl_1 = self.data_test.copy()\n",
        "\n",
        "        data_train_lvl_2 = data_val_lvl_1.copy()\n",
        "        data_val_lvl_2 = data_val_lvl_1.copy()\n",
        "\n",
        "        result_lvl_1 = data_val_lvl_1.groupby(_CONSTANTS['USER_COL'])[\n",
        "            _CONSTANTS['ITEM_COL']].unique().reset_index()\n",
        "        result_lvl_1.columns = [_CONSTANTS['USER_COL'], _CONSTANTS['ACTUAL_COL']]\n",
        "\n",
        "        users_train = data_train_lvl_1[_CONSTANTS['USER_COL']].tolist()\n",
        "        users_valid = result_lvl_1[_CONSTANTS['USER_COL']].tolist()\n",
        "        new_users = list(set(users_valid) - set(users_train))\n",
        "        all_users = list(set(users_valid) & set(users_train))\n",
        "        result_lvl_1 = result_lvl_1[~result_lvl_1[_CONSTANTS['USER_COL']].isin(new_users)]\n",
        "\n",
        "        # commit instance changes\n",
        "        self.data_train_lvl_1_real = data_train_lvl_1.copy()\n",
        "        self.data_val_lvl_1_real = data_val_lvl_1.copy()\n",
        "        self.data_train_lvl_2_real = data_train_lvl_2.copy()\n",
        "        self.data_val_lvl_2_real = data_val_lvl_2.copy()\n",
        "        self.result_lvl_1_real = result_lvl_1.copy()\n",
        "\n",
        "    def postfilter_items(user_id, recommendations):\n",
        "        pass"
      ],
      "metadata": {
        "id": "cEKBzaxY_aK4"
      },
      "id": "cEKBzaxY_aK4",
      "execution_count": 6,
      "outputs": []
    },
    {
      "cell_type": "code",
      "execution_count": 7,
      "id": "03124ec0-21aa-4e85-b566-bcc32f9a4ebe",
      "metadata": {
        "tags": [],
        "id": "03124ec0-21aa-4e85-b566-bcc32f9a4ebe"
      },
      "outputs": [],
      "source": [
        "data = Dataset()\n",
        "data.data_prefilter()\n",
        "data.data_split()"
      ]
    },
    {
      "cell_type": "markdown",
      "id": "df26de3e-bee1-4bc3-ac28-3e32a206871e",
      "metadata": {
        "id": "df26de3e-bee1-4bc3-ac28-3e32a206871e"
      },
      "source": [
        "# Формирования рекомендаций"
      ]
    },
    {
      "cell_type": "code",
      "execution_count": 8,
      "id": "dfcb36c8-c7d6-477b-bf18-7b547c9a0500",
      "metadata": {
        "colab": {
          "base_uri": "https://localhost:8080/",
          "height": 136,
          "referenced_widgets": [
            "185ce194983f414a8763fea070812edd",
            "aa4e436efdea4f3986320ff67447eaff",
            "3bb25ca0b3c6499fb52816e9c5c18e63",
            "e7821143ca56469e8c61a460f2096bff",
            "3fc19364c90147e1ba2ccb4a0b2fea20",
            "1e8d482941a74fecb8b8ff9f0026db24",
            "46e5a1ee0c0c4eb899aa1ff40db22913",
            "c899ae8d3fa9420788ce864db2015ec8",
            "43589b7c8c15498db0667b161b087bf6",
            "ac890b9c2276473d8309b6071929d3c5",
            "da7136ccfb8847d6bfeadf9df3d7d4e2",
            "bfe36df600a04f81b9e97a0a81e922cc",
            "01d90ac398494f63acb0b0d925f34ff0",
            "ad6e85b760434affac191d66a225c9b5",
            "48b4daaf3c2342e3b7774510798f61a6",
            "a9ae93912bc249da89947f414065ed5a",
            "87f7e1d68201448684a810a1d034f40d",
            "497b9484513d4b0d8445e62fbd10233f",
            "fc272df677fe4010b445620a111002cb",
            "8691589c6d4c4c98b66b41605031f81f",
            "65ce90cf2dbe4c8aac7b56d25e6de879",
            "3ab4c9227f3c4d1dbf99bde5b1c76163"
          ]
        },
        "id": "dfcb36c8-c7d6-477b-bf18-7b547c9a0500",
        "outputId": "6136d300-fa13-4a57-d7f1-6cb6cc58a9cb"
      },
      "outputs": [
        {
          "output_type": "stream",
          "name": "stderr",
          "text": [
            "GPU training requires factor size to be a multiple of 32. Increasing factors from 20 to 32.\n",
            "WARNING:root:OpenBLAS detected. Its highly recommend to set the environment variable 'export OPENBLAS_NUM_THREADS=1' to disable its internal multithreading\n"
          ]
        },
        {
          "output_type": "display_data",
          "data": {
            "text/plain": [
              "  0%|          | 0/15 [00:00<?, ?it/s]"
            ],
            "application/vnd.jupyter.widget-view+json": {
              "version_major": 2,
              "version_minor": 0,
              "model_id": "185ce194983f414a8763fea070812edd"
            }
          },
          "metadata": {}
        },
        {
          "output_type": "display_data",
          "data": {
            "text/plain": [
              "  0%|          | 0/48263 [00:00<?, ?it/s]"
            ],
            "application/vnd.jupyter.widget-view+json": {
              "version_major": 2,
              "version_minor": 0,
              "model_id": "bfe36df600a04f81b9e97a0a81e922cc"
            }
          },
          "metadata": {}
        }
      ],
      "source": [
        "recommender = MainRecommender(data.data_train_lvl_1, gpu=_GPU_ACTION, K1=1, B=0.3)\n",
        "recommender.preprocessing(data, t='train')\n",
        "recommender.preprocessing(data, t='test')"
      ]
    },
    {
      "cell_type": "code",
      "execution_count": 9,
      "id": "1a5ab2c6-83f5-4ba3-80b4-28fa2a6b9b40",
      "metadata": {
        "colab": {
          "base_uri": "https://localhost:8080/",
          "height": 142
        },
        "id": "1a5ab2c6-83f5-4ba3-80b4-28fa2a6b9b40",
        "outputId": "0f85ddf9-0a58-4e47-899d-3ed9ffef0e87"
      },
      "outputs": [
        {
          "output_type": "execute_result",
          "data": {
            "text/plain": [
              "   user_id                                             actual  \\\n",
              "0        1  [853529, 865456, 867607, 872137, 874905, 87524...   \n",
              "\n",
              "                                            own_recs  own_recs_score  \n",
              "0  [940947, 1075074, 9527290, 9655212, 934369, 85...        0.420986  "
            ],
            "text/html": [
              "\n",
              "  <div id=\"df-c7b56639-571d-44a4-b9e0-4932f221c60f\">\n",
              "    <div class=\"colab-df-container\">\n",
              "      <div>\n",
              "<style scoped>\n",
              "    .dataframe tbody tr th:only-of-type {\n",
              "        vertical-align: middle;\n",
              "    }\n",
              "\n",
              "    .dataframe tbody tr th {\n",
              "        vertical-align: top;\n",
              "    }\n",
              "\n",
              "    .dataframe thead th {\n",
              "        text-align: right;\n",
              "    }\n",
              "</style>\n",
              "<table border=\"1\" class=\"dataframe\">\n",
              "  <thead>\n",
              "    <tr style=\"text-align: right;\">\n",
              "      <th></th>\n",
              "      <th>user_id</th>\n",
              "      <th>actual</th>\n",
              "      <th>own_recs</th>\n",
              "      <th>own_recs_score</th>\n",
              "    </tr>\n",
              "  </thead>\n",
              "  <tbody>\n",
              "    <tr>\n",
              "      <th>0</th>\n",
              "      <td>1</td>\n",
              "      <td>[853529, 865456, 867607, 872137, 874905, 87524...</td>\n",
              "      <td>[940947, 1075074, 9527290, 9655212, 934369, 85...</td>\n",
              "      <td>0.420986</td>\n",
              "    </tr>\n",
              "  </tbody>\n",
              "</table>\n",
              "</div>\n",
              "      <button class=\"colab-df-convert\" onclick=\"convertToInteractive('df-c7b56639-571d-44a4-b9e0-4932f221c60f')\"\n",
              "              title=\"Convert this dataframe to an interactive table.\"\n",
              "              style=\"display:none;\">\n",
              "        \n",
              "  <svg xmlns=\"http://www.w3.org/2000/svg\" height=\"24px\"viewBox=\"0 0 24 24\"\n",
              "       width=\"24px\">\n",
              "    <path d=\"M0 0h24v24H0V0z\" fill=\"none\"/>\n",
              "    <path d=\"M18.56 5.44l.94 2.06.94-2.06 2.06-.94-2.06-.94-.94-2.06-.94 2.06-2.06.94zm-11 1L8.5 8.5l.94-2.06 2.06-.94-2.06-.94L8.5 2.5l-.94 2.06-2.06.94zm10 10l.94 2.06.94-2.06 2.06-.94-2.06-.94-.94-2.06-.94 2.06-2.06.94z\"/><path d=\"M17.41 7.96l-1.37-1.37c-.4-.4-.92-.59-1.43-.59-.52 0-1.04.2-1.43.59L10.3 9.45l-7.72 7.72c-.78.78-.78 2.05 0 2.83L4 21.41c.39.39.9.59 1.41.59.51 0 1.02-.2 1.41-.59l7.78-7.78 2.81-2.81c.8-.78.8-2.07 0-2.86zM5.41 20L4 18.59l7.72-7.72 1.47 1.35L5.41 20z\"/>\n",
              "  </svg>\n",
              "      </button>\n",
              "      \n",
              "  <style>\n",
              "    .colab-df-container {\n",
              "      display:flex;\n",
              "      flex-wrap:wrap;\n",
              "      gap: 12px;\n",
              "    }\n",
              "\n",
              "    .colab-df-convert {\n",
              "      background-color: #E8F0FE;\n",
              "      border: none;\n",
              "      border-radius: 50%;\n",
              "      cursor: pointer;\n",
              "      display: none;\n",
              "      fill: #1967D2;\n",
              "      height: 32px;\n",
              "      padding: 0 0 0 0;\n",
              "      width: 32px;\n",
              "    }\n",
              "\n",
              "    .colab-df-convert:hover {\n",
              "      background-color: #E2EBFA;\n",
              "      box-shadow: 0px 1px 2px rgba(60, 64, 67, 0.3), 0px 1px 3px 1px rgba(60, 64, 67, 0.15);\n",
              "      fill: #174EA6;\n",
              "    }\n",
              "\n",
              "    [theme=dark] .colab-df-convert {\n",
              "      background-color: #3B4455;\n",
              "      fill: #D2E3FC;\n",
              "    }\n",
              "\n",
              "    [theme=dark] .colab-df-convert:hover {\n",
              "      background-color: #434B5C;\n",
              "      box-shadow: 0px 1px 3px 1px rgba(0, 0, 0, 0.15);\n",
              "      filter: drop-shadow(0px 1px 2px rgba(0, 0, 0, 0.3));\n",
              "      fill: #FFFFFF;\n",
              "    }\n",
              "  </style>\n",
              "\n",
              "      <script>\n",
              "        const buttonEl =\n",
              "          document.querySelector('#df-c7b56639-571d-44a4-b9e0-4932f221c60f button.colab-df-convert');\n",
              "        buttonEl.style.display =\n",
              "          google.colab.kernel.accessAllowed ? 'block' : 'none';\n",
              "\n",
              "        async function convertToInteractive(key) {\n",
              "          const element = document.querySelector('#df-c7b56639-571d-44a4-b9e0-4932f221c60f');\n",
              "          const dataTable =\n",
              "            await google.colab.kernel.invokeFunction('convertToInteractive',\n",
              "                                                     [key], {});\n",
              "          if (!dataTable) return;\n",
              "\n",
              "          const docLinkHtml = 'Like what you see? Visit the ' +\n",
              "            '<a target=\"_blank\" href=https://colab.research.google.com/notebooks/data_table.ipynb>data table notebook</a>'\n",
              "            + ' to learn more about interactive tables.';\n",
              "          element.innerHTML = '';\n",
              "          dataTable['output_type'] = 'display_data';\n",
              "          await google.colab.output.renderOutput(dataTable, element);\n",
              "          const docLink = document.createElement('div');\n",
              "          docLink.innerHTML = docLinkHtml;\n",
              "          element.appendChild(docLink);\n",
              "        }\n",
              "      </script>\n",
              "    </div>\n",
              "  </div>\n",
              "  "
            ]
          },
          "metadata": {},
          "execution_count": 9
        }
      ],
      "source": [
        "recommender.recommend_1lvl(data.result_lvl_1).head(1)"
      ]
    },
    {
      "cell_type": "markdown",
      "id": "68de4dd6-39e5-48e4-bea9-5fb5e481d93c",
      "metadata": {
        "id": "68de4dd6-39e5-48e4-bea9-5fb5e481d93c"
      },
      "source": [
        "# Ранжирования полученных рекомендаций \n"
      ]
    },
    {
      "cell_type": "code",
      "execution_count": 10,
      "id": "cc6f1add-716d-42a3-a731-dd554e51796e",
      "metadata": {
        "colab": {
          "base_uri": "https://localhost:8080/",
          "height": 17,
          "referenced_widgets": [
            "53f6946e2f75456e9ff7c96cdabb7ea5"
          ]
        },
        "id": "cc6f1add-716d-42a3-a731-dd554e51796e",
        "outputId": "84a4d690-0caf-4f5a-bd9b-088e5c44eb15"
      },
      "outputs": [
        {
          "output_type": "display_data",
          "data": {
            "text/plain": [
              "MetricVisualizer(layout=Layout(align_self='stretch', height='500px'))"
            ],
            "application/vnd.jupyter.widget-view+json": {
              "version_major": 2,
              "version_minor": 0,
              "model_id": "53f6946e2f75456e9ff7c96cdabb7ea5"
            }
          },
          "metadata": {}
        }
      ],
      "source": [
        "recommender.ranker_fit()"
      ]
    },
    {
      "cell_type": "code",
      "execution_count": 11,
      "id": "a485e6dc-dcf0-4ad8-990f-dfb7ff53bdc2",
      "metadata": {
        "colab": {
          "base_uri": "https://localhost:8080/",
          "height": 288
        },
        "id": "a485e6dc-dcf0-4ad8-990f-dfb7ff53bdc2",
        "outputId": "ce477fb3-b19a-4283-e8b9-60e8f9ae1319"
      },
      "outputs": [
        {
          "output_type": "execute_result",
          "data": {
            "text/plain": [
              "   user_id  item_id  manufacturer  brand  commodity_type  household_size_desc  \\\n",
              "0     1364  1007136             2      0             215                    1   \n",
              "1     1364   857055           560      0             124                    1   \n",
              "2     1364  1135834           910      0              17                    1   \n",
              "3     1364   856252           988      0              40                    1   \n",
              "4     1364  1122115           194      0              38                    1   \n",
              "\n",
              "   kid_category_desc   age  income  has_kids  adults_num  Homeowner  \\\n",
              "0                  0  75.0   112.0       0.0         1.0          1   \n",
              "1                  0  75.0   112.0       0.0         1.0          1   \n",
              "2                  0  75.0   112.0       0.0         1.0          1   \n",
              "3                  0  75.0   112.0       0.0         1.0          1   \n",
              "4                  0  75.0   112.0       0.0         1.0          1   \n",
              "\n",
              "   Probable Owner  Probable Renter  Renter  Unknown  A  B  U   predict  \n",
              "0               0                0       0        0  0  1  0  0.872931  \n",
              "1               0                0       0        0  0  1  0  0.670283  \n",
              "2               0                0       0        0  0  1  0  0.767965  \n",
              "3               0                0       0        0  0  1  0  0.628438  \n",
              "4               0                0       0        0  0  1  0  0.642874  "
            ],
            "text/html": [
              "\n",
              "  <div id=\"df-5f3dcfbc-f393-434a-b3d9-86cb6e0d1165\">\n",
              "    <div class=\"colab-df-container\">\n",
              "      <div>\n",
              "<style scoped>\n",
              "    .dataframe tbody tr th:only-of-type {\n",
              "        vertical-align: middle;\n",
              "    }\n",
              "\n",
              "    .dataframe tbody tr th {\n",
              "        vertical-align: top;\n",
              "    }\n",
              "\n",
              "    .dataframe thead th {\n",
              "        text-align: right;\n",
              "    }\n",
              "</style>\n",
              "<table border=\"1\" class=\"dataframe\">\n",
              "  <thead>\n",
              "    <tr style=\"text-align: right;\">\n",
              "      <th></th>\n",
              "      <th>user_id</th>\n",
              "      <th>item_id</th>\n",
              "      <th>manufacturer</th>\n",
              "      <th>brand</th>\n",
              "      <th>commodity_type</th>\n",
              "      <th>household_size_desc</th>\n",
              "      <th>kid_category_desc</th>\n",
              "      <th>age</th>\n",
              "      <th>income</th>\n",
              "      <th>has_kids</th>\n",
              "      <th>adults_num</th>\n",
              "      <th>Homeowner</th>\n",
              "      <th>Probable Owner</th>\n",
              "      <th>Probable Renter</th>\n",
              "      <th>Renter</th>\n",
              "      <th>Unknown</th>\n",
              "      <th>A</th>\n",
              "      <th>B</th>\n",
              "      <th>U</th>\n",
              "      <th>predict</th>\n",
              "    </tr>\n",
              "  </thead>\n",
              "  <tbody>\n",
              "    <tr>\n",
              "      <th>0</th>\n",
              "      <td>1364</td>\n",
              "      <td>1007136</td>\n",
              "      <td>2</td>\n",
              "      <td>0</td>\n",
              "      <td>215</td>\n",
              "      <td>1</td>\n",
              "      <td>0</td>\n",
              "      <td>75.0</td>\n",
              "      <td>112.0</td>\n",
              "      <td>0.0</td>\n",
              "      <td>1.0</td>\n",
              "      <td>1</td>\n",
              "      <td>0</td>\n",
              "      <td>0</td>\n",
              "      <td>0</td>\n",
              "      <td>0</td>\n",
              "      <td>0</td>\n",
              "      <td>1</td>\n",
              "      <td>0</td>\n",
              "      <td>0.872931</td>\n",
              "    </tr>\n",
              "    <tr>\n",
              "      <th>1</th>\n",
              "      <td>1364</td>\n",
              "      <td>857055</td>\n",
              "      <td>560</td>\n",
              "      <td>0</td>\n",
              "      <td>124</td>\n",
              "      <td>1</td>\n",
              "      <td>0</td>\n",
              "      <td>75.0</td>\n",
              "      <td>112.0</td>\n",
              "      <td>0.0</td>\n",
              "      <td>1.0</td>\n",
              "      <td>1</td>\n",
              "      <td>0</td>\n",
              "      <td>0</td>\n",
              "      <td>0</td>\n",
              "      <td>0</td>\n",
              "      <td>0</td>\n",
              "      <td>1</td>\n",
              "      <td>0</td>\n",
              "      <td>0.670283</td>\n",
              "    </tr>\n",
              "    <tr>\n",
              "      <th>2</th>\n",
              "      <td>1364</td>\n",
              "      <td>1135834</td>\n",
              "      <td>910</td>\n",
              "      <td>0</td>\n",
              "      <td>17</td>\n",
              "      <td>1</td>\n",
              "      <td>0</td>\n",
              "      <td>75.0</td>\n",
              "      <td>112.0</td>\n",
              "      <td>0.0</td>\n",
              "      <td>1.0</td>\n",
              "      <td>1</td>\n",
              "      <td>0</td>\n",
              "      <td>0</td>\n",
              "      <td>0</td>\n",
              "      <td>0</td>\n",
              "      <td>0</td>\n",
              "      <td>1</td>\n",
              "      <td>0</td>\n",
              "      <td>0.767965</td>\n",
              "    </tr>\n",
              "    <tr>\n",
              "      <th>3</th>\n",
              "      <td>1364</td>\n",
              "      <td>856252</td>\n",
              "      <td>988</td>\n",
              "      <td>0</td>\n",
              "      <td>40</td>\n",
              "      <td>1</td>\n",
              "      <td>0</td>\n",
              "      <td>75.0</td>\n",
              "      <td>112.0</td>\n",
              "      <td>0.0</td>\n",
              "      <td>1.0</td>\n",
              "      <td>1</td>\n",
              "      <td>0</td>\n",
              "      <td>0</td>\n",
              "      <td>0</td>\n",
              "      <td>0</td>\n",
              "      <td>0</td>\n",
              "      <td>1</td>\n",
              "      <td>0</td>\n",
              "      <td>0.628438</td>\n",
              "    </tr>\n",
              "    <tr>\n",
              "      <th>4</th>\n",
              "      <td>1364</td>\n",
              "      <td>1122115</td>\n",
              "      <td>194</td>\n",
              "      <td>0</td>\n",
              "      <td>38</td>\n",
              "      <td>1</td>\n",
              "      <td>0</td>\n",
              "      <td>75.0</td>\n",
              "      <td>112.0</td>\n",
              "      <td>0.0</td>\n",
              "      <td>1.0</td>\n",
              "      <td>1</td>\n",
              "      <td>0</td>\n",
              "      <td>0</td>\n",
              "      <td>0</td>\n",
              "      <td>0</td>\n",
              "      <td>0</td>\n",
              "      <td>1</td>\n",
              "      <td>0</td>\n",
              "      <td>0.642874</td>\n",
              "    </tr>\n",
              "  </tbody>\n",
              "</table>\n",
              "</div>\n",
              "      <button class=\"colab-df-convert\" onclick=\"convertToInteractive('df-5f3dcfbc-f393-434a-b3d9-86cb6e0d1165')\"\n",
              "              title=\"Convert this dataframe to an interactive table.\"\n",
              "              style=\"display:none;\">\n",
              "        \n",
              "  <svg xmlns=\"http://www.w3.org/2000/svg\" height=\"24px\"viewBox=\"0 0 24 24\"\n",
              "       width=\"24px\">\n",
              "    <path d=\"M0 0h24v24H0V0z\" fill=\"none\"/>\n",
              "    <path d=\"M18.56 5.44l.94 2.06.94-2.06 2.06-.94-2.06-.94-.94-2.06-.94 2.06-2.06.94zm-11 1L8.5 8.5l.94-2.06 2.06-.94-2.06-.94L8.5 2.5l-.94 2.06-2.06.94zm10 10l.94 2.06.94-2.06 2.06-.94-2.06-.94-.94-2.06-.94 2.06-2.06.94z\"/><path d=\"M17.41 7.96l-1.37-1.37c-.4-.4-.92-.59-1.43-.59-.52 0-1.04.2-1.43.59L10.3 9.45l-7.72 7.72c-.78.78-.78 2.05 0 2.83L4 21.41c.39.39.9.59 1.41.59.51 0 1.02-.2 1.41-.59l7.78-7.78 2.81-2.81c.8-.78.8-2.07 0-2.86zM5.41 20L4 18.59l7.72-7.72 1.47 1.35L5.41 20z\"/>\n",
              "  </svg>\n",
              "      </button>\n",
              "      \n",
              "  <style>\n",
              "    .colab-df-container {\n",
              "      display:flex;\n",
              "      flex-wrap:wrap;\n",
              "      gap: 12px;\n",
              "    }\n",
              "\n",
              "    .colab-df-convert {\n",
              "      background-color: #E8F0FE;\n",
              "      border: none;\n",
              "      border-radius: 50%;\n",
              "      cursor: pointer;\n",
              "      display: none;\n",
              "      fill: #1967D2;\n",
              "      height: 32px;\n",
              "      padding: 0 0 0 0;\n",
              "      width: 32px;\n",
              "    }\n",
              "\n",
              "    .colab-df-convert:hover {\n",
              "      background-color: #E2EBFA;\n",
              "      box-shadow: 0px 1px 2px rgba(60, 64, 67, 0.3), 0px 1px 3px 1px rgba(60, 64, 67, 0.15);\n",
              "      fill: #174EA6;\n",
              "    }\n",
              "\n",
              "    [theme=dark] .colab-df-convert {\n",
              "      background-color: #3B4455;\n",
              "      fill: #D2E3FC;\n",
              "    }\n",
              "\n",
              "    [theme=dark] .colab-df-convert:hover {\n",
              "      background-color: #434B5C;\n",
              "      box-shadow: 0px 1px 3px 1px rgba(0, 0, 0, 0.15);\n",
              "      filter: drop-shadow(0px 1px 2px rgba(0, 0, 0, 0.3));\n",
              "      fill: #FFFFFF;\n",
              "    }\n",
              "  </style>\n",
              "\n",
              "      <script>\n",
              "        const buttonEl =\n",
              "          document.querySelector('#df-5f3dcfbc-f393-434a-b3d9-86cb6e0d1165 button.colab-df-convert');\n",
              "        buttonEl.style.display =\n",
              "          google.colab.kernel.accessAllowed ? 'block' : 'none';\n",
              "\n",
              "        async function convertToInteractive(key) {\n",
              "          const element = document.querySelector('#df-5f3dcfbc-f393-434a-b3d9-86cb6e0d1165');\n",
              "          const dataTable =\n",
              "            await google.colab.kernel.invokeFunction('convertToInteractive',\n",
              "                                                     [key], {});\n",
              "          if (!dataTable) return;\n",
              "\n",
              "          const docLinkHtml = 'Like what you see? Visit the ' +\n",
              "            '<a target=\"_blank\" href=https://colab.research.google.com/notebooks/data_table.ipynb>data table notebook</a>'\n",
              "            + ' to learn more about interactive tables.';\n",
              "          element.innerHTML = '';\n",
              "          dataTable['output_type'] = 'display_data';\n",
              "          await google.colab.output.renderOutput(dataTable, element);\n",
              "          const docLink = document.createElement('div');\n",
              "          docLink.innerHTML = docLinkHtml;\n",
              "          element.appendChild(docLink);\n",
              "        }\n",
              "      </script>\n",
              "    </div>\n",
              "  </div>\n",
              "  "
            ]
          },
          "metadata": {},
          "execution_count": 11
        }
      ],
      "source": [
        "recommender.ranker_predict(recommender.X_train).head()"
      ]
    },
    {
      "cell_type": "markdown",
      "id": "90466797-4cb0-4cd7-b510-7470af2f1f5d",
      "metadata": {
        "id": "90466797-4cb0-4cd7-b510-7470af2f1f5d"
      },
      "source": [
        "# Оценка результатов"
      ]
    },
    {
      "cell_type": "code",
      "execution_count": 12,
      "id": "fa842559-2eb2-4b48-aabb-1241f61c39aa",
      "metadata": {
        "colab": {
          "base_uri": "https://localhost:8080/"
        },
        "id": "fa842559-2eb2-4b48-aabb-1241f61c39aa",
        "outputId": "23d745df-179e-4df9-b4d5-e6db1bb43b95"
      },
      "outputs": [
        {
          "output_type": "stream",
          "name": "stderr",
          "text": [
            "/usr/local/lib/python3.7/dist-packages/numpy/lib/arraysetops.py:608: FutureWarning: elementwise comparison failed; returning scalar instead, but in the future will perform elementwise comparison\n",
            "  mask |= (ar1 == a)\n"
          ]
        },
        {
          "output_type": "stream",
          "name": "stdout",
          "text": [
            "precision@5 of 2lvl-model is 0.27015706806282724\n"
          ]
        }
      ],
      "source": [
        "recommender.evaluate_2models()"
      ]
    },
    {
      "cell_type": "markdown",
      "id": "22d97bd7-e90e-4b47-bf4f-b202216ae655",
      "metadata": {
        "id": "22d97bd7-e90e-4b47-bf4f-b202216ae655"
      },
      "source": [
        "# Предсказываем по тестовым данным"
      ]
    },
    {
      "cell_type": "code",
      "execution_count": 13,
      "id": "1753279d-a759-4312-84cc-a061fe6c7f6a",
      "metadata": {
        "colab": {
          "base_uri": "https://localhost:8080/",
          "height": 188,
          "referenced_widgets": [
            "11d8abd93d2d4b00b05fbba366706854",
            "a0c9874a8cad4346a444f2c7f4b675c8",
            "66135b9c4c16427cb37947614cca0e82",
            "25026883c8ef4009a9519a2fce4fdcb0",
            "3d06cead5d9846d6a9982ed15a76edf2",
            "89a2b22c93af4716a3c971c894455065",
            "c481ae282b3d4af9b2b5bda17a801290",
            "094e85e7866549d18e74857946318bc8",
            "396ca40106e0487189c5ad864c09acca",
            "2fcee6e65cb54c80bd1fc5fe2cd84a6f",
            "d34e9fc1b74d4361af7ae199d01471e6",
            "347a8f9b48e74cfca59467e1970ed55a",
            "011598ef76d648e3b1ff459ccad8ffab",
            "8b48d1869bab4f4eae800f24644bdb90",
            "ad520dee758e44d191d409c99d687b46",
            "fe4b962fae6f49778b661e36bdb0bd3d",
            "cc8cb42ce9da4fb39a9f390552244d8f",
            "1ee042f526074374973cdbb74bd29c9e",
            "4c55f69f3ff94fc68ea071e8a1eb1fdb",
            "85899667b9b744699103c1b8296572a5",
            "afab0dcd5f354c25a24feb79015c6386",
            "0ac988160e83453797c8ed00e69293c8",
            "24799f9f76d14c74a54f59f314867b3a"
          ]
        },
        "id": "1753279d-a759-4312-84cc-a061fe6c7f6a",
        "outputId": "6012f5b2-b2ee-43c8-cac5-55f87737346d"
      },
      "outputs": [
        {
          "output_type": "stream",
          "name": "stderr",
          "text": [
            "WARNING:implicit:GPU training requires factor size to be a multiple of 32. Increasing factors from 20 to 32.\n"
          ]
        },
        {
          "output_type": "display_data",
          "data": {
            "text/plain": [
              "  0%|          | 0/15 [00:00<?, ?it/s]"
            ],
            "application/vnd.jupyter.widget-view+json": {
              "version_major": 2,
              "version_minor": 0,
              "model_id": "11d8abd93d2d4b00b05fbba366706854"
            }
          },
          "metadata": {}
        },
        {
          "output_type": "display_data",
          "data": {
            "text/plain": [
              "  0%|          | 0/52244 [00:00<?, ?it/s]"
            ],
            "application/vnd.jupyter.widget-view+json": {
              "version_major": 2,
              "version_minor": 0,
              "model_id": "347a8f9b48e74cfca59467e1970ed55a"
            }
          },
          "metadata": {}
        },
        {
          "output_type": "display_data",
          "data": {
            "text/plain": [
              "MetricVisualizer(layout=Layout(align_self='stretch', height='500px'))"
            ],
            "application/vnd.jupyter.widget-view+json": {
              "version_major": 2,
              "version_minor": 0,
              "model_id": "24799f9f76d14c74a54f59f314867b3a"
            }
          },
          "metadata": {}
        },
        {
          "output_type": "stream",
          "name": "stderr",
          "text": [
            "/usr/local/lib/python3.7/dist-packages/numpy/lib/arraysetops.py:608: FutureWarning: elementwise comparison failed; returning scalar instead, but in the future will perform elementwise comparison\n",
            "  mask |= (ar1 == a)\n"
          ]
        },
        {
          "output_type": "stream",
          "name": "stdout",
          "text": [
            "precision@5 of 2lvl-model is 0.3165775401069519\n",
            "Файл с результатами сохранен.\n"
          ]
        }
      ],
      "source": [
        "data.data_test_split()\n",
        "recommender = MainRecommender(data.data_train_lvl_1_real, gpu=_GPU_ACTION, K1=1, B=0.3)\n",
        "recommender.preprocessing(data, t='train', training=False)\n",
        "recommender.preprocessing(data, t='test', training=False)\n",
        "recommender.ranker_fit(training=False)\n",
        "recommender.evaluate_2models(training=False)"
      ]
    }
  ],
  "metadata": {
    "kernelspec": {
      "display_name": "Python 3",
      "name": "python3"
    },
    "language_info": {
      "name": "python"
    },
    "colab": {
      "name": "gb-hw-8_curs.ipynb",
      "provenance": []
    },
    "gpuClass": "standard",
    "accelerator": "GPU",
    "widgets": {
      "application/vnd.jupyter.widget-state+json": {
        "185ce194983f414a8763fea070812edd": {
          "model_module": "@jupyter-widgets/controls",
          "model_name": "HBoxModel",
          "model_module_version": "1.5.0",
          "state": {
            "_dom_classes": [],
            "_model_module": "@jupyter-widgets/controls",
            "_model_module_version": "1.5.0",
            "_model_name": "HBoxModel",
            "_view_count": null,
            "_view_module": "@jupyter-widgets/controls",
            "_view_module_version": "1.5.0",
            "_view_name": "HBoxView",
            "box_style": "",
            "children": [
              "IPY_MODEL_aa4e436efdea4f3986320ff67447eaff",
              "IPY_MODEL_3bb25ca0b3c6499fb52816e9c5c18e63",
              "IPY_MODEL_e7821143ca56469e8c61a460f2096bff"
            ],
            "layout": "IPY_MODEL_3fc19364c90147e1ba2ccb4a0b2fea20"
          }
        },
        "aa4e436efdea4f3986320ff67447eaff": {
          "model_module": "@jupyter-widgets/controls",
          "model_name": "HTMLModel",
          "model_module_version": "1.5.0",
          "state": {
            "_dom_classes": [],
            "_model_module": "@jupyter-widgets/controls",
            "_model_module_version": "1.5.0",
            "_model_name": "HTMLModel",
            "_view_count": null,
            "_view_module": "@jupyter-widgets/controls",
            "_view_module_version": "1.5.0",
            "_view_name": "HTMLView",
            "description": "",
            "description_tooltip": null,
            "layout": "IPY_MODEL_1e8d482941a74fecb8b8ff9f0026db24",
            "placeholder": "​",
            "style": "IPY_MODEL_46e5a1ee0c0c4eb899aa1ff40db22913",
            "value": "100%"
          }
        },
        "3bb25ca0b3c6499fb52816e9c5c18e63": {
          "model_module": "@jupyter-widgets/controls",
          "model_name": "FloatProgressModel",
          "model_module_version": "1.5.0",
          "state": {
            "_dom_classes": [],
            "_model_module": "@jupyter-widgets/controls",
            "_model_module_version": "1.5.0",
            "_model_name": "FloatProgressModel",
            "_view_count": null,
            "_view_module": "@jupyter-widgets/controls",
            "_view_module_version": "1.5.0",
            "_view_name": "ProgressView",
            "bar_style": "success",
            "description": "",
            "description_tooltip": null,
            "layout": "IPY_MODEL_c899ae8d3fa9420788ce864db2015ec8",
            "max": 15,
            "min": 0,
            "orientation": "horizontal",
            "style": "IPY_MODEL_43589b7c8c15498db0667b161b087bf6",
            "value": 15
          }
        },
        "e7821143ca56469e8c61a460f2096bff": {
          "model_module": "@jupyter-widgets/controls",
          "model_name": "HTMLModel",
          "model_module_version": "1.5.0",
          "state": {
            "_dom_classes": [],
            "_model_module": "@jupyter-widgets/controls",
            "_model_module_version": "1.5.0",
            "_model_name": "HTMLModel",
            "_view_count": null,
            "_view_module": "@jupyter-widgets/controls",
            "_view_module_version": "1.5.0",
            "_view_name": "HTMLView",
            "description": "",
            "description_tooltip": null,
            "layout": "IPY_MODEL_ac890b9c2276473d8309b6071929d3c5",
            "placeholder": "​",
            "style": "IPY_MODEL_da7136ccfb8847d6bfeadf9df3d7d4e2",
            "value": " 15/15 [00:00&lt;00:00, 41.20it/s]"
          }
        },
        "3fc19364c90147e1ba2ccb4a0b2fea20": {
          "model_module": "@jupyter-widgets/base",
          "model_name": "LayoutModel",
          "model_module_version": "1.2.0",
          "state": {
            "_model_module": "@jupyter-widgets/base",
            "_model_module_version": "1.2.0",
            "_model_name": "LayoutModel",
            "_view_count": null,
            "_view_module": "@jupyter-widgets/base",
            "_view_module_version": "1.2.0",
            "_view_name": "LayoutView",
            "align_content": null,
            "align_items": null,
            "align_self": null,
            "border": null,
            "bottom": null,
            "display": null,
            "flex": null,
            "flex_flow": null,
            "grid_area": null,
            "grid_auto_columns": null,
            "grid_auto_flow": null,
            "grid_auto_rows": null,
            "grid_column": null,
            "grid_gap": null,
            "grid_row": null,
            "grid_template_areas": null,
            "grid_template_columns": null,
            "grid_template_rows": null,
            "height": null,
            "justify_content": null,
            "justify_items": null,
            "left": null,
            "margin": null,
            "max_height": null,
            "max_width": null,
            "min_height": null,
            "min_width": null,
            "object_fit": null,
            "object_position": null,
            "order": null,
            "overflow": null,
            "overflow_x": null,
            "overflow_y": null,
            "padding": null,
            "right": null,
            "top": null,
            "visibility": null,
            "width": null
          }
        },
        "1e8d482941a74fecb8b8ff9f0026db24": {
          "model_module": "@jupyter-widgets/base",
          "model_name": "LayoutModel",
          "model_module_version": "1.2.0",
          "state": {
            "_model_module": "@jupyter-widgets/base",
            "_model_module_version": "1.2.0",
            "_model_name": "LayoutModel",
            "_view_count": null,
            "_view_module": "@jupyter-widgets/base",
            "_view_module_version": "1.2.0",
            "_view_name": "LayoutView",
            "align_content": null,
            "align_items": null,
            "align_self": null,
            "border": null,
            "bottom": null,
            "display": null,
            "flex": null,
            "flex_flow": null,
            "grid_area": null,
            "grid_auto_columns": null,
            "grid_auto_flow": null,
            "grid_auto_rows": null,
            "grid_column": null,
            "grid_gap": null,
            "grid_row": null,
            "grid_template_areas": null,
            "grid_template_columns": null,
            "grid_template_rows": null,
            "height": null,
            "justify_content": null,
            "justify_items": null,
            "left": null,
            "margin": null,
            "max_height": null,
            "max_width": null,
            "min_height": null,
            "min_width": null,
            "object_fit": null,
            "object_position": null,
            "order": null,
            "overflow": null,
            "overflow_x": null,
            "overflow_y": null,
            "padding": null,
            "right": null,
            "top": null,
            "visibility": null,
            "width": null
          }
        },
        "46e5a1ee0c0c4eb899aa1ff40db22913": {
          "model_module": "@jupyter-widgets/controls",
          "model_name": "DescriptionStyleModel",
          "model_module_version": "1.5.0",
          "state": {
            "_model_module": "@jupyter-widgets/controls",
            "_model_module_version": "1.5.0",
            "_model_name": "DescriptionStyleModel",
            "_view_count": null,
            "_view_module": "@jupyter-widgets/base",
            "_view_module_version": "1.2.0",
            "_view_name": "StyleView",
            "description_width": ""
          }
        },
        "c899ae8d3fa9420788ce864db2015ec8": {
          "model_module": "@jupyter-widgets/base",
          "model_name": "LayoutModel",
          "model_module_version": "1.2.0",
          "state": {
            "_model_module": "@jupyter-widgets/base",
            "_model_module_version": "1.2.0",
            "_model_name": "LayoutModel",
            "_view_count": null,
            "_view_module": "@jupyter-widgets/base",
            "_view_module_version": "1.2.0",
            "_view_name": "LayoutView",
            "align_content": null,
            "align_items": null,
            "align_self": null,
            "border": null,
            "bottom": null,
            "display": null,
            "flex": null,
            "flex_flow": null,
            "grid_area": null,
            "grid_auto_columns": null,
            "grid_auto_flow": null,
            "grid_auto_rows": null,
            "grid_column": null,
            "grid_gap": null,
            "grid_row": null,
            "grid_template_areas": null,
            "grid_template_columns": null,
            "grid_template_rows": null,
            "height": null,
            "justify_content": null,
            "justify_items": null,
            "left": null,
            "margin": null,
            "max_height": null,
            "max_width": null,
            "min_height": null,
            "min_width": null,
            "object_fit": null,
            "object_position": null,
            "order": null,
            "overflow": null,
            "overflow_x": null,
            "overflow_y": null,
            "padding": null,
            "right": null,
            "top": null,
            "visibility": null,
            "width": null
          }
        },
        "43589b7c8c15498db0667b161b087bf6": {
          "model_module": "@jupyter-widgets/controls",
          "model_name": "ProgressStyleModel",
          "model_module_version": "1.5.0",
          "state": {
            "_model_module": "@jupyter-widgets/controls",
            "_model_module_version": "1.5.0",
            "_model_name": "ProgressStyleModel",
            "_view_count": null,
            "_view_module": "@jupyter-widgets/base",
            "_view_module_version": "1.2.0",
            "_view_name": "StyleView",
            "bar_color": null,
            "description_width": ""
          }
        },
        "ac890b9c2276473d8309b6071929d3c5": {
          "model_module": "@jupyter-widgets/base",
          "model_name": "LayoutModel",
          "model_module_version": "1.2.0",
          "state": {
            "_model_module": "@jupyter-widgets/base",
            "_model_module_version": "1.2.0",
            "_model_name": "LayoutModel",
            "_view_count": null,
            "_view_module": "@jupyter-widgets/base",
            "_view_module_version": "1.2.0",
            "_view_name": "LayoutView",
            "align_content": null,
            "align_items": null,
            "align_self": null,
            "border": null,
            "bottom": null,
            "display": null,
            "flex": null,
            "flex_flow": null,
            "grid_area": null,
            "grid_auto_columns": null,
            "grid_auto_flow": null,
            "grid_auto_rows": null,
            "grid_column": null,
            "grid_gap": null,
            "grid_row": null,
            "grid_template_areas": null,
            "grid_template_columns": null,
            "grid_template_rows": null,
            "height": null,
            "justify_content": null,
            "justify_items": null,
            "left": null,
            "margin": null,
            "max_height": null,
            "max_width": null,
            "min_height": null,
            "min_width": null,
            "object_fit": null,
            "object_position": null,
            "order": null,
            "overflow": null,
            "overflow_x": null,
            "overflow_y": null,
            "padding": null,
            "right": null,
            "top": null,
            "visibility": null,
            "width": null
          }
        },
        "da7136ccfb8847d6bfeadf9df3d7d4e2": {
          "model_module": "@jupyter-widgets/controls",
          "model_name": "DescriptionStyleModel",
          "model_module_version": "1.5.0",
          "state": {
            "_model_module": "@jupyter-widgets/controls",
            "_model_module_version": "1.5.0",
            "_model_name": "DescriptionStyleModel",
            "_view_count": null,
            "_view_module": "@jupyter-widgets/base",
            "_view_module_version": "1.2.0",
            "_view_name": "StyleView",
            "description_width": ""
          }
        },
        "bfe36df600a04f81b9e97a0a81e922cc": {
          "model_module": "@jupyter-widgets/controls",
          "model_name": "HBoxModel",
          "model_module_version": "1.5.0",
          "state": {
            "_dom_classes": [],
            "_model_module": "@jupyter-widgets/controls",
            "_model_module_version": "1.5.0",
            "_model_name": "HBoxModel",
            "_view_count": null,
            "_view_module": "@jupyter-widgets/controls",
            "_view_module_version": "1.5.0",
            "_view_name": "HBoxView",
            "box_style": "",
            "children": [
              "IPY_MODEL_01d90ac398494f63acb0b0d925f34ff0",
              "IPY_MODEL_ad6e85b760434affac191d66a225c9b5",
              "IPY_MODEL_48b4daaf3c2342e3b7774510798f61a6"
            ],
            "layout": "IPY_MODEL_a9ae93912bc249da89947f414065ed5a"
          }
        },
        "01d90ac398494f63acb0b0d925f34ff0": {
          "model_module": "@jupyter-widgets/controls",
          "model_name": "HTMLModel",
          "model_module_version": "1.5.0",
          "state": {
            "_dom_classes": [],
            "_model_module": "@jupyter-widgets/controls",
            "_model_module_version": "1.5.0",
            "_model_name": "HTMLModel",
            "_view_count": null,
            "_view_module": "@jupyter-widgets/controls",
            "_view_module_version": "1.5.0",
            "_view_name": "HTMLView",
            "description": "",
            "description_tooltip": null,
            "layout": "IPY_MODEL_87f7e1d68201448684a810a1d034f40d",
            "placeholder": "​",
            "style": "IPY_MODEL_497b9484513d4b0d8445e62fbd10233f",
            "value": "100%"
          }
        },
        "ad6e85b760434affac191d66a225c9b5": {
          "model_module": "@jupyter-widgets/controls",
          "model_name": "FloatProgressModel",
          "model_module_version": "1.5.0",
          "state": {
            "_dom_classes": [],
            "_model_module": "@jupyter-widgets/controls",
            "_model_module_version": "1.5.0",
            "_model_name": "FloatProgressModel",
            "_view_count": null,
            "_view_module": "@jupyter-widgets/controls",
            "_view_module_version": "1.5.0",
            "_view_name": "ProgressView",
            "bar_style": "success",
            "description": "",
            "description_tooltip": null,
            "layout": "IPY_MODEL_fc272df677fe4010b445620a111002cb",
            "max": 48263,
            "min": 0,
            "orientation": "horizontal",
            "style": "IPY_MODEL_8691589c6d4c4c98b66b41605031f81f",
            "value": 48263
          }
        },
        "48b4daaf3c2342e3b7774510798f61a6": {
          "model_module": "@jupyter-widgets/controls",
          "model_name": "HTMLModel",
          "model_module_version": "1.5.0",
          "state": {
            "_dom_classes": [],
            "_model_module": "@jupyter-widgets/controls",
            "_model_module_version": "1.5.0",
            "_model_name": "HTMLModel",
            "_view_count": null,
            "_view_module": "@jupyter-widgets/controls",
            "_view_module_version": "1.5.0",
            "_view_name": "HTMLView",
            "description": "",
            "description_tooltip": null,
            "layout": "IPY_MODEL_65ce90cf2dbe4c8aac7b56d25e6de879",
            "placeholder": "​",
            "style": "IPY_MODEL_3ab4c9227f3c4d1dbf99bde5b1c76163",
            "value": " 48263/48263 [00:04&lt;00:00, 15393.28it/s]"
          }
        },
        "a9ae93912bc249da89947f414065ed5a": {
          "model_module": "@jupyter-widgets/base",
          "model_name": "LayoutModel",
          "model_module_version": "1.2.0",
          "state": {
            "_model_module": "@jupyter-widgets/base",
            "_model_module_version": "1.2.0",
            "_model_name": "LayoutModel",
            "_view_count": null,
            "_view_module": "@jupyter-widgets/base",
            "_view_module_version": "1.2.0",
            "_view_name": "LayoutView",
            "align_content": null,
            "align_items": null,
            "align_self": null,
            "border": null,
            "bottom": null,
            "display": null,
            "flex": null,
            "flex_flow": null,
            "grid_area": null,
            "grid_auto_columns": null,
            "grid_auto_flow": null,
            "grid_auto_rows": null,
            "grid_column": null,
            "grid_gap": null,
            "grid_row": null,
            "grid_template_areas": null,
            "grid_template_columns": null,
            "grid_template_rows": null,
            "height": null,
            "justify_content": null,
            "justify_items": null,
            "left": null,
            "margin": null,
            "max_height": null,
            "max_width": null,
            "min_height": null,
            "min_width": null,
            "object_fit": null,
            "object_position": null,
            "order": null,
            "overflow": null,
            "overflow_x": null,
            "overflow_y": null,
            "padding": null,
            "right": null,
            "top": null,
            "visibility": null,
            "width": null
          }
        },
        "87f7e1d68201448684a810a1d034f40d": {
          "model_module": "@jupyter-widgets/base",
          "model_name": "LayoutModel",
          "model_module_version": "1.2.0",
          "state": {
            "_model_module": "@jupyter-widgets/base",
            "_model_module_version": "1.2.0",
            "_model_name": "LayoutModel",
            "_view_count": null,
            "_view_module": "@jupyter-widgets/base",
            "_view_module_version": "1.2.0",
            "_view_name": "LayoutView",
            "align_content": null,
            "align_items": null,
            "align_self": null,
            "border": null,
            "bottom": null,
            "display": null,
            "flex": null,
            "flex_flow": null,
            "grid_area": null,
            "grid_auto_columns": null,
            "grid_auto_flow": null,
            "grid_auto_rows": null,
            "grid_column": null,
            "grid_gap": null,
            "grid_row": null,
            "grid_template_areas": null,
            "grid_template_columns": null,
            "grid_template_rows": null,
            "height": null,
            "justify_content": null,
            "justify_items": null,
            "left": null,
            "margin": null,
            "max_height": null,
            "max_width": null,
            "min_height": null,
            "min_width": null,
            "object_fit": null,
            "object_position": null,
            "order": null,
            "overflow": null,
            "overflow_x": null,
            "overflow_y": null,
            "padding": null,
            "right": null,
            "top": null,
            "visibility": null,
            "width": null
          }
        },
        "497b9484513d4b0d8445e62fbd10233f": {
          "model_module": "@jupyter-widgets/controls",
          "model_name": "DescriptionStyleModel",
          "model_module_version": "1.5.0",
          "state": {
            "_model_module": "@jupyter-widgets/controls",
            "_model_module_version": "1.5.0",
            "_model_name": "DescriptionStyleModel",
            "_view_count": null,
            "_view_module": "@jupyter-widgets/base",
            "_view_module_version": "1.2.0",
            "_view_name": "StyleView",
            "description_width": ""
          }
        },
        "fc272df677fe4010b445620a111002cb": {
          "model_module": "@jupyter-widgets/base",
          "model_name": "LayoutModel",
          "model_module_version": "1.2.0",
          "state": {
            "_model_module": "@jupyter-widgets/base",
            "_model_module_version": "1.2.0",
            "_model_name": "LayoutModel",
            "_view_count": null,
            "_view_module": "@jupyter-widgets/base",
            "_view_module_version": "1.2.0",
            "_view_name": "LayoutView",
            "align_content": null,
            "align_items": null,
            "align_self": null,
            "border": null,
            "bottom": null,
            "display": null,
            "flex": null,
            "flex_flow": null,
            "grid_area": null,
            "grid_auto_columns": null,
            "grid_auto_flow": null,
            "grid_auto_rows": null,
            "grid_column": null,
            "grid_gap": null,
            "grid_row": null,
            "grid_template_areas": null,
            "grid_template_columns": null,
            "grid_template_rows": null,
            "height": null,
            "justify_content": null,
            "justify_items": null,
            "left": null,
            "margin": null,
            "max_height": null,
            "max_width": null,
            "min_height": null,
            "min_width": null,
            "object_fit": null,
            "object_position": null,
            "order": null,
            "overflow": null,
            "overflow_x": null,
            "overflow_y": null,
            "padding": null,
            "right": null,
            "top": null,
            "visibility": null,
            "width": null
          }
        },
        "8691589c6d4c4c98b66b41605031f81f": {
          "model_module": "@jupyter-widgets/controls",
          "model_name": "ProgressStyleModel",
          "model_module_version": "1.5.0",
          "state": {
            "_model_module": "@jupyter-widgets/controls",
            "_model_module_version": "1.5.0",
            "_model_name": "ProgressStyleModel",
            "_view_count": null,
            "_view_module": "@jupyter-widgets/base",
            "_view_module_version": "1.2.0",
            "_view_name": "StyleView",
            "bar_color": null,
            "description_width": ""
          }
        },
        "65ce90cf2dbe4c8aac7b56d25e6de879": {
          "model_module": "@jupyter-widgets/base",
          "model_name": "LayoutModel",
          "model_module_version": "1.2.0",
          "state": {
            "_model_module": "@jupyter-widgets/base",
            "_model_module_version": "1.2.0",
            "_model_name": "LayoutModel",
            "_view_count": null,
            "_view_module": "@jupyter-widgets/base",
            "_view_module_version": "1.2.0",
            "_view_name": "LayoutView",
            "align_content": null,
            "align_items": null,
            "align_self": null,
            "border": null,
            "bottom": null,
            "display": null,
            "flex": null,
            "flex_flow": null,
            "grid_area": null,
            "grid_auto_columns": null,
            "grid_auto_flow": null,
            "grid_auto_rows": null,
            "grid_column": null,
            "grid_gap": null,
            "grid_row": null,
            "grid_template_areas": null,
            "grid_template_columns": null,
            "grid_template_rows": null,
            "height": null,
            "justify_content": null,
            "justify_items": null,
            "left": null,
            "margin": null,
            "max_height": null,
            "max_width": null,
            "min_height": null,
            "min_width": null,
            "object_fit": null,
            "object_position": null,
            "order": null,
            "overflow": null,
            "overflow_x": null,
            "overflow_y": null,
            "padding": null,
            "right": null,
            "top": null,
            "visibility": null,
            "width": null
          }
        },
        "3ab4c9227f3c4d1dbf99bde5b1c76163": {
          "model_module": "@jupyter-widgets/controls",
          "model_name": "DescriptionStyleModel",
          "model_module_version": "1.5.0",
          "state": {
            "_model_module": "@jupyter-widgets/controls",
            "_model_module_version": "1.5.0",
            "_model_name": "DescriptionStyleModel",
            "_view_count": null,
            "_view_module": "@jupyter-widgets/base",
            "_view_module_version": "1.2.0",
            "_view_name": "StyleView",
            "description_width": ""
          }
        },
        "53f6946e2f75456e9ff7c96cdabb7ea5": {
          "model_module": "catboost-widget",
          "model_name": "CatboostWidgetModel",
          "model_module_version": "^1.0.0",
          "state": {
            "_dom_classes": [],
            "_model_module": "catboost-widget",
            "_model_module_version": "^1.0.0",
            "_model_name": "CatboostWidgetModel",
            "_view_count": null,
            "_view_module": "catboost-widget",
            "_view_module_version": "^1.0.0",
            "_view_name": "CatboostWidgetView",
            "data": {
              "catboost_info": {
                "path": "catboost_info",
                "name": "catboost_info",
                "content": {
                  "passed_iterations": 199,
                  "total_iterations": 200,
                  "data": {
                    "iterations": [
                      {
                        "learn": [
                          0.6831835944
                        ],
                        "iteration": 0,
                        "passed_time": 0.1140738117,
                        "remaining_time": 22.70068852,
                        "test": [
                          0.6835326425
                        ]
                      },
                      {
                        "learn": [
                          0.6752650843
                        ],
                        "iteration": 1,
                        "passed_time": 0.1986883399,
                        "remaining_time": 19.67014565,
                        "test": [
                          0.6756277703
                        ]
                      },
                      {
                        "learn": [
                          0.6695341949
                        ],
                        "iteration": 2,
                        "passed_time": 0.2831920013,
                        "remaining_time": 18.59627475,
                        "test": [
                          0.6703157326
                        ]
                      },
                      {
                        "learn": [
                          0.6647974806
                        ],
                        "iteration": 3,
                        "passed_time": 0.3350713545,
                        "remaining_time": 16.41849637,
                        "test": [
                          0.6656192391
                        ]
                      },
                      {
                        "learn": [
                          0.6610500903
                        ],
                        "iteration": 4,
                        "passed_time": 0.3808682978,
                        "remaining_time": 14.85386361,
                        "test": [
                          0.6616107521
                        ]
                      },
                      {
                        "learn": [
                          0.6574051339
                        ],
                        "iteration": 5,
                        "passed_time": 0.4265269374,
                        "remaining_time": 13.79103764,
                        "test": [
                          0.6579940571
                        ]
                      },
                      {
                        "learn": [
                          0.6544428838
                        ],
                        "iteration": 6,
                        "passed_time": 0.4718851204,
                        "remaining_time": 13.01054689,
                        "test": [
                          0.6555240695
                        ]
                      },
                      {
                        "learn": [
                          0.6521743484
                        ],
                        "iteration": 7,
                        "passed_time": 0.5170718516,
                        "remaining_time": 12.40972444,
                        "test": [
                          0.6537553617
                        ]
                      },
                      {
                        "learn": [
                          0.6500005349
                        ],
                        "iteration": 8,
                        "passed_time": 0.5636515951,
                        "remaining_time": 11.96193941,
                        "test": [
                          0.6516734641
                        ]
                      },
                      {
                        "learn": [
                          0.647795562
                        ],
                        "iteration": 9,
                        "passed_time": 0.6115405014,
                        "remaining_time": 11.61926953,
                        "test": [
                          0.6502414682
                        ]
                      },
                      {
                        "learn": [
                          0.6454887772
                        ],
                        "iteration": 10,
                        "passed_time": 0.6572131295,
                        "remaining_time": 11.2921165,
                        "test": [
                          0.6482834108
                        ]
                      },
                      {
                        "learn": [
                          0.6433593081
                        ],
                        "iteration": 11,
                        "passed_time": 0.7027778642,
                        "remaining_time": 11.01018654,
                        "test": [
                          0.6464138881
                        ]
                      },
                      {
                        "learn": [
                          0.6413774883
                        ],
                        "iteration": 12,
                        "passed_time": 0.7480715129,
                        "remaining_time": 10.76072099,
                        "test": [
                          0.6448673975
                        ]
                      },
                      {
                        "learn": [
                          0.6397664705
                        ],
                        "iteration": 13,
                        "passed_time": 0.7930194884,
                        "remaining_time": 10.53583035,
                        "test": [
                          0.6434622644
                        ]
                      },
                      {
                        "learn": [
                          0.638098856
                        ],
                        "iteration": 14,
                        "passed_time": 0.8394268178,
                        "remaining_time": 10.35293075,
                        "test": [
                          0.6423371828
                        ]
                      },
                      {
                        "learn": [
                          0.6367713819
                        ],
                        "iteration": 15,
                        "passed_time": 0.8908927329,
                        "remaining_time": 10.24526643,
                        "test": [
                          0.6411342213
                        ]
                      },
                      {
                        "learn": [
                          0.6351003467
                        ],
                        "iteration": 16,
                        "passed_time": 0.9385565842,
                        "remaining_time": 10.10328558,
                        "test": [
                          0.6402310408
                        ]
                      },
                      {
                        "learn": [
                          0.6336163918
                        ],
                        "iteration": 17,
                        "passed_time": 0.9839733821,
                        "remaining_time": 9.949064197,
                        "test": [
                          0.6389778751
                        ]
                      },
                      {
                        "learn": [
                          0.6321984872
                        ],
                        "iteration": 18,
                        "passed_time": 1.029389535,
                        "remaining_time": 9.80628978,
                        "test": [
                          0.6377606018
                        ]
                      },
                      {
                        "learn": [
                          0.6310021186
                        ],
                        "iteration": 19,
                        "passed_time": 1.074476261,
                        "remaining_time": 9.670286348,
                        "test": [
                          0.6367389988
                        ]
                      },
                      {
                        "learn": [
                          0.6292760415
                        ],
                        "iteration": 20,
                        "passed_time": 1.119674089,
                        "remaining_time": 9.543888664,
                        "test": [
                          0.6357738756
                        ]
                      },
                      {
                        "learn": [
                          0.6280222675
                        ],
                        "iteration": 21,
                        "passed_time": 1.164385299,
                        "remaining_time": 9.420935597,
                        "test": [
                          0.6350379674
                        ]
                      },
                      {
                        "learn": [
                          0.6267341624
                        ],
                        "iteration": 22,
                        "passed_time": 1.209990174,
                        "remaining_time": 9.311663509,
                        "test": [
                          0.6342860319
                        ]
                      },
                      {
                        "learn": [
                          0.6254665813
                        ],
                        "iteration": 23,
                        "passed_time": 1.255292293,
                        "remaining_time": 9.205476816,
                        "test": [
                          0.6335314777
                        ]
                      },
                      {
                        "learn": [
                          0.6245321126
                        ],
                        "iteration": 24,
                        "passed_time": 1.301671159,
                        "remaining_time": 9.111698111,
                        "test": [
                          0.6330623476
                        ]
                      },
                      {
                        "learn": [
                          0.6231438747
                        ],
                        "iteration": 25,
                        "passed_time": 1.347239194,
                        "remaining_time": 9.016139222,
                        "test": [
                          0.632267025
                        ]
                      },
                      {
                        "learn": [
                          0.6217104216
                        ],
                        "iteration": 26,
                        "passed_time": 1.392625213,
                        "remaining_time": 8.923117103,
                        "test": [
                          0.6313810007
                        ]
                      },
                      {
                        "learn": [
                          0.6203922766
                        ],
                        "iteration": 27,
                        "passed_time": 1.437750607,
                        "remaining_time": 8.831896586,
                        "test": [
                          0.630452718
                        ]
                      },
                      {
                        "learn": [
                          0.6191316613
                        ],
                        "iteration": 28,
                        "passed_time": 1.483065254,
                        "remaining_time": 8.744970978,
                        "test": [
                          0.6297371715
                        ]
                      },
                      {
                        "learn": [
                          0.6174638602
                        ],
                        "iteration": 29,
                        "passed_time": 1.528569583,
                        "remaining_time": 8.661894303,
                        "test": [
                          0.6287824775
                        ]
                      },
                      {
                        "learn": [
                          0.616560613
                        ],
                        "iteration": 30,
                        "passed_time": 1.573928281,
                        "remaining_time": 8.580447724,
                        "test": [
                          0.628114923
                        ]
                      },
                      {
                        "learn": [
                          0.6154711563
                        ],
                        "iteration": 31,
                        "passed_time": 1.619115294,
                        "remaining_time": 8.500355293,
                        "test": [
                          0.627269351
                        ]
                      },
                      {
                        "learn": [
                          0.6142576842
                        ],
                        "iteration": 32,
                        "passed_time": 1.665284466,
                        "remaining_time": 8.427348663,
                        "test": [
                          0.6266407139
                        ]
                      },
                      {
                        "learn": [
                          0.6132661834
                        ],
                        "iteration": 33,
                        "passed_time": 1.710941547,
                        "remaining_time": 8.353420495,
                        "test": [
                          0.6262096885
                        ]
                      },
                      {
                        "learn": [
                          0.6124223318
                        ],
                        "iteration": 34,
                        "passed_time": 1.756307548,
                        "remaining_time": 8.279735583,
                        "test": [
                          0.6257634031
                        ]
                      },
                      {
                        "learn": [
                          0.6112712406
                        ],
                        "iteration": 35,
                        "passed_time": 1.801791556,
                        "remaining_time": 8.208161535,
                        "test": [
                          0.6249708797
                        ]
                      },
                      {
                        "learn": [
                          0.6099117364
                        ],
                        "iteration": 36,
                        "passed_time": 1.847226059,
                        "remaining_time": 8.137779667,
                        "test": [
                          0.6242987202
                        ]
                      },
                      {
                        "learn": [
                          0.6088408758
                        ],
                        "iteration": 37,
                        "passed_time": 1.900157981,
                        "remaining_time": 8.1006735,
                        "test": [
                          0.6237232671
                        ]
                      },
                      {
                        "learn": [
                          0.6080755133
                        ],
                        "iteration": 38,
                        "passed_time": 1.946470034,
                        "remaining_time": 8.035427575,
                        "test": [
                          0.6235140525
                        ]
                      },
                      {
                        "learn": [
                          0.607238503
                        ],
                        "iteration": 39,
                        "passed_time": 1.993055755,
                        "remaining_time": 7.97222302,
                        "test": [
                          0.6229367935
                        ]
                      },
                      {
                        "learn": [
                          0.6062993698
                        ],
                        "iteration": 40,
                        "passed_time": 2.039566502,
                        "remaining_time": 7.909538385,
                        "test": [
                          0.6223224231
                        ]
                      },
                      {
                        "learn": [
                          0.6052829291
                        ],
                        "iteration": 41,
                        "passed_time": 2.084762,
                        "remaining_time": 7.842676096,
                        "test": [
                          0.6218279199
                        ]
                      },
                      {
                        "learn": [
                          0.6042705311
                        ],
                        "iteration": 42,
                        "passed_time": 2.130010763,
                        "remaining_time": 7.77701604,
                        "test": [
                          0.6211893955
                        ]
                      },
                      {
                        "learn": [
                          0.6031405859
                        ],
                        "iteration": 43,
                        "passed_time": 2.175109702,
                        "remaining_time": 7.711752579,
                        "test": [
                          0.6206148905
                        ]
                      },
                      {
                        "learn": [
                          0.6021245806
                        ],
                        "iteration": 44,
                        "passed_time": 2.220335491,
                        "remaining_time": 7.647822247,
                        "test": [
                          0.6203189019
                        ]
                      },
                      {
                        "learn": [
                          0.6012382503
                        ],
                        "iteration": 45,
                        "passed_time": 2.265709724,
                        "remaining_time": 7.585202121,
                        "test": [
                          0.6198066106
                        ]
                      },
                      {
                        "learn": [
                          0.6005156774
                        ],
                        "iteration": 46,
                        "passed_time": 2.310950551,
                        "remaining_time": 7.52288158,
                        "test": [
                          0.6195607811
                        ]
                      },
                      {
                        "learn": [
                          0.5994683262
                        ],
                        "iteration": 47,
                        "passed_time": 2.356085491,
                        "remaining_time": 7.460937388,
                        "test": [
                          0.6189217149
                        ]
                      },
                      {
                        "learn": [
                          0.5983567283
                        ],
                        "iteration": 48,
                        "passed_time": 2.401396312,
                        "remaining_time": 7.400221288,
                        "test": [
                          0.6185789081
                        ]
                      },
                      {
                        "learn": [
                          0.5974870661
                        ],
                        "iteration": 49,
                        "passed_time": 2.446846044,
                        "remaining_time": 7.340538133,
                        "test": [
                          0.6182705942
                        ]
                      },
                      {
                        "learn": [
                          0.5967023612
                        ],
                        "iteration": 50,
                        "passed_time": 2.492002448,
                        "remaining_time": 7.28055617,
                        "test": [
                          0.6179875631
                        ]
                      },
                      {
                        "learn": [
                          0.5956142105
                        ],
                        "iteration": 51,
                        "passed_time": 2.53726115,
                        "remaining_time": 7.221435582,
                        "test": [
                          0.6172845225
                        ]
                      },
                      {
                        "learn": [
                          0.5947173694
                        ],
                        "iteration": 52,
                        "passed_time": 2.582500062,
                        "remaining_time": 7.162783191,
                        "test": [
                          0.6167887552
                        ]
                      },
                      {
                        "learn": [
                          0.5941816281
                        ],
                        "iteration": 53,
                        "passed_time": 2.627783873,
                        "remaining_time": 7.10474899,
                        "test": [
                          0.6164958367
                        ]
                      },
                      {
                        "learn": [
                          0.5933925074
                        ],
                        "iteration": 54,
                        "passed_time": 2.673200152,
                        "remaining_time": 7.047527672,
                        "test": [
                          0.6160418762
                        ]
                      },
                      {
                        "learn": [
                          0.5923329039
                        ],
                        "iteration": 55,
                        "passed_time": 2.718816951,
                        "remaining_time": 6.991243588,
                        "test": [
                          0.6155803308
                        ]
                      },
                      {
                        "learn": [
                          0.5913037134
                        ],
                        "iteration": 56,
                        "passed_time": 2.769114022,
                        "remaining_time": 6.947075529,
                        "test": [
                          0.6150897555
                        ]
                      },
                      {
                        "learn": [
                          0.5906460714
                        ],
                        "iteration": 57,
                        "passed_time": 2.814391446,
                        "remaining_time": 6.890406644,
                        "test": [
                          0.6147429306
                        ]
                      },
                      {
                        "learn": [
                          0.5900589577
                        ],
                        "iteration": 58,
                        "passed_time": 2.859582235,
                        "remaining_time": 6.833916866,
                        "test": [
                          0.614573446
                        ]
                      },
                      {
                        "learn": [
                          0.5888525757
                        ],
                        "iteration": 59,
                        "passed_time": 2.912965236,
                        "remaining_time": 6.796918884,
                        "test": [
                          0.6141885164
                        ]
                      },
                      {
                        "learn": [
                          0.5881851692
                        ],
                        "iteration": 60,
                        "passed_time": 2.962537761,
                        "remaining_time": 6.7507008,
                        "test": [
                          0.613828418
                        ]
                      },
                      {
                        "learn": [
                          0.587141674
                        ],
                        "iteration": 61,
                        "passed_time": 3.007776361,
                        "remaining_time": 6.694728029,
                        "test": [
                          0.6133200545
                        ]
                      },
                      {
                        "learn": [
                          0.5862350062
                        ],
                        "iteration": 62,
                        "passed_time": 3.053593883,
                        "remaining_time": 6.640354952,
                        "test": [
                          0.6129010383
                        ]
                      },
                      {
                        "learn": [
                          0.5854765473
                        ],
                        "iteration": 63,
                        "passed_time": 3.099005681,
                        "remaining_time": 6.585387072,
                        "test": [
                          0.6122926274
                        ]
                      },
                      {
                        "learn": [
                          0.5847226908
                        ],
                        "iteration": 64,
                        "passed_time": 3.144666495,
                        "remaining_time": 6.531230414,
                        "test": [
                          0.6118660264
                        ]
                      },
                      {
                        "learn": [
                          0.5837912696
                        ],
                        "iteration": 65,
                        "passed_time": 3.190527938,
                        "remaining_time": 6.477738541,
                        "test": [
                          0.6113633064
                        ]
                      },
                      {
                        "learn": [
                          0.5830660846
                        ],
                        "iteration": 66,
                        "passed_time": 3.236194294,
                        "remaining_time": 6.42408718,
                        "test": [
                          0.6111778846
                        ]
                      },
                      {
                        "learn": [
                          0.5822971771
                        ],
                        "iteration": 67,
                        "passed_time": 3.281687758,
                        "remaining_time": 6.37033506,
                        "test": [
                          0.6108475386
                        ]
                      },
                      {
                        "learn": [
                          0.5817679662
                        ],
                        "iteration": 68,
                        "passed_time": 3.3268804,
                        "remaining_time": 6.316251194,
                        "test": [
                          0.6104049102
                        ]
                      },
                      {
                        "learn": [
                          0.580849979
                        ],
                        "iteration": 69,
                        "passed_time": 3.37223681,
                        "remaining_time": 6.262725504,
                        "test": [
                          0.6100286038
                        ]
                      },
                      {
                        "learn": [
                          0.5799027605
                        ],
                        "iteration": 70,
                        "passed_time": 3.417990449,
                        "remaining_time": 6.210151661,
                        "test": [
                          0.6098046259
                        ]
                      },
                      {
                        "learn": [
                          0.5792381527
                        ],
                        "iteration": 71,
                        "passed_time": 3.462985024,
                        "remaining_time": 6.15641782,
                        "test": [
                          0.6095434462
                        ]
                      },
                      {
                        "learn": [
                          0.5780819616
                        ],
                        "iteration": 72,
                        "passed_time": 3.508440574,
                        "remaining_time": 6.103725382,
                        "test": [
                          0.6091890365
                        ]
                      },
                      {
                        "learn": [
                          0.5770621002
                        ],
                        "iteration": 73,
                        "passed_time": 3.554210595,
                        "remaining_time": 6.051763986,
                        "test": [
                          0.6085885716
                        ]
                      },
                      {
                        "learn": [
                          0.5762566224
                        ],
                        "iteration": 74,
                        "passed_time": 3.600131799,
                        "remaining_time": 6.000219665,
                        "test": [
                          0.608145898
                        ]
                      },
                      {
                        "learn": [
                          0.5756176387
                        ],
                        "iteration": 75,
                        "passed_time": 3.650018458,
                        "remaining_time": 5.955293273,
                        "test": [
                          0.6077580338
                        ]
                      },
                      {
                        "learn": [
                          0.5749472468
                        ],
                        "iteration": 76,
                        "passed_time": 3.695763037,
                        "remaining_time": 5.903621474,
                        "test": [
                          0.6073929692
                        ]
                      },
                      {
                        "learn": [
                          0.5738423659
                        ],
                        "iteration": 77,
                        "passed_time": 3.752755587,
                        "remaining_time": 5.869694635,
                        "test": [
                          0.6071019017
                        ]
                      },
                      {
                        "learn": [
                          0.573241756
                        ],
                        "iteration": 78,
                        "passed_time": 3.7982248,
                        "remaining_time": 5.817534187,
                        "test": [
                          0.6069371125
                        ]
                      },
                      {
                        "learn": [
                          0.5722830316
                        ],
                        "iteration": 79,
                        "passed_time": 3.843956258,
                        "remaining_time": 5.765934387,
                        "test": [
                          0.6066539458
                        ]
                      },
                      {
                        "learn": [
                          0.5717143896
                        ],
                        "iteration": 80,
                        "passed_time": 3.889542068,
                        "remaining_time": 5.714265507,
                        "test": [
                          0.6063736235
                        ]
                      },
                      {
                        "learn": [
                          0.5710323674
                        ],
                        "iteration": 81,
                        "passed_time": 3.942651252,
                        "remaining_time": 5.673571314,
                        "test": [
                          0.6059999809
                        ]
                      },
                      {
                        "learn": [
                          0.5701648197
                        ],
                        "iteration": 82,
                        "passed_time": 3.988488426,
                        "remaining_time": 5.622327058,
                        "test": [
                          0.6056137871
                        ]
                      },
                      {
                        "learn": [
                          0.5691985076
                        ],
                        "iteration": 83,
                        "passed_time": 4.035215767,
                        "remaining_time": 5.572440821,
                        "test": [
                          0.6052848858
                        ]
                      },
                      {
                        "learn": [
                          0.5683174638
                        ],
                        "iteration": 84,
                        "passed_time": 4.080589365,
                        "remaining_time": 5.520797376,
                        "test": [
                          0.6049494833
                        ]
                      },
                      {
                        "learn": [
                          0.5673335508
                        ],
                        "iteration": 85,
                        "passed_time": 4.126180673,
                        "remaining_time": 5.469588335,
                        "test": [
                          0.6045451402
                        ]
                      },
                      {
                        "learn": [
                          0.5667455663
                        ],
                        "iteration": 86,
                        "passed_time": 4.171535082,
                        "remaining_time": 5.418200738,
                        "test": [
                          0.6042524022
                        ]
                      },
                      {
                        "learn": [
                          0.5661860046
                        ],
                        "iteration": 87,
                        "passed_time": 4.216857455,
                        "remaining_time": 5.366909488,
                        "test": [
                          0.6040160538
                        ]
                      },
                      {
                        "learn": [
                          0.5656655631
                        ],
                        "iteration": 88,
                        "passed_time": 4.263747147,
                        "remaining_time": 5.317707116,
                        "test": [
                          0.6037046247
                        ]
                      },
                      {
                        "learn": [
                          0.5648817289
                        ],
                        "iteration": 89,
                        "passed_time": 4.312858193,
                        "remaining_time": 5.271271125,
                        "test": [
                          0.603329447
                        ]
                      },
                      {
                        "learn": [
                          0.5642174943
                        ],
                        "iteration": 90,
                        "passed_time": 4.358573409,
                        "remaining_time": 5.220708808,
                        "test": [
                          0.6032244785
                        ]
                      },
                      {
                        "learn": [
                          0.5634864009
                        ],
                        "iteration": 91,
                        "passed_time": 4.404206977,
                        "remaining_time": 5.170156016,
                        "test": [
                          0.6028431156
                        ]
                      },
                      {
                        "learn": [
                          0.5623004186
                        ],
                        "iteration": 92,
                        "passed_time": 4.449812743,
                        "remaining_time": 5.119677026,
                        "test": [
                          0.602447486
                        ]
                      },
                      {
                        "learn": [
                          0.5616854419
                        ],
                        "iteration": 93,
                        "passed_time": 4.495516066,
                        "remaining_time": 5.069411735,
                        "test": [
                          0.6022578655
                        ]
                      },
                      {
                        "learn": [
                          0.5608127943
                        ],
                        "iteration": 94,
                        "passed_time": 4.541178627,
                        "remaining_time": 5.01919743,
                        "test": [
                          0.601915781
                        ]
                      },
                      {
                        "learn": [
                          0.560376626
                        ],
                        "iteration": 95,
                        "passed_time": 4.586487187,
                        "remaining_time": 4.968694452,
                        "test": [
                          0.6015332894
                        ]
                      },
                      {
                        "learn": [
                          0.5596878868
                        ],
                        "iteration": 96,
                        "passed_time": 4.632242974,
                        "remaining_time": 4.918773467,
                        "test": [
                          0.6013484997
                        ]
                      },
                      {
                        "learn": [
                          0.558973959
                        ],
                        "iteration": 97,
                        "passed_time": 4.677960753,
                        "remaining_time": 4.868897927,
                        "test": [
                          0.6010326913
                        ]
                      },
                      {
                        "learn": [
                          0.5584704965
                        ],
                        "iteration": 98,
                        "passed_time": 4.72352677,
                        "remaining_time": 4.818951553,
                        "test": [
                          0.6008206775
                        ]
                      },
                      {
                        "learn": [
                          0.5578132899
                        ],
                        "iteration": 99,
                        "passed_time": 4.779546069,
                        "remaining_time": 4.779546069,
                        "test": [
                          0.6005402649
                        ]
                      },
                      {
                        "learn": [
                          0.557229348
                        ],
                        "iteration": 100,
                        "passed_time": 4.824849507,
                        "remaining_time": 4.729307933,
                        "test": [
                          0.6002880697
                        ]
                      },
                      {
                        "learn": [
                          0.556591546
                        ],
                        "iteration": 101,
                        "passed_time": 4.879952721,
                        "remaining_time": 4.688582026,
                        "test": [
                          0.600131091
                        ]
                      },
                      {
                        "learn": [
                          0.5557871877
                        ],
                        "iteration": 102,
                        "passed_time": 4.925720067,
                        "remaining_time": 4.638784917,
                        "test": [
                          0.5997090951
                        ]
                      },
                      {
                        "learn": [
                          0.555123575
                        ],
                        "iteration": 103,
                        "passed_time": 4.974012786,
                        "remaining_time": 4.591396418,
                        "test": [
                          0.5994411432
                        ]
                      },
                      {
                        "learn": [
                          0.5545809923
                        ],
                        "iteration": 104,
                        "passed_time": 5.019631579,
                        "remaining_time": 4.541571429,
                        "test": [
                          0.5993496739
                        ]
                      },
                      {
                        "learn": [
                          0.554162425
                        ],
                        "iteration": 105,
                        "passed_time": 5.06529958,
                        "remaining_time": 4.491869439,
                        "test": [
                          0.5991555387
                        ]
                      },
                      {
                        "learn": [
                          0.5535272973
                        ],
                        "iteration": 106,
                        "passed_time": 5.111097989,
                        "remaining_time": 4.442356196,
                        "test": [
                          0.5988518298
                        ]
                      },
                      {
                        "learn": [
                          0.5529721514
                        ],
                        "iteration": 107,
                        "passed_time": 5.156458591,
                        "remaining_time": 4.3925388,
                        "test": [
                          0.5985820721
                        ]
                      },
                      {
                        "learn": [
                          0.5523509552
                        ],
                        "iteration": 108,
                        "passed_time": 5.202204372,
                        "remaining_time": 4.343124751,
                        "test": [
                          0.5983269422
                        ]
                      },
                      {
                        "learn": [
                          0.5516962985
                        ],
                        "iteration": 109,
                        "passed_time": 5.24755895,
                        "remaining_time": 4.293457323,
                        "test": [
                          0.5978935239
                        ]
                      },
                      {
                        "learn": [
                          0.5510816327
                        ],
                        "iteration": 110,
                        "passed_time": 5.29409026,
                        "remaining_time": 4.244811109,
                        "test": [
                          0.5976537894
                        ]
                      },
                      {
                        "learn": [
                          0.5502640892
                        ],
                        "iteration": 111,
                        "passed_time": 5.339596095,
                        "remaining_time": 4.195396931,
                        "test": [
                          0.5972397395
                        ]
                      },
                      {
                        "learn": [
                          0.549796886
                        ],
                        "iteration": 112,
                        "passed_time": 5.385066793,
                        "remaining_time": 4.146024876,
                        "test": [
                          0.5971739593
                        ]
                      },
                      {
                        "learn": [
                          0.5491773691
                        ],
                        "iteration": 113,
                        "passed_time": 5.43105048,
                        "remaining_time": 4.097108257,
                        "test": [
                          0.5968840657
                        ]
                      },
                      {
                        "learn": [
                          0.5486844796
                        ],
                        "iteration": 114,
                        "passed_time": 5.476538483,
                        "remaining_time": 4.04787627,
                        "test": [
                          0.5966948966
                        ]
                      },
                      {
                        "learn": [
                          0.5479445546
                        ],
                        "iteration": 115,
                        "passed_time": 5.522322442,
                        "remaining_time": 3.998923147,
                        "test": [
                          0.59637963
                        ]
                      },
                      {
                        "learn": [
                          0.5471371488
                        ],
                        "iteration": 116,
                        "passed_time": 5.56792445,
                        "remaining_time": 3.949895122,
                        "test": [
                          0.5961691964
                        ]
                      },
                      {
                        "learn": [
                          0.5466869246
                        ],
                        "iteration": 117,
                        "passed_time": 5.613669389,
                        "remaining_time": 3.901024491,
                        "test": [
                          0.5960295996
                        ]
                      },
                      {
                        "learn": [
                          0.5462027423
                        ],
                        "iteration": 118,
                        "passed_time": 5.659491892,
                        "remaining_time": 3.852259187,
                        "test": [
                          0.5959309969
                        ]
                      },
                      {
                        "learn": [
                          0.5456765789
                        ],
                        "iteration": 119,
                        "passed_time": 5.705685332,
                        "remaining_time": 3.803790221,
                        "test": [
                          0.5957843571
                        ]
                      },
                      {
                        "learn": [
                          0.5449923178
                        ],
                        "iteration": 120,
                        "passed_time": 5.751819285,
                        "remaining_time": 3.755320029,
                        "test": [
                          0.5954886394
                        ]
                      },
                      {
                        "learn": [
                          0.5444812676
                        ],
                        "iteration": 121,
                        "passed_time": 5.817170951,
                        "remaining_time": 3.719174871,
                        "test": [
                          0.5952983417
                        ]
                      },
                      {
                        "learn": [
                          0.5438861308
                        ],
                        "iteration": 122,
                        "passed_time": 5.862699976,
                        "remaining_time": 3.670145514,
                        "test": [
                          0.59506863
                        ]
                      },
                      {
                        "learn": [
                          0.5433104608
                        ],
                        "iteration": 123,
                        "passed_time": 5.908062164,
                        "remaining_time": 3.621070358,
                        "test": [
                          0.5948553069
                        ]
                      },
                      {
                        "learn": [
                          0.5428841192
                        ],
                        "iteration": 124,
                        "passed_time": 5.964099964,
                        "remaining_time": 3.578459978,
                        "test": [
                          0.5946613071
                        ]
                      },
                      {
                        "learn": [
                          0.5422338783
                        ],
                        "iteration": 125,
                        "passed_time": 6.011104633,
                        "remaining_time": 3.530331292,
                        "test": [
                          0.5946260467
                        ]
                      },
                      {
                        "learn": [
                          0.5416256807
                        ],
                        "iteration": 126,
                        "passed_time": 6.057742602,
                        "remaining_time": 3.482009527,
                        "test": [
                          0.5944579617
                        ]
                      },
                      {
                        "learn": [
                          0.5410483936
                        ],
                        "iteration": 127,
                        "passed_time": 6.103985914,
                        "remaining_time": 3.433492077,
                        "test": [
                          0.5942543905
                        ]
                      },
                      {
                        "learn": [
                          0.540533674
                        ],
                        "iteration": 128,
                        "passed_time": 6.149581743,
                        "remaining_time": 3.384653517,
                        "test": [
                          0.5940358755
                        ]
                      },
                      {
                        "learn": [
                          0.5400030326
                        ],
                        "iteration": 129,
                        "passed_time": 6.194868587,
                        "remaining_time": 3.33569847,
                        "test": [
                          0.5938561423
                        ]
                      },
                      {
                        "learn": [
                          0.5392921523
                        ],
                        "iteration": 130,
                        "passed_time": 6.24021334,
                        "remaining_time": 3.286829927,
                        "test": [
                          0.593553201
                        ]
                      },
                      {
                        "learn": [
                          0.5387025508
                        ],
                        "iteration": 131,
                        "passed_time": 6.285181587,
                        "remaining_time": 3.237820818,
                        "test": [
                          0.5933060171
                        ]
                      },
                      {
                        "learn": [
                          0.5381827312
                        ],
                        "iteration": 132,
                        "passed_time": 6.33234697,
                        "remaining_time": 3.189979301,
                        "test": [
                          0.5931821318
                        ]
                      },
                      {
                        "learn": [
                          0.5375453645
                        ],
                        "iteration": 133,
                        "passed_time": 6.377241139,
                        "remaining_time": 3.141029218,
                        "test": [
                          0.5927788722
                        ]
                      },
                      {
                        "learn": [
                          0.5371469481
                        ],
                        "iteration": 134,
                        "passed_time": 6.422272466,
                        "remaining_time": 3.092205261,
                        "test": [
                          0.5925383702
                        ]
                      },
                      {
                        "learn": [
                          0.5365671733
                        ],
                        "iteration": 135,
                        "passed_time": 6.467845139,
                        "remaining_time": 3.04369183,
                        "test": [
                          0.5922761521
                        ]
                      },
                      {
                        "learn": [
                          0.5360966738
                        ],
                        "iteration": 136,
                        "passed_time": 6.513045908,
                        "remaining_time": 2.995050308,
                        "test": [
                          0.5921118595
                        ]
                      },
                      {
                        "learn": [
                          0.5356920379
                        ],
                        "iteration": 137,
                        "passed_time": 6.557976067,
                        "remaining_time": 2.946337074,
                        "test": [
                          0.5920017441
                        ]
                      },
                      {
                        "learn": [
                          0.5352490283
                        ],
                        "iteration": 138,
                        "passed_time": 6.603209586,
                        "remaining_time": 2.897811401,
                        "test": [
                          0.5918299119
                        ]
                      },
                      {
                        "learn": [
                          0.5348578886
                        ],
                        "iteration": 139,
                        "passed_time": 6.657633031,
                        "remaining_time": 2.853271299,
                        "test": [
                          0.5916834074
                        ]
                      },
                      {
                        "learn": [
                          0.5343399349
                        ],
                        "iteration": 140,
                        "passed_time": 6.7058848,
                        "remaining_time": 2.806008533,
                        "test": [
                          0.5916048955
                        ]
                      },
                      {
                        "learn": [
                          0.5338207373
                        ],
                        "iteration": 141,
                        "passed_time": 6.750768933,
                        "remaining_time": 2.757356325,
                        "test": [
                          0.5914689105
                        ]
                      },
                      {
                        "learn": [
                          0.5333295892
                        ],
                        "iteration": 142,
                        "passed_time": 6.800933372,
                        "remaining_time": 2.710861554,
                        "test": [
                          0.5912916154
                        ]
                      },
                      {
                        "learn": [
                          0.5328501959
                        ],
                        "iteration": 143,
                        "passed_time": 6.846012999,
                        "remaining_time": 2.662338389,
                        "test": [
                          0.5911684975
                        ]
                      },
                      {
                        "learn": [
                          0.5321311682
                        ],
                        "iteration": 144,
                        "passed_time": 6.89102159,
                        "remaining_time": 2.613835776,
                        "test": [
                          0.5909201849
                        ]
                      },
                      {
                        "learn": [
                          0.5315490922
                        ],
                        "iteration": 145,
                        "passed_time": 6.937915985,
                        "remaining_time": 2.566078515,
                        "test": [
                          0.5908996427
                        ]
                      },
                      {
                        "learn": [
                          0.5310427687
                        ],
                        "iteration": 146,
                        "passed_time": 6.991816151,
                        "remaining_time": 2.520858884,
                        "test": [
                          0.5906722336
                        ]
                      },
                      {
                        "learn": [
                          0.530641678
                        ],
                        "iteration": 147,
                        "passed_time": 7.036862628,
                        "remaining_time": 2.472411194,
                        "test": [
                          0.5905967465
                        ]
                      },
                      {
                        "learn": [
                          0.5301798857
                        ],
                        "iteration": 148,
                        "passed_time": 7.081923341,
                        "remaining_time": 2.424014029,
                        "test": [
                          0.590358818
                        ]
                      },
                      {
                        "learn": [
                          0.5294597384
                        ],
                        "iteration": 149,
                        "passed_time": 7.126992056,
                        "remaining_time": 2.375664019,
                        "test": [
                          0.5901567367
                        ]
                      },
                      {
                        "learn": [
                          0.5290511844
                        ],
                        "iteration": 150,
                        "passed_time": 7.171969738,
                        "remaining_time": 2.327327928,
                        "test": [
                          0.5900237766
                        ]
                      },
                      {
                        "learn": [
                          0.5286884053
                        ],
                        "iteration": 151,
                        "passed_time": 7.217123745,
                        "remaining_time": 2.279091709,
                        "test": [
                          0.5900439576
                        ]
                      },
                      {
                        "learn": [
                          0.5281066403
                        ],
                        "iteration": 152,
                        "passed_time": 7.262264885,
                        "remaining_time": 2.230891828,
                        "test": [
                          0.5898986271
                        ]
                      },
                      {
                        "learn": [
                          0.5276626355
                        ],
                        "iteration": 153,
                        "passed_time": 7.307293041,
                        "remaining_time": 2.182697921,
                        "test": [
                          0.589571622
                        ]
                      },
                      {
                        "learn": [
                          0.526912013
                        ],
                        "iteration": 154,
                        "passed_time": 7.352200565,
                        "remaining_time": 2.134509841,
                        "test": [
                          0.5891917489
                        ]
                      },
                      {
                        "learn": [
                          0.526568452
                        ],
                        "iteration": 155,
                        "passed_time": 7.39708819,
                        "remaining_time": 2.086358207,
                        "test": [
                          0.5889990133
                        ]
                      },
                      {
                        "learn": [
                          0.5261714039
                        ],
                        "iteration": 156,
                        "passed_time": 7.442290869,
                        "remaining_time": 2.038334442,
                        "test": [
                          0.588932917
                        ]
                      },
                      {
                        "learn": [
                          0.5256090434
                        ],
                        "iteration": 157,
                        "passed_time": 7.487523971,
                        "remaining_time": 1.990354473,
                        "test": [
                          0.5886301111
                        ]
                      },
                      {
                        "learn": [
                          0.5251740568
                        ],
                        "iteration": 158,
                        "passed_time": 7.532539248,
                        "remaining_time": 1.942352888,
                        "test": [
                          0.5884447796
                        ]
                      },
                      {
                        "learn": [
                          0.524614122
                        ],
                        "iteration": 159,
                        "passed_time": 7.577352713,
                        "remaining_time": 1.894338178,
                        "test": [
                          0.5880263504
                        ]
                      },
                      {
                        "learn": [
                          0.524165577
                        ],
                        "iteration": 160,
                        "passed_time": 7.622290455,
                        "remaining_time": 1.84639334,
                        "test": [
                          0.5878539763
                        ]
                      },
                      {
                        "learn": [
                          0.5237526694
                        ],
                        "iteration": 161,
                        "passed_time": 7.667099066,
                        "remaining_time": 1.798455336,
                        "test": [
                          0.5875564076
                        ]
                      },
                      {
                        "learn": [
                          0.5232121391
                        ],
                        "iteration": 162,
                        "passed_time": 7.712102103,
                        "remaining_time": 1.750599864,
                        "test": [
                          0.5873106233
                        ]
                      },
                      {
                        "learn": [
                          0.522715829
                        ],
                        "iteration": 163,
                        "passed_time": 7.756974184,
                        "remaining_time": 1.702750431,
                        "test": [
                          0.5872868756
                        ]
                      },
                      {
                        "learn": [
                          0.522226609
                        ],
                        "iteration": 164,
                        "passed_time": 7.810128575,
                        "remaining_time": 1.65669394,
                        "test": [
                          0.5872034426
                        ]
                      },
                      {
                        "learn": [
                          0.5217563582
                        ],
                        "iteration": 165,
                        "passed_time": 7.856388628,
                        "remaining_time": 1.609139839,
                        "test": [
                          0.587046509
                        ]
                      },
                      {
                        "learn": [
                          0.5213510383
                        ],
                        "iteration": 166,
                        "passed_time": 7.901576884,
                        "remaining_time": 1.561389444,
                        "test": [
                          0.5870146347
                        ]
                      },
                      {
                        "learn": [
                          0.521062146
                        ],
                        "iteration": 167,
                        "passed_time": 7.946464336,
                        "remaining_time": 1.513612255,
                        "test": [
                          0.5869010882
                        ]
                      },
                      {
                        "learn": [
                          0.5207614057
                        ],
                        "iteration": 168,
                        "passed_time": 8.000487784,
                        "remaining_time": 1.467545097,
                        "test": [
                          0.5867238382
                        ]
                      },
                      {
                        "learn": [
                          0.520305273
                        ],
                        "iteration": 169,
                        "passed_time": 8.045526313,
                        "remaining_time": 1.419798761,
                        "test": [
                          0.5864450057
                        ]
                      },
                      {
                        "learn": [
                          0.5199707612
                        ],
                        "iteration": 170,
                        "passed_time": 8.091159015,
                        "remaining_time": 1.372184862,
                        "test": [
                          0.5865175581
                        ]
                      },
                      {
                        "learn": [
                          0.5194175434
                        ],
                        "iteration": 171,
                        "passed_time": 8.136456887,
                        "remaining_time": 1.324539493,
                        "test": [
                          0.5862711418
                        ]
                      },
                      {
                        "learn": [
                          0.5188168713
                        ],
                        "iteration": 172,
                        "passed_time": 8.181823896,
                        "remaining_time": 1.276932053,
                        "test": [
                          0.586185632
                        ]
                      },
                      {
                        "learn": [
                          0.5181952708
                        ],
                        "iteration": 173,
                        "passed_time": 8.22680913,
                        "remaining_time": 1.229293318,
                        "test": [
                          0.5859584034
                        ]
                      },
                      {
                        "learn": [
                          0.5177051801
                        ],
                        "iteration": 174,
                        "passed_time": 8.272606771,
                        "remaining_time": 1.181800967,
                        "test": [
                          0.5857867517
                        ]
                      },
                      {
                        "learn": [
                          0.5172362354
                        ],
                        "iteration": 175,
                        "passed_time": 8.318946458,
                        "remaining_time": 1.13440179,
                        "test": [
                          0.5855718485
                        ]
                      },
                      {
                        "learn": [
                          0.5168681076
                        ],
                        "iteration": 176,
                        "passed_time": 8.364514613,
                        "remaining_time": 1.086914328,
                        "test": [
                          0.585534421
                        ]
                      },
                      {
                        "learn": [
                          0.5162115851
                        ],
                        "iteration": 177,
                        "passed_time": 8.410403982,
                        "remaining_time": 1.039488133,
                        "test": [
                          0.5853033097
                        ]
                      },
                      {
                        "learn": [
                          0.5157369497
                        ],
                        "iteration": 178,
                        "passed_time": 8.456205301,
                        "remaining_time": 0.9920687783,
                        "test": [
                          0.5851850227
                        ]
                      },
                      {
                        "learn": [
                          0.5153172628
                        ],
                        "iteration": 179,
                        "passed_time": 8.50200297,
                        "remaining_time": 0.9446669967,
                        "test": [
                          0.5852075514
                        ]
                      },
                      {
                        "learn": [
                          0.5146812955
                        ],
                        "iteration": 180,
                        "passed_time": 8.547414752,
                        "remaining_time": 0.8972424325,
                        "test": [
                          0.584998111
                        ]
                      },
                      {
                        "learn": [
                          0.5142010937
                        ],
                        "iteration": 181,
                        "passed_time": 8.592633981,
                        "remaining_time": 0.8498209432,
                        "test": [
                          0.584690384
                        ]
                      },
                      {
                        "learn": [
                          0.5138330903
                        ],
                        "iteration": 182,
                        "passed_time": 8.638065694,
                        "remaining_time": 0.8024432612,
                        "test": [
                          0.584506723
                        ]
                      },
                      {
                        "learn": [
                          0.5134969614
                        ],
                        "iteration": 183,
                        "passed_time": 8.68399144,
                        "remaining_time": 0.7551296904,
                        "test": [
                          0.5843439203
                        ]
                      },
                      {
                        "learn": [
                          0.5130126237
                        ],
                        "iteration": 184,
                        "passed_time": 8.729120181,
                        "remaining_time": 0.7077665012,
                        "test": [
                          0.5842971021
                        ]
                      },
                      {
                        "learn": [
                          0.5126971122
                        ],
                        "iteration": 185,
                        "passed_time": 8.774136133,
                        "remaining_time": 0.6604188487,
                        "test": [
                          0.5842121792
                        ]
                      },
                      {
                        "learn": [
                          0.5122762437
                        ],
                        "iteration": 186,
                        "passed_time": 8.832978182,
                        "remaining_time": 0.6140573068,
                        "test": [
                          0.5841387238
                        ]
                      },
                      {
                        "learn": [
                          0.5116061318
                        ],
                        "iteration": 187,
                        "passed_time": 8.879231387,
                        "remaining_time": 0.5667594502,
                        "test": [
                          0.5840158768
                        ]
                      },
                      {
                        "learn": [
                          0.5111753122
                        ],
                        "iteration": 188,
                        "passed_time": 8.924268407,
                        "remaining_time": 0.519401865,
                        "test": [
                          0.5838161432
                        ]
                      },
                      {
                        "learn": [
                          0.5107653898
                        ],
                        "iteration": 189,
                        "passed_time": 8.969318091,
                        "remaining_time": 0.4720693732,
                        "test": [
                          0.5836527987
                        ]
                      },
                      {
                        "learn": [
                          0.510407182
                        ],
                        "iteration": 190,
                        "passed_time": 9.022082576,
                        "remaining_time": 0.4251243099,
                        "test": [
                          0.583530945
                        ]
                      },
                      {
                        "learn": [
                          0.5101038607
                        ],
                        "iteration": 191,
                        "passed_time": 9.070604844,
                        "remaining_time": 0.3779418685,
                        "test": [
                          0.5834927048
                        ]
                      },
                      {
                        "learn": [
                          0.5095014471
                        ],
                        "iteration": 192,
                        "passed_time": 9.115775093,
                        "remaining_time": 0.3306239671,
                        "test": [
                          0.5833024071
                        ]
                      },
                      {
                        "learn": [
                          0.5091413424
                        ],
                        "iteration": 193,
                        "passed_time": 9.162271854,
                        "remaining_time": 0.2833692326,
                        "test": [
                          0.5832563564
                        ]
                      },
                      {
                        "learn": [
                          0.5086061298
                        ],
                        "iteration": 194,
                        "passed_time": 9.207549504,
                        "remaining_time": 0.2360910129,
                        "test": [
                          0.58315965
                        ]
                      },
                      {
                        "learn": [
                          0.5083440121
                        ],
                        "iteration": 195,
                        "passed_time": 9.252548191,
                        "remaining_time": 0.1888275141,
                        "test": [
                          0.5830589705
                        ]
                      },
                      {
                        "learn": [
                          0.5080682428
                        ],
                        "iteration": 196,
                        "passed_time": 9.300557514,
                        "remaining_time": 0.1416328556,
                        "test": [
                          0.5829459206
                        ]
                      },
                      {
                        "learn": [
                          0.5078489147
                        ],
                        "iteration": 197,
                        "passed_time": 9.345656011,
                        "remaining_time": 0.09440056577,
                        "test": [
                          0.5829040235
                        ]
                      },
                      {
                        "learn": [
                          0.5075218974
                        ],
                        "iteration": 198,
                        "passed_time": 9.390673443,
                        "remaining_time": 0.04718931378,
                        "test": [
                          0.5827433427
                        ]
                      },
                      {
                        "learn": [
                          0.5070251208
                        ],
                        "iteration": 199,
                        "passed_time": 9.435701356,
                        "remaining_time": 0,
                        "test": [
                          0.5826948992
                        ]
                      }
                    ],
                    "meta": {
                      "test_sets": [
                        "test"
                      ],
                      "test_metrics": [
                        {
                          "best_value": "Min",
                          "name": "PairLogit"
                        }
                      ],
                      "learn_metrics": [
                        {
                          "best_value": "Min",
                          "name": "PairLogit"
                        }
                      ],
                      "launch_mode": "Train",
                      "parameters": "",
                      "iteration_count": 200,
                      "learn_sets": [
                        "learn"
                      ],
                      "name": "experiment"
                    }
                  }
                }
              }
            },
            "layout": "IPY_MODEL_af69050888f248e39362379f8d258f85"
          }
        },
        "11d8abd93d2d4b00b05fbba366706854": {
          "model_module": "@jupyter-widgets/controls",
          "model_name": "HBoxModel",
          "model_module_version": "1.5.0",
          "state": {
            "_dom_classes": [],
            "_model_module": "@jupyter-widgets/controls",
            "_model_module_version": "1.5.0",
            "_model_name": "HBoxModel",
            "_view_count": null,
            "_view_module": "@jupyter-widgets/controls",
            "_view_module_version": "1.5.0",
            "_view_name": "HBoxView",
            "box_style": "",
            "children": [
              "IPY_MODEL_a0c9874a8cad4346a444f2c7f4b675c8",
              "IPY_MODEL_66135b9c4c16427cb37947614cca0e82",
              "IPY_MODEL_25026883c8ef4009a9519a2fce4fdcb0"
            ],
            "layout": "IPY_MODEL_3d06cead5d9846d6a9982ed15a76edf2"
          }
        },
        "a0c9874a8cad4346a444f2c7f4b675c8": {
          "model_module": "@jupyter-widgets/controls",
          "model_name": "HTMLModel",
          "model_module_version": "1.5.0",
          "state": {
            "_dom_classes": [],
            "_model_module": "@jupyter-widgets/controls",
            "_model_module_version": "1.5.0",
            "_model_name": "HTMLModel",
            "_view_count": null,
            "_view_module": "@jupyter-widgets/controls",
            "_view_module_version": "1.5.0",
            "_view_name": "HTMLView",
            "description": "",
            "description_tooltip": null,
            "layout": "IPY_MODEL_89a2b22c93af4716a3c971c894455065",
            "placeholder": "​",
            "style": "IPY_MODEL_c481ae282b3d4af9b2b5bda17a801290",
            "value": "100%"
          }
        },
        "66135b9c4c16427cb37947614cca0e82": {
          "model_module": "@jupyter-widgets/controls",
          "model_name": "FloatProgressModel",
          "model_module_version": "1.5.0",
          "state": {
            "_dom_classes": [],
            "_model_module": "@jupyter-widgets/controls",
            "_model_module_version": "1.5.0",
            "_model_name": "FloatProgressModel",
            "_view_count": null,
            "_view_module": "@jupyter-widgets/controls",
            "_view_module_version": "1.5.0",
            "_view_name": "ProgressView",
            "bar_style": "success",
            "description": "",
            "description_tooltip": null,
            "layout": "IPY_MODEL_094e85e7866549d18e74857946318bc8",
            "max": 15,
            "min": 0,
            "orientation": "horizontal",
            "style": "IPY_MODEL_396ca40106e0487189c5ad864c09acca",
            "value": 15
          }
        },
        "25026883c8ef4009a9519a2fce4fdcb0": {
          "model_module": "@jupyter-widgets/controls",
          "model_name": "HTMLModel",
          "model_module_version": "1.5.0",
          "state": {
            "_dom_classes": [],
            "_model_module": "@jupyter-widgets/controls",
            "_model_module_version": "1.5.0",
            "_model_name": "HTMLModel",
            "_view_count": null,
            "_view_module": "@jupyter-widgets/controls",
            "_view_module_version": "1.5.0",
            "_view_name": "HTMLView",
            "description": "",
            "description_tooltip": null,
            "layout": "IPY_MODEL_2fcee6e65cb54c80bd1fc5fe2cd84a6f",
            "placeholder": "​",
            "style": "IPY_MODEL_d34e9fc1b74d4361af7ae199d01471e6",
            "value": " 15/15 [00:00&lt;00:00, 49.26it/s]"
          }
        },
        "3d06cead5d9846d6a9982ed15a76edf2": {
          "model_module": "@jupyter-widgets/base",
          "model_name": "LayoutModel",
          "model_module_version": "1.2.0",
          "state": {
            "_model_module": "@jupyter-widgets/base",
            "_model_module_version": "1.2.0",
            "_model_name": "LayoutModel",
            "_view_count": null,
            "_view_module": "@jupyter-widgets/base",
            "_view_module_version": "1.2.0",
            "_view_name": "LayoutView",
            "align_content": null,
            "align_items": null,
            "align_self": null,
            "border": null,
            "bottom": null,
            "display": null,
            "flex": null,
            "flex_flow": null,
            "grid_area": null,
            "grid_auto_columns": null,
            "grid_auto_flow": null,
            "grid_auto_rows": null,
            "grid_column": null,
            "grid_gap": null,
            "grid_row": null,
            "grid_template_areas": null,
            "grid_template_columns": null,
            "grid_template_rows": null,
            "height": null,
            "justify_content": null,
            "justify_items": null,
            "left": null,
            "margin": null,
            "max_height": null,
            "max_width": null,
            "min_height": null,
            "min_width": null,
            "object_fit": null,
            "object_position": null,
            "order": null,
            "overflow": null,
            "overflow_x": null,
            "overflow_y": null,
            "padding": null,
            "right": null,
            "top": null,
            "visibility": null,
            "width": null
          }
        },
        "89a2b22c93af4716a3c971c894455065": {
          "model_module": "@jupyter-widgets/base",
          "model_name": "LayoutModel",
          "model_module_version": "1.2.0",
          "state": {
            "_model_module": "@jupyter-widgets/base",
            "_model_module_version": "1.2.0",
            "_model_name": "LayoutModel",
            "_view_count": null,
            "_view_module": "@jupyter-widgets/base",
            "_view_module_version": "1.2.0",
            "_view_name": "LayoutView",
            "align_content": null,
            "align_items": null,
            "align_self": null,
            "border": null,
            "bottom": null,
            "display": null,
            "flex": null,
            "flex_flow": null,
            "grid_area": null,
            "grid_auto_columns": null,
            "grid_auto_flow": null,
            "grid_auto_rows": null,
            "grid_column": null,
            "grid_gap": null,
            "grid_row": null,
            "grid_template_areas": null,
            "grid_template_columns": null,
            "grid_template_rows": null,
            "height": null,
            "justify_content": null,
            "justify_items": null,
            "left": null,
            "margin": null,
            "max_height": null,
            "max_width": null,
            "min_height": null,
            "min_width": null,
            "object_fit": null,
            "object_position": null,
            "order": null,
            "overflow": null,
            "overflow_x": null,
            "overflow_y": null,
            "padding": null,
            "right": null,
            "top": null,
            "visibility": null,
            "width": null
          }
        },
        "c481ae282b3d4af9b2b5bda17a801290": {
          "model_module": "@jupyter-widgets/controls",
          "model_name": "DescriptionStyleModel",
          "model_module_version": "1.5.0",
          "state": {
            "_model_module": "@jupyter-widgets/controls",
            "_model_module_version": "1.5.0",
            "_model_name": "DescriptionStyleModel",
            "_view_count": null,
            "_view_module": "@jupyter-widgets/base",
            "_view_module_version": "1.2.0",
            "_view_name": "StyleView",
            "description_width": ""
          }
        },
        "094e85e7866549d18e74857946318bc8": {
          "model_module": "@jupyter-widgets/base",
          "model_name": "LayoutModel",
          "model_module_version": "1.2.0",
          "state": {
            "_model_module": "@jupyter-widgets/base",
            "_model_module_version": "1.2.0",
            "_model_name": "LayoutModel",
            "_view_count": null,
            "_view_module": "@jupyter-widgets/base",
            "_view_module_version": "1.2.0",
            "_view_name": "LayoutView",
            "align_content": null,
            "align_items": null,
            "align_self": null,
            "border": null,
            "bottom": null,
            "display": null,
            "flex": null,
            "flex_flow": null,
            "grid_area": null,
            "grid_auto_columns": null,
            "grid_auto_flow": null,
            "grid_auto_rows": null,
            "grid_column": null,
            "grid_gap": null,
            "grid_row": null,
            "grid_template_areas": null,
            "grid_template_columns": null,
            "grid_template_rows": null,
            "height": null,
            "justify_content": null,
            "justify_items": null,
            "left": null,
            "margin": null,
            "max_height": null,
            "max_width": null,
            "min_height": null,
            "min_width": null,
            "object_fit": null,
            "object_position": null,
            "order": null,
            "overflow": null,
            "overflow_x": null,
            "overflow_y": null,
            "padding": null,
            "right": null,
            "top": null,
            "visibility": null,
            "width": null
          }
        },
        "396ca40106e0487189c5ad864c09acca": {
          "model_module": "@jupyter-widgets/controls",
          "model_name": "ProgressStyleModel",
          "model_module_version": "1.5.0",
          "state": {
            "_model_module": "@jupyter-widgets/controls",
            "_model_module_version": "1.5.0",
            "_model_name": "ProgressStyleModel",
            "_view_count": null,
            "_view_module": "@jupyter-widgets/base",
            "_view_module_version": "1.2.0",
            "_view_name": "StyleView",
            "bar_color": null,
            "description_width": ""
          }
        },
        "2fcee6e65cb54c80bd1fc5fe2cd84a6f": {
          "model_module": "@jupyter-widgets/base",
          "model_name": "LayoutModel",
          "model_module_version": "1.2.0",
          "state": {
            "_model_module": "@jupyter-widgets/base",
            "_model_module_version": "1.2.0",
            "_model_name": "LayoutModel",
            "_view_count": null,
            "_view_module": "@jupyter-widgets/base",
            "_view_module_version": "1.2.0",
            "_view_name": "LayoutView",
            "align_content": null,
            "align_items": null,
            "align_self": null,
            "border": null,
            "bottom": null,
            "display": null,
            "flex": null,
            "flex_flow": null,
            "grid_area": null,
            "grid_auto_columns": null,
            "grid_auto_flow": null,
            "grid_auto_rows": null,
            "grid_column": null,
            "grid_gap": null,
            "grid_row": null,
            "grid_template_areas": null,
            "grid_template_columns": null,
            "grid_template_rows": null,
            "height": null,
            "justify_content": null,
            "justify_items": null,
            "left": null,
            "margin": null,
            "max_height": null,
            "max_width": null,
            "min_height": null,
            "min_width": null,
            "object_fit": null,
            "object_position": null,
            "order": null,
            "overflow": null,
            "overflow_x": null,
            "overflow_y": null,
            "padding": null,
            "right": null,
            "top": null,
            "visibility": null,
            "width": null
          }
        },
        "d34e9fc1b74d4361af7ae199d01471e6": {
          "model_module": "@jupyter-widgets/controls",
          "model_name": "DescriptionStyleModel",
          "model_module_version": "1.5.0",
          "state": {
            "_model_module": "@jupyter-widgets/controls",
            "_model_module_version": "1.5.0",
            "_model_name": "DescriptionStyleModel",
            "_view_count": null,
            "_view_module": "@jupyter-widgets/base",
            "_view_module_version": "1.2.0",
            "_view_name": "StyleView",
            "description_width": ""
          }
        },
        "347a8f9b48e74cfca59467e1970ed55a": {
          "model_module": "@jupyter-widgets/controls",
          "model_name": "HBoxModel",
          "model_module_version": "1.5.0",
          "state": {
            "_dom_classes": [],
            "_model_module": "@jupyter-widgets/controls",
            "_model_module_version": "1.5.0",
            "_model_name": "HBoxModel",
            "_view_count": null,
            "_view_module": "@jupyter-widgets/controls",
            "_view_module_version": "1.5.0",
            "_view_name": "HBoxView",
            "box_style": "",
            "children": [
              "IPY_MODEL_011598ef76d648e3b1ff459ccad8ffab",
              "IPY_MODEL_8b48d1869bab4f4eae800f24644bdb90",
              "IPY_MODEL_ad520dee758e44d191d409c99d687b46"
            ],
            "layout": "IPY_MODEL_fe4b962fae6f49778b661e36bdb0bd3d"
          }
        },
        "011598ef76d648e3b1ff459ccad8ffab": {
          "model_module": "@jupyter-widgets/controls",
          "model_name": "HTMLModel",
          "model_module_version": "1.5.0",
          "state": {
            "_dom_classes": [],
            "_model_module": "@jupyter-widgets/controls",
            "_model_module_version": "1.5.0",
            "_model_name": "HTMLModel",
            "_view_count": null,
            "_view_module": "@jupyter-widgets/controls",
            "_view_module_version": "1.5.0",
            "_view_name": "HTMLView",
            "description": "",
            "description_tooltip": null,
            "layout": "IPY_MODEL_cc8cb42ce9da4fb39a9f390552244d8f",
            "placeholder": "​",
            "style": "IPY_MODEL_1ee042f526074374973cdbb74bd29c9e",
            "value": "100%"
          }
        },
        "8b48d1869bab4f4eae800f24644bdb90": {
          "model_module": "@jupyter-widgets/controls",
          "model_name": "FloatProgressModel",
          "model_module_version": "1.5.0",
          "state": {
            "_dom_classes": [],
            "_model_module": "@jupyter-widgets/controls",
            "_model_module_version": "1.5.0",
            "_model_name": "FloatProgressModel",
            "_view_count": null,
            "_view_module": "@jupyter-widgets/controls",
            "_view_module_version": "1.5.0",
            "_view_name": "ProgressView",
            "bar_style": "success",
            "description": "",
            "description_tooltip": null,
            "layout": "IPY_MODEL_4c55f69f3ff94fc68ea071e8a1eb1fdb",
            "max": 52244,
            "min": 0,
            "orientation": "horizontal",
            "style": "IPY_MODEL_85899667b9b744699103c1b8296572a5",
            "value": 52244
          }
        },
        "ad520dee758e44d191d409c99d687b46": {
          "model_module": "@jupyter-widgets/controls",
          "model_name": "HTMLModel",
          "model_module_version": "1.5.0",
          "state": {
            "_dom_classes": [],
            "_model_module": "@jupyter-widgets/controls",
            "_model_module_version": "1.5.0",
            "_model_name": "HTMLModel",
            "_view_count": null,
            "_view_module": "@jupyter-widgets/controls",
            "_view_module_version": "1.5.0",
            "_view_name": "HTMLView",
            "description": "",
            "description_tooltip": null,
            "layout": "IPY_MODEL_afab0dcd5f354c25a24feb79015c6386",
            "placeholder": "​",
            "style": "IPY_MODEL_0ac988160e83453797c8ed00e69293c8",
            "value": " 52244/52244 [00:05&lt;00:00, 8593.12it/s]"
          }
        },
        "fe4b962fae6f49778b661e36bdb0bd3d": {
          "model_module": "@jupyter-widgets/base",
          "model_name": "LayoutModel",
          "model_module_version": "1.2.0",
          "state": {
            "_model_module": "@jupyter-widgets/base",
            "_model_module_version": "1.2.0",
            "_model_name": "LayoutModel",
            "_view_count": null,
            "_view_module": "@jupyter-widgets/base",
            "_view_module_version": "1.2.0",
            "_view_name": "LayoutView",
            "align_content": null,
            "align_items": null,
            "align_self": null,
            "border": null,
            "bottom": null,
            "display": null,
            "flex": null,
            "flex_flow": null,
            "grid_area": null,
            "grid_auto_columns": null,
            "grid_auto_flow": null,
            "grid_auto_rows": null,
            "grid_column": null,
            "grid_gap": null,
            "grid_row": null,
            "grid_template_areas": null,
            "grid_template_columns": null,
            "grid_template_rows": null,
            "height": null,
            "justify_content": null,
            "justify_items": null,
            "left": null,
            "margin": null,
            "max_height": null,
            "max_width": null,
            "min_height": null,
            "min_width": null,
            "object_fit": null,
            "object_position": null,
            "order": null,
            "overflow": null,
            "overflow_x": null,
            "overflow_y": null,
            "padding": null,
            "right": null,
            "top": null,
            "visibility": null,
            "width": null
          }
        },
        "cc8cb42ce9da4fb39a9f390552244d8f": {
          "model_module": "@jupyter-widgets/base",
          "model_name": "LayoutModel",
          "model_module_version": "1.2.0",
          "state": {
            "_model_module": "@jupyter-widgets/base",
            "_model_module_version": "1.2.0",
            "_model_name": "LayoutModel",
            "_view_count": null,
            "_view_module": "@jupyter-widgets/base",
            "_view_module_version": "1.2.0",
            "_view_name": "LayoutView",
            "align_content": null,
            "align_items": null,
            "align_self": null,
            "border": null,
            "bottom": null,
            "display": null,
            "flex": null,
            "flex_flow": null,
            "grid_area": null,
            "grid_auto_columns": null,
            "grid_auto_flow": null,
            "grid_auto_rows": null,
            "grid_column": null,
            "grid_gap": null,
            "grid_row": null,
            "grid_template_areas": null,
            "grid_template_columns": null,
            "grid_template_rows": null,
            "height": null,
            "justify_content": null,
            "justify_items": null,
            "left": null,
            "margin": null,
            "max_height": null,
            "max_width": null,
            "min_height": null,
            "min_width": null,
            "object_fit": null,
            "object_position": null,
            "order": null,
            "overflow": null,
            "overflow_x": null,
            "overflow_y": null,
            "padding": null,
            "right": null,
            "top": null,
            "visibility": null,
            "width": null
          }
        },
        "1ee042f526074374973cdbb74bd29c9e": {
          "model_module": "@jupyter-widgets/controls",
          "model_name": "DescriptionStyleModel",
          "model_module_version": "1.5.0",
          "state": {
            "_model_module": "@jupyter-widgets/controls",
            "_model_module_version": "1.5.0",
            "_model_name": "DescriptionStyleModel",
            "_view_count": null,
            "_view_module": "@jupyter-widgets/base",
            "_view_module_version": "1.2.0",
            "_view_name": "StyleView",
            "description_width": ""
          }
        },
        "4c55f69f3ff94fc68ea071e8a1eb1fdb": {
          "model_module": "@jupyter-widgets/base",
          "model_name": "LayoutModel",
          "model_module_version": "1.2.0",
          "state": {
            "_model_module": "@jupyter-widgets/base",
            "_model_module_version": "1.2.0",
            "_model_name": "LayoutModel",
            "_view_count": null,
            "_view_module": "@jupyter-widgets/base",
            "_view_module_version": "1.2.0",
            "_view_name": "LayoutView",
            "align_content": null,
            "align_items": null,
            "align_self": null,
            "border": null,
            "bottom": null,
            "display": null,
            "flex": null,
            "flex_flow": null,
            "grid_area": null,
            "grid_auto_columns": null,
            "grid_auto_flow": null,
            "grid_auto_rows": null,
            "grid_column": null,
            "grid_gap": null,
            "grid_row": null,
            "grid_template_areas": null,
            "grid_template_columns": null,
            "grid_template_rows": null,
            "height": null,
            "justify_content": null,
            "justify_items": null,
            "left": null,
            "margin": null,
            "max_height": null,
            "max_width": null,
            "min_height": null,
            "min_width": null,
            "object_fit": null,
            "object_position": null,
            "order": null,
            "overflow": null,
            "overflow_x": null,
            "overflow_y": null,
            "padding": null,
            "right": null,
            "top": null,
            "visibility": null,
            "width": null
          }
        },
        "85899667b9b744699103c1b8296572a5": {
          "model_module": "@jupyter-widgets/controls",
          "model_name": "ProgressStyleModel",
          "model_module_version": "1.5.0",
          "state": {
            "_model_module": "@jupyter-widgets/controls",
            "_model_module_version": "1.5.0",
            "_model_name": "ProgressStyleModel",
            "_view_count": null,
            "_view_module": "@jupyter-widgets/base",
            "_view_module_version": "1.2.0",
            "_view_name": "StyleView",
            "bar_color": null,
            "description_width": ""
          }
        },
        "afab0dcd5f354c25a24feb79015c6386": {
          "model_module": "@jupyter-widgets/base",
          "model_name": "LayoutModel",
          "model_module_version": "1.2.0",
          "state": {
            "_model_module": "@jupyter-widgets/base",
            "_model_module_version": "1.2.0",
            "_model_name": "LayoutModel",
            "_view_count": null,
            "_view_module": "@jupyter-widgets/base",
            "_view_module_version": "1.2.0",
            "_view_name": "LayoutView",
            "align_content": null,
            "align_items": null,
            "align_self": null,
            "border": null,
            "bottom": null,
            "display": null,
            "flex": null,
            "flex_flow": null,
            "grid_area": null,
            "grid_auto_columns": null,
            "grid_auto_flow": null,
            "grid_auto_rows": null,
            "grid_column": null,
            "grid_gap": null,
            "grid_row": null,
            "grid_template_areas": null,
            "grid_template_columns": null,
            "grid_template_rows": null,
            "height": null,
            "justify_content": null,
            "justify_items": null,
            "left": null,
            "margin": null,
            "max_height": null,
            "max_width": null,
            "min_height": null,
            "min_width": null,
            "object_fit": null,
            "object_position": null,
            "order": null,
            "overflow": null,
            "overflow_x": null,
            "overflow_y": null,
            "padding": null,
            "right": null,
            "top": null,
            "visibility": null,
            "width": null
          }
        },
        "0ac988160e83453797c8ed00e69293c8": {
          "model_module": "@jupyter-widgets/controls",
          "model_name": "DescriptionStyleModel",
          "model_module_version": "1.5.0",
          "state": {
            "_model_module": "@jupyter-widgets/controls",
            "_model_module_version": "1.5.0",
            "_model_name": "DescriptionStyleModel",
            "_view_count": null,
            "_view_module": "@jupyter-widgets/base",
            "_view_module_version": "1.2.0",
            "_view_name": "StyleView",
            "description_width": ""
          }
        },
        "24799f9f76d14c74a54f59f314867b3a": {
          "model_module": "catboost-widget",
          "model_name": "CatboostWidgetModel",
          "model_module_version": "^1.0.0",
          "state": {
            "_dom_classes": [],
            "_model_module": "catboost-widget",
            "_model_module_version": "^1.0.0",
            "_model_name": "CatboostWidgetModel",
            "_view_count": null,
            "_view_module": "catboost-widget",
            "_view_module_version": "^1.0.0",
            "_view_name": "CatboostWidgetView",
            "data": {
              "catboost_info": {
                "path": "catboost_info",
                "name": "catboost_info",
                "content": {
                  "passed_iterations": 199,
                  "total_iterations": 200,
                  "data": {
                    "iterations": [
                      {
                        "learn": [
                          0.6837524424
                        ],
                        "iteration": 0,
                        "passed_time": 0.1083471332,
                        "remaining_time": 21.56107951,
                        "test": [
                          0.6837524953
                        ]
                      },
                      {
                        "learn": [
                          0.6768886607
                        ],
                        "iteration": 1,
                        "passed_time": 0.199753699,
                        "remaining_time": 19.7756162,
                        "test": [
                          0.6768886607
                        ]
                      },
                      {
                        "learn": [
                          0.6717525609
                        ],
                        "iteration": 2,
                        "passed_time": 0.3026700815,
                        "remaining_time": 19.87533535,
                        "test": [
                          0.6717524551
                        ]
                      },
                      {
                        "learn": [
                          0.6676715734
                        ],
                        "iteration": 3,
                        "passed_time": 0.3500441576,
                        "remaining_time": 17.15216372,
                        "test": [
                          0.6676715734
                        ]
                      },
                      {
                        "learn": [
                          0.664618895
                        ],
                        "iteration": 4,
                        "passed_time": 0.3950022069,
                        "remaining_time": 15.40508607,
                        "test": [
                          0.6646188421
                        ]
                      },
                      {
                        "learn": [
                          0.6612083094
                        ],
                        "iteration": 5,
                        "passed_time": 0.4399012193,
                        "remaining_time": 14.22347276,
                        "test": [
                          0.6612083622
                        ]
                      },
                      {
                        "learn": [
                          0.6584977838
                        ],
                        "iteration": 6,
                        "passed_time": 0.4844356759,
                        "remaining_time": 13.35658363,
                        "test": [
                          0.6584976781
                        ]
                      },
                      {
                        "learn": [
                          0.6552751391
                        ],
                        "iteration": 7,
                        "passed_time": 0.5294891401,
                        "remaining_time": 12.70773936,
                        "test": [
                          0.6552750334
                        ]
                      },
                      {
                        "learn": [
                          0.65375332
                        ],
                        "iteration": 8,
                        "passed_time": 0.5737594514,
                        "remaining_time": 12.17645058,
                        "test": [
                          0.6537531614
                        ]
                      },
                      {
                        "learn": [
                          0.6521513022
                        ],
                        "iteration": 9,
                        "passed_time": 0.6180023262,
                        "remaining_time": 11.7420442,
                        "test": [
                          0.6521513551
                        ]
                      },
                      {
                        "learn": [
                          0.6497153131
                        ],
                        "iteration": 10,
                        "passed_time": 0.6622483003,
                        "remaining_time": 11.37862989,
                        "test": [
                          0.6497153131
                        ]
                      },
                      {
                        "learn": [
                          0.6477608863
                        ],
                        "iteration": 11,
                        "passed_time": 0.7066754039,
                        "remaining_time": 11.07124799,
                        "test": [
                          0.6477608863
                        ]
                      },
                      {
                        "learn": [
                          0.64575354
                        ],
                        "iteration": 12,
                        "passed_time": 0.7507341046,
                        "remaining_time": 10.79902135,
                        "test": [
                          0.6457534871
                        ]
                      },
                      {
                        "learn": [
                          0.6444288077
                        ],
                        "iteration": 13,
                        "passed_time": 0.7947258508,
                        "remaining_time": 10.55850059,
                        "test": [
                          0.6444287548
                        ]
                      },
                      {
                        "learn": [
                          0.6427870341
                        ],
                        "iteration": 14,
                        "passed_time": 0.8388641151,
                        "remaining_time": 10.34599075,
                        "test": [
                          0.6427870341
                        ]
                      },
                      {
                        "learn": [
                          0.6410518453
                        ],
                        "iteration": 15,
                        "passed_time": 0.8908087235,
                        "remaining_time": 10.24430032,
                        "test": [
                          0.6410518453
                        ]
                      },
                      {
                        "learn": [
                          0.6393992341
                        ],
                        "iteration": 16,
                        "passed_time": 0.9352203377,
                        "remaining_time": 10.06737187,
                        "test": [
                          0.6393992341
                        ]
                      },
                      {
                        "learn": [
                          0.6382058225
                        ],
                        "iteration": 17,
                        "passed_time": 0.9797586917,
                        "remaining_time": 9.906448994,
                        "test": [
                          0.6382058225
                        ]
                      },
                      {
                        "learn": [
                          0.6364640253
                        ],
                        "iteration": 18,
                        "passed_time": 1.024205781,
                        "remaining_time": 9.756907706,
                        "test": [
                          0.6364640253
                        ]
                      },
                      {
                        "learn": [
                          0.6350395337
                        ],
                        "iteration": 19,
                        "passed_time": 1.068521075,
                        "remaining_time": 9.616689679,
                        "test": [
                          0.6350395865
                        ]
                      },
                      {
                        "learn": [
                          0.6338108072
                        ],
                        "iteration": 20,
                        "passed_time": 1.112569103,
                        "remaining_time": 9.483327118,
                        "test": [
                          0.6338108601
                        ]
                      },
                      {
                        "learn": [
                          0.6324577384
                        ],
                        "iteration": 21,
                        "passed_time": 1.159101153,
                        "remaining_time": 9.378182055,
                        "test": [
                          0.6324577913
                        ]
                      },
                      {
                        "learn": [
                          0.6306855429
                        ],
                        "iteration": 22,
                        "passed_time": 1.203165978,
                        "remaining_time": 9.259146877,
                        "test": [
                          0.6306855957
                        ]
                      },
                      {
                        "learn": [
                          0.629452217
                        ],
                        "iteration": 23,
                        "passed_time": 1.247215722,
                        "remaining_time": 9.146248626,
                        "test": [
                          0.629452217
                        ]
                      },
                      {
                        "learn": [
                          0.6280287827
                        ],
                        "iteration": 24,
                        "passed_time": 1.29156489,
                        "remaining_time": 9.040954232,
                        "test": [
                          0.6280286241
                        ]
                      },
                      {
                        "learn": [
                          0.6266003789
                        ],
                        "iteration": 25,
                        "passed_time": 1.336041222,
                        "remaining_time": 8.941198947,
                        "test": [
                          0.6266004318
                        ]
                      },
                      {
                        "learn": [
                          0.6249736724
                        ],
                        "iteration": 26,
                        "passed_time": 1.380452235,
                        "remaining_time": 8.845119877,
                        "test": [
                          0.6249736724
                        ]
                      },
                      {
                        "learn": [
                          0.623172506
                        ],
                        "iteration": 27,
                        "passed_time": 1.425055059,
                        "remaining_time": 8.753909647,
                        "test": [
                          0.6231725588
                        ]
                      },
                      {
                        "learn": [
                          0.6216053801
                        ],
                        "iteration": 28,
                        "passed_time": 1.469546956,
                        "remaining_time": 8.665259637,
                        "test": [
                          0.6216053801
                        ]
                      },
                      {
                        "learn": [
                          0.620353921
                        ],
                        "iteration": 29,
                        "passed_time": 1.513604443,
                        "remaining_time": 8.577091845,
                        "test": [
                          0.6203540267
                        ]
                      },
                      {
                        "learn": [
                          0.6192661899
                        ],
                        "iteration": 30,
                        "passed_time": 1.557811918,
                        "remaining_time": 8.492587553,
                        "test": [
                          0.619266137
                        ]
                      },
                      {
                        "learn": [
                          0.6180179556
                        ],
                        "iteration": 31,
                        "passed_time": 1.602181376,
                        "remaining_time": 8.411452226,
                        "test": [
                          0.6180180085
                        ]
                      },
                      {
                        "learn": [
                          0.6168044548
                        ],
                        "iteration": 32,
                        "passed_time": 1.646367851,
                        "remaining_time": 8.331619125,
                        "test": [
                          0.6168044019
                        ]
                      },
                      {
                        "learn": [
                          0.6156621652
                        ],
                        "iteration": 33,
                        "passed_time": 1.690674657,
                        "remaining_time": 8.254470386,
                        "test": [
                          0.6156621652
                        ]
                      },
                      {
                        "learn": [
                          0.6146498748
                        ],
                        "iteration": 34,
                        "passed_time": 1.734939296,
                        "remaining_time": 8.178999537,
                        "test": [
                          0.6146499277
                        ]
                      },
                      {
                        "learn": [
                          0.6137486572
                        ],
                        "iteration": 35,
                        "passed_time": 1.778995926,
                        "remaining_time": 8.104314775,
                        "test": [
                          0.6137487629
                        ]
                      },
                      {
                        "learn": [
                          0.6127454598
                        ],
                        "iteration": 36,
                        "passed_time": 1.823267057,
                        "remaining_time": 8.032230549,
                        "test": [
                          0.6127454598
                        ]
                      },
                      {
                        "learn": [
                          0.6119674743
                        ],
                        "iteration": 37,
                        "passed_time": 1.867749614,
                        "remaining_time": 7.962511514,
                        "test": [
                          0.6119675801
                        ]
                      },
                      {
                        "learn": [
                          0.6109604706
                        ],
                        "iteration": 38,
                        "passed_time": 1.921075166,
                        "remaining_time": 7.930592351,
                        "test": [
                          0.6109604177
                        ]
                      },
                      {
                        "learn": [
                          0.6098758586
                        ],
                        "iteration": 39,
                        "passed_time": 1.965624177,
                        "remaining_time": 7.862496709,
                        "test": [
                          0.6098759114
                        ]
                      },
                      {
                        "learn": [
                          0.6085541397
                        ],
                        "iteration": 40,
                        "passed_time": 2.010147725,
                        "remaining_time": 7.795450934,
                        "test": [
                          0.6085541397
                        ]
                      },
                      {
                        "learn": [
                          0.6076170256
                        ],
                        "iteration": 41,
                        "passed_time": 2.05445956,
                        "remaining_time": 7.728681203,
                        "test": [
                          0.6076171842
                        ]
                      },
                      {
                        "learn": [
                          0.6066454953
                        ],
                        "iteration": 42,
                        "passed_time": 2.098809439,
                        "remaining_time": 7.663094928,
                        "test": [
                          0.6066454953
                        ]
                      },
                      {
                        "learn": [
                          0.6058570951
                        ],
                        "iteration": 43,
                        "passed_time": 2.150143801,
                        "remaining_time": 7.623237113,
                        "test": [
                          0.6058570951
                        ]
                      },
                      {
                        "learn": [
                          0.6047785099
                        ],
                        "iteration": 44,
                        "passed_time": 2.194801898,
                        "remaining_time": 7.559873205,
                        "test": [
                          0.6047786157
                        ]
                      },
                      {
                        "learn": [
                          0.6040064455
                        ],
                        "iteration": 45,
                        "passed_time": 2.239018448,
                        "remaining_time": 7.495844368,
                        "test": [
                          0.6040063926
                        ]
                      },
                      {
                        "learn": [
                          0.603052044
                        ],
                        "iteration": 46,
                        "passed_time": 2.283523274,
                        "remaining_time": 7.433597041,
                        "test": [
                          0.6030519383
                        ]
                      },
                      {
                        "learn": [
                          0.6023211627
                        ],
                        "iteration": 47,
                        "passed_time": 2.332358688,
                        "remaining_time": 7.385802513,
                        "test": [
                          0.6023211099
                        ]
                      },
                      {
                        "learn": [
                          0.6010360276
                        ],
                        "iteration": 48,
                        "passed_time": 2.377361088,
                        "remaining_time": 7.326153558,
                        "test": [
                          0.6010359747
                        ]
                      },
                      {
                        "learn": [
                          0.5998511804
                        ],
                        "iteration": 49,
                        "passed_time": 2.421497168,
                        "remaining_time": 7.264491504,
                        "test": [
                          0.5998512333
                        ]
                      },
                      {
                        "learn": [
                          0.5989318295
                        ],
                        "iteration": 50,
                        "passed_time": 2.465766582,
                        "remaining_time": 7.203906289,
                        "test": [
                          0.5989318295
                        ]
                      },
                      {
                        "learn": [
                          0.5979120849
                        ],
                        "iteration": 51,
                        "passed_time": 2.510019128,
                        "remaining_time": 7.143900595,
                        "test": [
                          0.5979121378
                        ]
                      },
                      {
                        "learn": [
                          0.5969061913
                        ],
                        "iteration": 52,
                        "passed_time": 2.554478904,
                        "remaining_time": 7.08506413,
                        "test": [
                          0.5969062442
                        ]
                      },
                      {
                        "learn": [
                          0.5959810251
                        ],
                        "iteration": 53,
                        "passed_time": 2.598925652,
                        "remaining_time": 7.026724911,
                        "test": [
                          0.5959811837
                        ]
                      },
                      {
                        "learn": [
                          0.595116867
                        ],
                        "iteration": 54,
                        "passed_time": 2.643352367,
                        "remaining_time": 6.968838059,
                        "test": [
                          0.595116867
                        ]
                      },
                      {
                        "learn": [
                          0.5940762929
                        ],
                        "iteration": 55,
                        "passed_time": 2.687756497,
                        "remaining_time": 6.911373849,
                        "test": [
                          0.5940761872
                        ]
                      },
                      {
                        "learn": [
                          0.5933264325
                        ],
                        "iteration": 56,
                        "passed_time": 2.731988312,
                        "remaining_time": 6.853935589,
                        "test": [
                          0.5933266439
                        ]
                      },
                      {
                        "learn": [
                          0.5924356296
                        ],
                        "iteration": 57,
                        "passed_time": 2.776225614,
                        "remaining_time": 6.796966158,
                        "test": [
                          0.5924355767
                        ]
                      },
                      {
                        "learn": [
                          0.5916161438
                        ],
                        "iteration": 58,
                        "passed_time": 2.820611888,
                        "remaining_time": 6.740784343,
                        "test": [
                          0.5916161438
                        ]
                      },
                      {
                        "learn": [
                          0.5903341806
                        ],
                        "iteration": 59,
                        "passed_time": 2.865033186,
                        "remaining_time": 6.685077434,
                        "test": [
                          0.5903340749
                        ]
                      },
                      {
                        "learn": [
                          0.5893566764
                        ],
                        "iteration": 60,
                        "passed_time": 2.912322411,
                        "remaining_time": 6.636275658,
                        "test": [
                          0.5893567822
                        ]
                      },
                      {
                        "learn": [
                          0.5886472061
                        ],
                        "iteration": 61,
                        "passed_time": 2.958486919,
                        "remaining_time": 6.585019271,
                        "test": [
                          0.588647259
                        ]
                      },
                      {
                        "learn": [
                          0.5879607856
                        ],
                        "iteration": 62,
                        "passed_time": 3.002953498,
                        "remaining_time": 6.530232209,
                        "test": [
                          0.5879607856
                        ]
                      },
                      {
                        "learn": [
                          0.5872857844
                        ],
                        "iteration": 63,
                        "passed_time": 3.047348324,
                        "remaining_time": 6.475615188,
                        "test": [
                          0.5872857844
                        ]
                      },
                      {
                        "learn": [
                          0.5862065648
                        ],
                        "iteration": 64,
                        "passed_time": 3.092269121,
                        "remaining_time": 6.422405098,
                        "test": [
                          0.586206459
                        ]
                      },
                      {
                        "learn": [
                          0.5852605162
                        ],
                        "iteration": 65,
                        "passed_time": 3.137279838,
                        "remaining_time": 6.369628762,
                        "test": [
                          0.5852605162
                        ]
                      },
                      {
                        "learn": [
                          0.5839917697
                        ],
                        "iteration": 66,
                        "passed_time": 3.181795117,
                        "remaining_time": 6.316100754,
                        "test": [
                          0.5839916111
                        ]
                      },
                      {
                        "learn": [
                          0.5830788686
                        ],
                        "iteration": 67,
                        "passed_time": 3.226205374,
                        "remaining_time": 6.262633962,
                        "test": [
                          0.5830788686
                        ]
                      },
                      {
                        "learn": [
                          0.5819201904
                        ],
                        "iteration": 68,
                        "passed_time": 3.27062398,
                        "remaining_time": 6.209445528,
                        "test": [
                          0.5819201904
                        ]
                      },
                      {
                        "learn": [
                          0.581185767
                        ],
                        "iteration": 69,
                        "passed_time": 3.315355405,
                        "remaining_time": 6.15708861,
                        "test": [
                          0.581185767
                        ]
                      },
                      {
                        "learn": [
                          0.5803269485
                        ],
                        "iteration": 70,
                        "passed_time": 3.368876067,
                        "remaining_time": 6.120915671,
                        "test": [
                          0.5803267899
                        ]
                      },
                      {
                        "learn": [
                          0.5796010895
                        ],
                        "iteration": 71,
                        "passed_time": 3.413338544,
                        "remaining_time": 6.068157412,
                        "test": [
                          0.5796011423
                        ]
                      },
                      {
                        "learn": [
                          0.5786057164
                        ],
                        "iteration": 72,
                        "passed_time": 3.457737586,
                        "remaining_time": 6.015516074,
                        "test": [
                          0.5786057692
                        ]
                      },
                      {
                        "learn": [
                          0.5779103614
                        ],
                        "iteration": 73,
                        "passed_time": 3.501979373,
                        "remaining_time": 5.962829743,
                        "test": [
                          0.5779103086
                        ]
                      },
                      {
                        "learn": [
                          0.5769531052
                        ],
                        "iteration": 74,
                        "passed_time": 3.5462142,
                        "remaining_time": 5.910357,
                        "test": [
                          0.5769530523
                        ]
                      },
                      {
                        "learn": [
                          0.5759968534
                        ],
                        "iteration": 75,
                        "passed_time": 3.590609907,
                        "remaining_time": 5.858363533,
                        "test": [
                          0.5759968005
                        ]
                      },
                      {
                        "learn": [
                          0.5752134226
                        ],
                        "iteration": 76,
                        "passed_time": 3.634802059,
                        "remaining_time": 5.806242251,
                        "test": [
                          0.5752134755
                        ]
                      },
                      {
                        "learn": [
                          0.574285243
                        ],
                        "iteration": 77,
                        "passed_time": 3.67912906,
                        "remaining_time": 5.754535196,
                        "test": [
                          0.5742852959
                        ]
                      },
                      {
                        "learn": [
                          0.5733142943
                        ],
                        "iteration": 78,
                        "passed_time": 3.726236918,
                        "remaining_time": 5.707274267,
                        "test": [
                          0.5733142943
                        ]
                      },
                      {
                        "learn": [
                          0.5724078429
                        ],
                        "iteration": 79,
                        "passed_time": 3.782997778,
                        "remaining_time": 5.674496668,
                        "test": [
                          0.57240779
                        ]
                      },
                      {
                        "learn": [
                          0.5718106613
                        ],
                        "iteration": 80,
                        "passed_time": 3.827807307,
                        "remaining_time": 5.623568759,
                        "test": [
                          0.5718106084
                        ]
                      },
                      {
                        "learn": [
                          0.5711186898
                        ],
                        "iteration": 81,
                        "passed_time": 3.872419257,
                        "remaining_time": 5.57250576,
                        "test": [
                          0.5711187427
                        ]
                      },
                      {
                        "learn": [
                          0.5704011838
                        ],
                        "iteration": 82,
                        "passed_time": 3.923026602,
                        "remaining_time": 5.530049548,
                        "test": [
                          0.5704011838
                        ]
                      },
                      {
                        "learn": [
                          0.5695323205
                        ],
                        "iteration": 83,
                        "passed_time": 3.967748553,
                        "remaining_time": 5.479271811,
                        "test": [
                          0.5695323734
                        ]
                      },
                      {
                        "learn": [
                          0.5687943551
                        ],
                        "iteration": 84,
                        "passed_time": 4.012441675,
                        "remaining_time": 5.42859756,
                        "test": [
                          0.5687944608
                        ]
                      },
                      {
                        "learn": [
                          0.5680821886
                        ],
                        "iteration": 85,
                        "passed_time": 4.056862724,
                        "remaining_time": 5.37770175,
                        "test": [
                          0.56808203
                        ]
                      },
                      {
                        "learn": [
                          0.5673689119
                        ],
                        "iteration": 86,
                        "passed_time": 4.101633967,
                        "remaining_time": 5.327409635,
                        "test": [
                          0.5673689647
                        ]
                      },
                      {
                        "learn": [
                          0.5662420594
                        ],
                        "iteration": 87,
                        "passed_time": 4.146468094,
                        "remaining_time": 5.277323029,
                        "test": [
                          0.5662420066
                        ]
                      },
                      {
                        "learn": [
                          0.5653157302
                        ],
                        "iteration": 88,
                        "passed_time": 4.191225003,
                        "remaining_time": 5.22725815,
                        "test": [
                          0.5653157302
                        ]
                      },
                      {
                        "learn": [
                          0.5644538982
                        ],
                        "iteration": 89,
                        "passed_time": 4.235775626,
                        "remaining_time": 5.177059098,
                        "test": [
                          0.5644538453
                        ]
                      },
                      {
                        "learn": [
                          0.563945374
                        ],
                        "iteration": 90,
                        "passed_time": 4.280502108,
                        "remaining_time": 5.127194833,
                        "test": [
                          0.563945374
                        ]
                      },
                      {
                        "learn": [
                          0.5634628601
                        ],
                        "iteration": 91,
                        "passed_time": 4.325210535,
                        "remaining_time": 5.077421063,
                        "test": [
                          0.563462913
                        ]
                      },
                      {
                        "learn": [
                          0.5625934682
                        ],
                        "iteration": 92,
                        "passed_time": 4.378404283,
                        "remaining_time": 5.037518906,
                        "test": [
                          0.5625935211
                        ]
                      },
                      {
                        "learn": [
                          0.5618918222
                        ],
                        "iteration": 93,
                        "passed_time": 4.425673272,
                        "remaining_time": 4.990652839,
                        "test": [
                          0.561891875
                        ]
                      },
                      {
                        "learn": [
                          0.5612949049
                        ],
                        "iteration": 94,
                        "passed_time": 4.470100912,
                        "remaining_time": 4.94063785,
                        "test": [
                          0.5612949578
                        ]
                      },
                      {
                        "learn": [
                          0.5604352405
                        ],
                        "iteration": 95,
                        "passed_time": 4.514679663,
                        "remaining_time": 4.890902969,
                        "test": [
                          0.5604352933
                        ]
                      },
                      {
                        "learn": [
                          0.5595424287
                        ],
                        "iteration": 96,
                        "passed_time": 4.559304597,
                        "remaining_time": 4.841323438,
                        "test": [
                          0.5595424815
                        ]
                      },
                      {
                        "learn": [
                          0.5589135271
                        ],
                        "iteration": 97,
                        "passed_time": 4.603946529,
                        "remaining_time": 4.791862713,
                        "test": [
                          0.55891358
                        ]
                      },
                      {
                        "learn": [
                          0.5581288804
                        ],
                        "iteration": 98,
                        "passed_time": 4.648147291,
                        "remaining_time": 4.742049257,
                        "test": [
                          0.5581289861
                        ]
                      },
                      {
                        "learn": [
                          0.557461069
                        ],
                        "iteration": 99,
                        "passed_time": 4.692431477,
                        "remaining_time": 4.692431477,
                        "test": [
                          0.5574612276
                        ]
                      },
                      {
                        "learn": [
                          0.5564871069
                        ],
                        "iteration": 100,
                        "passed_time": 4.737102651,
                        "remaining_time": 4.643298638,
                        "test": [
                          0.5564871069
                        ]
                      },
                      {
                        "learn": [
                          0.5557742531
                        ],
                        "iteration": 101,
                        "passed_time": 4.781513552,
                        "remaining_time": 4.594003217,
                        "test": [
                          0.5557742531
                        ]
                      },
                      {
                        "learn": [
                          0.5549128969
                        ],
                        "iteration": 102,
                        "passed_time": 4.826208806,
                        "remaining_time": 4.545070429,
                        "test": [
                          0.5549128969
                        ]
                      },
                      {
                        "learn": [
                          0.554026059
                        ],
                        "iteration": 103,
                        "passed_time": 4.874219723,
                        "remaining_time": 4.499279745,
                        "test": [
                          0.554026059
                        ]
                      },
                      {
                        "learn": [
                          0.553099624
                        ],
                        "iteration": 104,
                        "passed_time": 4.930903537,
                        "remaining_time": 4.461293676,
                        "test": [
                          0.5530996769
                        ]
                      },
                      {
                        "learn": [
                          0.5523606541
                        ],
                        "iteration": 105,
                        "passed_time": 4.975458916,
                        "remaining_time": 4.412199416,
                        "test": [
                          0.5523606012
                        ]
                      },
                      {
                        "learn": [
                          0.5516103179
                        ],
                        "iteration": 106,
                        "passed_time": 5.020340465,
                        "remaining_time": 4.363473488,
                        "test": [
                          0.5516103707
                        ]
                      },
                      {
                        "learn": [
                          0.5503867723
                        ],
                        "iteration": 107,
                        "passed_time": 5.06483332,
                        "remaining_time": 4.314487643,
                        "test": [
                          0.5503866666
                        ]
                      },
                      {
                        "learn": [
                          0.5497234546
                        ],
                        "iteration": 108,
                        "passed_time": 5.109383941,
                        "remaining_time": 4.265632465,
                        "test": [
                          0.5497234017
                        ]
                      },
                      {
                        "learn": [
                          0.5489733298
                        ],
                        "iteration": 109,
                        "passed_time": 5.154191308,
                        "remaining_time": 4.217065616,
                        "test": [
                          0.5489734356
                        ]
                      },
                      {
                        "learn": [
                          0.5482686175
                        ],
                        "iteration": 110,
                        "passed_time": 5.198902042,
                        "remaining_time": 4.168489025,
                        "test": [
                          0.5482686704
                        ]
                      },
                      {
                        "learn": [
                          0.5475566096
                        ],
                        "iteration": 111,
                        "passed_time": 5.243674529,
                        "remaining_time": 4.120029987,
                        "test": [
                          0.5475566625
                        ]
                      },
                      {
                        "learn": [
                          0.5470154667
                        ],
                        "iteration": 112,
                        "passed_time": 5.288692111,
                        "remaining_time": 4.071824899,
                        "test": [
                          0.5470154667
                        ]
                      },
                      {
                        "learn": [
                          0.5463728726
                        ],
                        "iteration": 113,
                        "passed_time": 5.333263227,
                        "remaining_time": 4.023338926,
                        "test": [
                          0.5463729784
                        ]
                      },
                      {
                        "learn": [
                          0.5454509842
                        ],
                        "iteration": 114,
                        "passed_time": 5.377492344,
                        "remaining_time": 3.974668254,
                        "test": [
                          0.5454509313
                        ]
                      },
                      {
                        "learn": [
                          0.544665756
                        ],
                        "iteration": 115,
                        "passed_time": 5.421887464,
                        "remaining_time": 3.92619437,
                        "test": [
                          0.5446657031
                        ]
                      },
                      {
                        "learn": [
                          0.5441781141
                        ],
                        "iteration": 116,
                        "passed_time": 5.46633393,
                        "remaining_time": 3.877826634,
                        "test": [
                          0.5441780612
                        ]
                      },
                      {
                        "learn": [
                          0.5435583056
                        ],
                        "iteration": 117,
                        "passed_time": 5.510810225,
                        "remaining_time": 3.829546089,
                        "test": [
                          0.5435582527
                        ]
                      },
                      {
                        "learn": [
                          0.5428581926
                        ],
                        "iteration": 118,
                        "passed_time": 5.555026304,
                        "remaining_time": 3.781152358,
                        "test": [
                          0.542858034
                        ]
                      },
                      {
                        "learn": [
                          0.5423718195
                        ],
                        "iteration": 119,
                        "passed_time": 5.599679049,
                        "remaining_time": 3.733119366,
                        "test": [
                          0.5423718195
                        ]
                      },
                      {
                        "learn": [
                          0.5418695336
                        ],
                        "iteration": 120,
                        "passed_time": 5.644251823,
                        "remaining_time": 3.685090033,
                        "test": [
                          0.5418695865
                        ]
                      },
                      {
                        "learn": [
                          0.5413347347
                        ],
                        "iteration": 121,
                        "passed_time": 5.688756033,
                        "remaining_time": 3.63707353,
                        "test": [
                          0.5413347347
                        ]
                      },
                      {
                        "learn": [
                          0.5408643801
                        ],
                        "iteration": 122,
                        "passed_time": 5.732993134,
                        "remaining_time": 3.588946921,
                        "test": [
                          0.5408643273
                        ]
                      },
                      {
                        "learn": [
                          0.5400521899
                        ],
                        "iteration": 123,
                        "passed_time": 5.77760737,
                        "remaining_time": 3.541114195,
                        "test": [
                          0.5400522428
                        ]
                      },
                      {
                        "learn": [
                          0.5394363464
                        ],
                        "iteration": 124,
                        "passed_time": 5.822185819,
                        "remaining_time": 3.493311491,
                        "test": [
                          0.5394362407
                        ]
                      },
                      {
                        "learn": [
                          0.5386501138
                        ],
                        "iteration": 125,
                        "passed_time": 5.870497961,
                        "remaining_time": 3.447752771,
                        "test": [
                          0.5386500609
                        ]
                      },
                      {
                        "learn": [
                          0.5380776209
                        ],
                        "iteration": 126,
                        "passed_time": 5.929521541,
                        "remaining_time": 3.408307657,
                        "test": [
                          0.5380777266
                        ]
                      },
                      {
                        "learn": [
                          0.5377096691
                        ],
                        "iteration": 127,
                        "passed_time": 5.974487695,
                        "remaining_time": 3.360649328,
                        "test": [
                          0.5377096691
                        ]
                      },
                      {
                        "learn": [
                          0.5370967333
                        ],
                        "iteration": 128,
                        "passed_time": 6.019420034,
                        "remaining_time": 3.313014127,
                        "test": [
                          0.5370967333
                        ]
                      },
                      {
                        "learn": [
                          0.5365109709
                        ],
                        "iteration": 129,
                        "passed_time": 6.06411702,
                        "remaining_time": 3.26529378,
                        "test": [
                          0.5365109709
                        ]
                      },
                      {
                        "learn": [
                          0.5360166149
                        ],
                        "iteration": 130,
                        "passed_time": 6.108701417,
                        "remaining_time": 3.217560288,
                        "test": [
                          0.5360166149
                        ]
                      },
                      {
                        "learn": [
                          0.5352984745
                        ],
                        "iteration": 131,
                        "passed_time": 6.154026534,
                        "remaining_time": 3.170256093,
                        "test": [
                          0.5352985273
                        ]
                      },
                      {
                        "learn": [
                          0.5345745187
                        ],
                        "iteration": 132,
                        "passed_time": 6.198684216,
                        "remaining_time": 3.122645432,
                        "test": [
                          0.5345745187
                        ]
                      },
                      {
                        "learn": [
                          0.5338565369
                        ],
                        "iteration": 133,
                        "passed_time": 6.243079886,
                        "remaining_time": 3.074949795,
                        "test": [
                          0.5338565369
                        ]
                      },
                      {
                        "learn": [
                          0.5331693234
                        ],
                        "iteration": 134,
                        "passed_time": 6.288042809,
                        "remaining_time": 3.027576167,
                        "test": [
                          0.5331693234
                        ]
                      },
                      {
                        "learn": [
                          0.5322701147
                        ],
                        "iteration": 135,
                        "passed_time": 6.332928384,
                        "remaining_time": 2.980201592,
                        "test": [
                          0.5322701147
                        ]
                      },
                      {
                        "learn": [
                          0.5316184276
                        ],
                        "iteration": 136,
                        "passed_time": 6.377509648,
                        "remaining_time": 2.932723415,
                        "test": [
                          0.5316185334
                        ]
                      },
                      {
                        "learn": [
                          0.5309345448
                        ],
                        "iteration": 137,
                        "passed_time": 6.435213742,
                        "remaining_time": 2.891182986,
                        "test": [
                          0.5309344919
                        ]
                      },
                      {
                        "learn": [
                          0.530493214
                        ],
                        "iteration": 138,
                        "passed_time": 6.479908621,
                        "remaining_time": 2.843700906,
                        "test": [
                          0.5304931612
                        ]
                      },
                      {
                        "learn": [
                          0.5297877087
                        ],
                        "iteration": 139,
                        "passed_time": 6.524418088,
                        "remaining_time": 2.79617918,
                        "test": [
                          0.5297877087
                        ]
                      },
                      {
                        "learn": [
                          0.5288822089
                        ],
                        "iteration": 140,
                        "passed_time": 6.568791444,
                        "remaining_time": 2.748643229,
                        "test": [
                          0.5288822089
                        ]
                      },
                      {
                        "learn": [
                          0.5283789185
                        ],
                        "iteration": 141,
                        "passed_time": 6.613090131,
                        "remaining_time": 2.701121321,
                        "test": [
                          0.5283789185
                        ]
                      },
                      {
                        "learn": [
                          0.5279075595
                        ],
                        "iteration": 142,
                        "passed_time": 6.657519659,
                        "remaining_time": 2.653696647,
                        "test": [
                          0.5279076124
                        ]
                      },
                      {
                        "learn": [
                          0.5272784993
                        ],
                        "iteration": 143,
                        "passed_time": 6.703800131,
                        "remaining_time": 2.607033384,
                        "test": [
                          0.5272784993
                        ]
                      },
                      {
                        "learn": [
                          0.5268613287
                        ],
                        "iteration": 144,
                        "passed_time": 6.748052604,
                        "remaining_time": 2.55960616,
                        "test": [
                          0.5268613287
                        ]
                      },
                      {
                        "learn": [
                          0.5263740569
                        ],
                        "iteration": 145,
                        "passed_time": 6.792763259,
                        "remaining_time": 2.51239189,
                        "test": [
                          0.5263741097
                        ]
                      },
                      {
                        "learn": [
                          0.5255941682
                        ],
                        "iteration": 146,
                        "passed_time": 6.837492703,
                        "remaining_time": 2.465218458,
                        "test": [
                          0.5255941682
                        ]
                      },
                      {
                        "learn": [
                          0.5249802279
                        ],
                        "iteration": 147,
                        "passed_time": 6.88200735,
                        "remaining_time": 2.418002583,
                        "test": [
                          0.5249802807
                        ]
                      },
                      {
                        "learn": [
                          0.5244701177
                        ],
                        "iteration": 148,
                        "passed_time": 6.947985016,
                        "remaining_time": 2.378169368,
                        "test": [
                          0.5244701705
                        ]
                      },
                      {
                        "learn": [
                          0.5236126736
                        ],
                        "iteration": 149,
                        "passed_time": 6.993058205,
                        "remaining_time": 2.331019402,
                        "test": [
                          0.5236126736
                        ]
                      },
                      {
                        "learn": [
                          0.5230346298
                        ],
                        "iteration": 150,
                        "passed_time": 7.037526906,
                        "remaining_time": 2.283700784,
                        "test": [
                          0.5230346298
                        ]
                      },
                      {
                        "learn": [
                          0.5227839362
                        ],
                        "iteration": 151,
                        "passed_time": 7.081818689,
                        "remaining_time": 2.236363796,
                        "test": [
                          0.5227839362
                        ]
                      },
                      {
                        "learn": [
                          0.5221982795
                        ],
                        "iteration": 152,
                        "passed_time": 7.126439835,
                        "remaining_time": 2.189167792,
                        "test": [
                          0.5221982795
                        ]
                      },
                      {
                        "learn": [
                          0.5218250939
                        ],
                        "iteration": 153,
                        "passed_time": 7.171086831,
                        "remaining_time": 2.142012949,
                        "test": [
                          0.5218251468
                        ]
                      },
                      {
                        "learn": [
                          0.5212019019
                        ],
                        "iteration": 154,
                        "passed_time": 7.21545593,
                        "remaining_time": 2.094809786,
                        "test": [
                          0.5212019019
                        ]
                      },
                      {
                        "learn": [
                          0.5206425729
                        ],
                        "iteration": 155,
                        "passed_time": 7.261470216,
                        "remaining_time": 2.048106984,
                        "test": [
                          0.5206426257
                        ]
                      },
                      {
                        "learn": [
                          0.520169205
                        ],
                        "iteration": 156,
                        "passed_time": 7.306016128,
                        "remaining_time": 2.001010787,
                        "test": [
                          0.5201691521
                        ]
                      },
                      {
                        "learn": [
                          0.5197434699
                        ],
                        "iteration": 157,
                        "passed_time": 7.350326704,
                        "remaining_time": 1.953884314,
                        "test": [
                          0.519743417
                        ]
                      },
                      {
                        "learn": [
                          0.5192036486
                        ],
                        "iteration": 158,
                        "passed_time": 7.394773976,
                        "remaining_time": 1.906828509,
                        "test": [
                          0.5192035958
                        ]
                      },
                      {
                        "learn": [
                          0.5187406955
                        ],
                        "iteration": 159,
                        "passed_time": 7.441794946,
                        "remaining_time": 1.860448737,
                        "test": [
                          0.5187408012
                        ]
                      },
                      {
                        "learn": [
                          0.5181008505
                        ],
                        "iteration": 160,
                        "passed_time": 7.491017099,
                        "remaining_time": 1.814594204,
                        "test": [
                          0.5181007448
                        ]
                      },
                      {
                        "learn": [
                          0.5175872511
                        ],
                        "iteration": 161,
                        "passed_time": 7.540577161,
                        "remaining_time": 1.768777359,
                        "test": [
                          0.517587304
                        ]
                      },
                      {
                        "learn": [
                          0.5172307185
                        ],
                        "iteration": 162,
                        "passed_time": 7.586814816,
                        "remaining_time": 1.722160418,
                        "test": [
                          0.5172307713
                        ]
                      },
                      {
                        "learn": [
                          0.5166483396
                        ],
                        "iteration": 163,
                        "passed_time": 7.631355692,
                        "remaining_time": 1.67517564,
                        "test": [
                          0.5166483924
                        ]
                      },
                      {
                        "learn": [
                          0.516242641
                        ],
                        "iteration": 164,
                        "passed_time": 7.67587154,
                        "remaining_time": 1.628215175,
                        "test": [
                          0.516242641
                        ]
                      },
                      {
                        "learn": [
                          0.515816483
                        ],
                        "iteration": 165,
                        "passed_time": 7.720312858,
                        "remaining_time": 1.581268899,
                        "test": [
                          0.515816483
                        ]
                      },
                      {
                        "learn": [
                          0.51513186
                        ],
                        "iteration": 166,
                        "passed_time": 7.764829157,
                        "remaining_time": 1.534367438,
                        "test": [
                          0.5151319128
                        ]
                      },
                      {
                        "learn": [
                          0.514704909
                        ],
                        "iteration": 167,
                        "passed_time": 7.809309192,
                        "remaining_time": 1.487487465,
                        "test": [
                          0.514704909
                        ]
                      },
                      {
                        "learn": [
                          0.5139945928
                        ],
                        "iteration": 168,
                        "passed_time": 7.853887491,
                        "remaining_time": 1.440653919,
                        "test": [
                          0.5139944871
                        ]
                      },
                      {
                        "learn": [
                          0.5132993436
                        ],
                        "iteration": 169,
                        "passed_time": 7.898482092,
                        "remaining_time": 1.393849781,
                        "test": [
                          0.5132993436
                        ]
                      },
                      {
                        "learn": [
                          0.5125066083
                        ],
                        "iteration": 170,
                        "passed_time": 7.959103529,
                        "remaining_time": 1.349789487,
                        "test": [
                          0.5125066612
                        ]
                      },
                      {
                        "learn": [
                          0.5118908177
                        ],
                        "iteration": 171,
                        "passed_time": 8.004883553,
                        "remaining_time": 1.303120578,
                        "test": [
                          0.5118908706
                        ]
                      },
                      {
                        "learn": [
                          0.5113660634
                        ],
                        "iteration": 172,
                        "passed_time": 8.049369886,
                        "remaining_time": 1.25626004,
                        "test": [
                          0.5113660106
                        ]
                      },
                      {
                        "learn": [
                          0.5108119682
                        ],
                        "iteration": 173,
                        "passed_time": 8.094225576,
                        "remaining_time": 1.209481983,
                        "test": [
                          0.5108119682
                        ]
                      },
                      {
                        "learn": [
                          0.5104232926
                        ],
                        "iteration": 174,
                        "passed_time": 8.138904803,
                        "remaining_time": 1.162700686,
                        "test": [
                          0.5104233455
                        ]
                      },
                      {
                        "learn": [
                          0.5099423119
                        ],
                        "iteration": 175,
                        "passed_time": 8.183770861,
                        "remaining_time": 1.115968754,
                        "test": [
                          0.5099422591
                        ]
                      },
                      {
                        "learn": [
                          0.5095782722
                        ],
                        "iteration": 176,
                        "passed_time": 8.228732441,
                        "remaining_time": 1.069270317,
                        "test": [
                          0.5095782194
                        ]
                      },
                      {
                        "learn": [
                          0.5088804326
                        ],
                        "iteration": 177,
                        "passed_time": 8.274181837,
                        "remaining_time": 1.022651688,
                        "test": [
                          0.5088804326
                        ]
                      },
                      {
                        "learn": [
                          0.5083160812
                        ],
                        "iteration": 178,
                        "passed_time": 8.320203549,
                        "remaining_time": 0.9761132656,
                        "test": [
                          0.5083160283
                        ]
                      },
                      {
                        "learn": [
                          0.5079675843
                        ],
                        "iteration": 179,
                        "passed_time": 8.364504602,
                        "remaining_time": 0.9293894002,
                        "test": [
                          0.5079674786
                        ]
                      },
                      {
                        "learn": [
                          0.5075811291
                        ],
                        "iteration": 180,
                        "passed_time": 8.408766508,
                        "remaining_time": 0.882688197,
                        "test": [
                          0.5075811291
                        ]
                      },
                      {
                        "learn": [
                          0.5069483155
                        ],
                        "iteration": 181,
                        "passed_time": 8.45970969,
                        "remaining_time": 0.8366745847,
                        "test": [
                          0.5069482626
                        ]
                      },
                      {
                        "learn": [
                          0.5065374359
                        ],
                        "iteration": 182,
                        "passed_time": 8.506750375,
                        "remaining_time": 0.7902445703,
                        "test": [
                          0.5065374888
                        ]
                      },
                      {
                        "learn": [
                          0.5059628813
                        ],
                        "iteration": 183,
                        "passed_time": 8.551056563,
                        "remaining_time": 0.7435701359,
                        "test": [
                          0.5059628813
                        ]
                      },
                      {
                        "learn": [
                          0.5055237181
                        ],
                        "iteration": 184,
                        "passed_time": 8.595581693,
                        "remaining_time": 0.6969390562,
                        "test": [
                          0.5055236124
                        ]
                      },
                      {
                        "learn": [
                          0.5049789802
                        ],
                        "iteration": 185,
                        "passed_time": 8.640248345,
                        "remaining_time": 0.6503412733,
                        "test": [
                          0.5049789274
                        ]
                      },
                      {
                        "learn": [
                          0.5044746325
                        ],
                        "iteration": 186,
                        "passed_time": 8.684907686,
                        "remaining_time": 0.6037636359,
                        "test": [
                          0.5044746853
                        ]
                      },
                      {
                        "learn": [
                          0.503991167
                        ],
                        "iteration": 187,
                        "passed_time": 8.72947914,
                        "remaining_time": 0.5572007962,
                        "test": [
                          0.503991167
                        ]
                      },
                      {
                        "learn": [
                          0.5034172997
                        ],
                        "iteration": 188,
                        "passed_time": 8.774294751,
                        "remaining_time": 0.5106732395,
                        "test": [
                          0.5034172997
                        ]
                      },
                      {
                        "learn": [
                          0.5029116302
                        ],
                        "iteration": 189,
                        "passed_time": 8.819022174,
                        "remaining_time": 0.4641590618,
                        "test": [
                          0.5029116302
                        ]
                      },
                      {
                        "learn": [
                          0.5024437605
                        ],
                        "iteration": 190,
                        "passed_time": 8.863596693,
                        "remaining_time": 0.4176563887,
                        "test": [
                          0.5024437605
                        ]
                      },
                      {
                        "learn": [
                          0.5020497983
                        ],
                        "iteration": 191,
                        "passed_time": 8.908810322,
                        "remaining_time": 0.3712004301,
                        "test": [
                          0.5020497983
                        ]
                      },
                      {
                        "learn": [
                          0.5016098949
                        ],
                        "iteration": 192,
                        "passed_time": 8.956204257,
                        "remaining_time": 0.3248364238,
                        "test": [
                          0.5016099478
                        ]
                      },
                      {
                        "learn": [
                          0.5012040906
                        ],
                        "iteration": 193,
                        "passed_time": 9.011792991,
                        "remaining_time": 0.2787152472,
                        "test": [
                          0.5012040906
                        ]
                      },
                      {
                        "learn": [
                          0.5008380949
                        ],
                        "iteration": 194,
                        "passed_time": 9.056792025,
                        "remaining_time": 0.2322254365,
                        "test": [
                          0.500838042
                        ]
                      },
                      {
                        "learn": [
                          0.5000028548
                        ],
                        "iteration": 195,
                        "passed_time": 9.101487797,
                        "remaining_time": 0.1857446489,
                        "test": [
                          0.5000028548
                        ]
                      },
                      {
                        "learn": [
                          0.4994465391
                        ],
                        "iteration": 196,
                        "passed_time": 9.145761634,
                        "remaining_time": 0.1392755579,
                        "test": [
                          0.4994464334
                        ]
                      },
                      {
                        "learn": [
                          0.4988512608
                        ],
                        "iteration": 197,
                        "passed_time": 9.190267479,
                        "remaining_time": 0.09283098464,
                        "test": [
                          0.4988512608
                        ]
                      },
                      {
                        "learn": [
                          0.498429755
                        ],
                        "iteration": 198,
                        "passed_time": 9.234659725,
                        "remaining_time": 0.04640532525,
                        "test": [
                          0.4984298079
                        ]
                      },
                      {
                        "learn": [
                          0.4979561228
                        ],
                        "iteration": 199,
                        "passed_time": 9.280010465,
                        "remaining_time": 0,
                        "test": [
                          0.4979560699
                        ]
                      }
                    ],
                    "meta": {
                      "test_sets": [
                        "test"
                      ],
                      "test_metrics": [
                        {
                          "best_value": "Min",
                          "name": "PairLogit"
                        }
                      ],
                      "learn_metrics": [
                        {
                          "best_value": "Min",
                          "name": "PairLogit"
                        }
                      ],
                      "launch_mode": "Train",
                      "parameters": "",
                      "iteration_count": 200,
                      "learn_sets": [
                        "learn"
                      ],
                      "name": "experiment"
                    }
                  }
                }
              }
            },
            "layout": "IPY_MODEL_25210ff39016405a804c276a7ac03d47"
          }
        }
      }
    }
  },
  "nbformat": 4,
  "nbformat_minor": 5
}