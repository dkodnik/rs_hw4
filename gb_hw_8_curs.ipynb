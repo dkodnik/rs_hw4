{
  "cells": [
    {
      "cell_type": "markdown",
      "source": [
        "## **Основное**\n",
        "- На retail_test1.csv целевая метрика precision@5 > 0.235\n",
        "- Бейзлайн решения - [MainRecommender](https://github.com/geangohn/recsys-tutorial/blob/master/src/recommenders.py)\n",
        "- Сдаем ссылку на github с решением. В решении должны быть отчетливо видна метрика на новом тестовом сете из файла retail_test1.csv, то есть вам нужно для всех юзеров из этого файла выдать выши рекомендации, и посчитать на actual покупках precision@5. "
      ],
      "metadata": {
        "id": "NbsDSzKoCy6r"
      },
      "id": "NbsDSzKoCy6r"
    },
    {
      "cell_type": "markdown",
      "id": "20d895d2-bf68-4120-803f-dee12633ae74",
      "metadata": {
        "id": "20d895d2-bf68-4120-803f-dee12633ae74"
      },
      "source": [
        "# Импорт"
      ]
    },
    {
      "cell_type": "code",
      "source": [
        "#!pip install implicit==0.4.4\n",
        "#!pip install catboost"
      ],
      "metadata": {
        "id": "hpvvi9WNxuTw"
      },
      "id": "hpvvi9WNxuTw",
      "execution_count": 1,
      "outputs": []
    },
    {
      "cell_type": "code",
      "source": [
        "_GPU_ACTION=True"
      ],
      "metadata": {
        "id": "IC3Zq-Q2xvyr"
      },
      "id": "IC3Zq-Q2xvyr",
      "execution_count": 2,
      "outputs": []
    },
    {
      "cell_type": "code",
      "execution_count": 3,
      "id": "fa0ad6d8-65e0-4bb1-9e7a-245bbefe9790",
      "metadata": {
        "tags": [],
        "id": "fa0ad6d8-65e0-4bb1-9e7a-245bbefe9790"
      },
      "outputs": [],
      "source": [
        "from src.utils import *\n",
        "from src.metrics import precision_at_k\n",
        "from src.recommenders import MainRecommender\n",
        "import pandas as pd\n",
        "import numpy as np\n",
        "\n",
        "import sys\n",
        "import inspect\n",
        "from pprint import pprint\n",
        "import warnings\n"
      ]
    },
    {
      "cell_type": "code",
      "source": [
        "!pip install -U -q PyDrive\n",
        " \n",
        "from pydrive.auth import GoogleAuth\n",
        "from pydrive.drive import GoogleDrive\n",
        "from google.colab import auth\n",
        "from oauth2client.client import GoogleCredentials\n",
        " \n",
        " \n",
        "# Authenticate and create the PyDrive client.\n",
        "auth.authenticate_user()\n",
        "gauth = GoogleAuth()\n",
        "gauth.credentials = GoogleCredentials.get_application_default()\n",
        "drive = GoogleDrive(gauth)\n",
        "\n",
        "link1 = 'https://drive.google.com/file/d/11I5eGSyDkFvSbU5J-5HTkunRoVjUPvZ4/view'\n",
        "id1 = link1.split(\"/\")[-2]\n",
        "downloaded1 = drive.CreateFile({'id':id1})\n",
        "downloaded1.GetContentFile('retail_train.csv')\n",
        "\n",
        "link2 = 'https://drive.google.com/file/d/15r1tmfW5NbS-wE0EkZ_KWBEWRb29PPFF/view'\n",
        "id2 = link2.split(\"/\")[-2]\n",
        "downloaded2 = drive.CreateFile({'id':id2})\n",
        "downloaded2.GetContentFile('product.csv')\n",
        "\n",
        "link3 = 'https://drive.google.com/file/d/1x8MG76QgnJQZ5nsv8J35sGTm0kMc5vaZ/view'\n",
        "id3 = link3.split(\"/\")[-2]\n",
        "downloaded3 = drive.CreateFile({'id':id3})\n",
        "downloaded3.GetContentFile('hh_demographic.csv')\n",
        "\n",
        "link4 = 'https://drive.google.com/file/d/16ZdmG_RJX6kUSOrAwhQ1rAOmPXTbhbaw/view'\n",
        "id4 = link4.split(\"/\")[-2]\n",
        "downloaded4 = drive.CreateFile({'id':id4})\n",
        "downloaded4.GetContentFile('retail_test1.csv')"
      ],
      "metadata": {
        "id": "lPf1YAedF6K2"
      },
      "id": "lPf1YAedF6K2",
      "execution_count": 4,
      "outputs": []
    },
    {
      "cell_type": "markdown",
      "id": "5b03554f-a7ae-4fc8-a258-e70c3b20c9f7",
      "metadata": {
        "id": "5b03554f-a7ae-4fc8-a258-e70c3b20c9f7"
      },
      "source": [
        "\n",
        "# Предоброботка данных\n"
      ]
    },
    {
      "cell_type": "code",
      "source": [
        "_CONSTANTS = {\n",
        "    'ITEM_COL': 'item_id',\n",
        "    'USER_COL': 'user_id',\n",
        "    'ACTUAL_COL': 'actual',\n",
        "    'TOPK_PRECISION': 5,\n",
        "    'VAL_MATCHER_WEEKS': 6,\n",
        "    'VAL_RANKER_WEEKS': 3,\n",
        "}"
      ],
      "metadata": {
        "id": "6m8lo1sd_47z"
      },
      "id": "6m8lo1sd_47z",
      "execution_count": 5,
      "outputs": []
    },
    {
      "cell_type": "code",
      "source": [
        "class Dataset:\n",
        "    data_train = pd.read_csv('retail_train.csv')\n",
        "    data_test = pd.read_csv(r'retail_test1.csv')\n",
        "    item_features = pd.read_csv('product.csv')\n",
        "    user_features = pd.read_csv('hh_demographic.csv')\n",
        "    _CONSTANTS = _CONSTANTS\n",
        "\n",
        "    def data_prefilter(self, make_worse=False):\n",
        "        self.item_features.columns = [col.lower() for col in self.item_features.columns]\n",
        "        self.user_features.columns = [col.lower() for col in self.user_features.columns]\n",
        "        self.item_features.rename(columns={'product_id': _CONSTANTS['ITEM_COL']}, inplace=True)\n",
        "        self.user_features.rename(columns={'household_key': _CONSTANTS['USER_COL']}, inplace=True)\n",
        "\n",
        "        department_size = pd.DataFrame(self.item_features. \\\n",
        "                                       groupby('department')[_CONSTANTS['ITEM_COL']].nunique(). \\\n",
        "                                       sort_values(ascending=False)).reset_index()\n",
        "        department_size.columns = ['department', 'n_items']\n",
        "        rare_departments = department_size[department_size['n_items'] < 10].department.tolist()\n",
        "        items_in_rare_departments = self.item_features[self.item_features['department']. \\\n",
        "            isin(rare_departments)].item_id.unique().tolist()\n",
        "\n",
        "        self.item_features['brand'] = pd.factorize(self.item_features['brand'])[0]\n",
        "        self.item_features['commodity_type'] = pd.factorize(self.item_features['commodity_desc'])[0]\n",
        "\n",
        "        self.user_features.loc[self.user_features['age_desc'] == '65+', 'age'] = 75\n",
        "        self.user_features.loc[self.user_features['age_desc'] != '65+', 'age'] = self.user_features.loc[\n",
        "            self.user_features['age_desc'] != '65+', 'age_desc'].apply(\n",
        "            lambda x: int((int(x.split('-')[0]) + int(x.split('-')[1])) / 2))\n",
        "\n",
        "        self.user_features.loc[self.user_features['income_desc'].str.contains('\\+'), 'income'] = 300\n",
        "        self.user_features.loc[self.user_features['income_desc'].str.contains('Under'), 'income'] = 10\n",
        "        self.user_features.loc[self.user_features['income_desc'].str.contains('-'), 'income'] = self.user_features.loc[\n",
        "            self.user_features['income_desc'].str.contains('-'), 'income_desc'].apply(\n",
        "            lambda x: int((int(x.split('-')[0]) + int(x.split('-')[1][:-1])) / 2))\n",
        "\n",
        "        self.user_features.loc[(self.user_features['hh_comp_desc'].str.contains('Kids')) & \\\n",
        "                               (~self.user_features['hh_comp_desc'].str.contains('No')), 'has_kids'] = 1\n",
        "        self.user_features.loc[self.user_features['has_kids'].isnull(), 'has_kids'] = 0\n",
        "        self.user_features.loc[self.user_features['hh_comp_desc'].str.contains('Adults'), 'adults_num'] = 2\n",
        "        self.user_features.loc[self.user_features['hh_comp_desc'].str.contains('Single'), 'adults_num'] = 1\n",
        "        self.user_features.loc[self.user_features['hh_comp_desc'].str.contains('1 Adult'), 'adults_num'] = 1\n",
        "        self.user_features.loc[self.user_features['hh_comp_desc'] == 'Unknown', 'adults_num'] = 1\n",
        "\n",
        "        self.user_features.loc[self.user_features['household_size_desc'] == '5+', 'household_size_desc'] = 5\n",
        "        self.user_features.loc[self.user_features['kid_category_desc'] == '3+', 'kid_category_desc'] = 3\n",
        "        self.user_features.loc[self.user_features['kid_category_desc'] == 'None/Unknown', 'kid_category_desc'] = 0\n",
        "        self.user_features['household_size_desc'] = self.user_features['household_size_desc'].astype(int)\n",
        "        self.user_features['kid_category_desc'] = self.user_features['kid_category_desc'].astype(int)\n",
        "\n",
        "        self.user_features = pd.concat([self.user_features, pd.get_dummies(self.user_features['homeowner_desc'])],\n",
        "                                       axis=1)\n",
        "        self.user_features = pd.concat([self.user_features, pd.get_dummies(self.user_features['marital_status_code'])],\n",
        "                                       axis=1)\n",
        "\n",
        "        self.user_features = self.user_features.iloc[:, 5:]\n",
        "        self.item_features = self.item_features[[self._CONSTANTS['ITEM_COL'],\n",
        "                                                 'manufacturer',\n",
        "                                                 'brand',\n",
        "                                                 'commodity_type']]\n",
        "\n",
        "        for i in ['train', 'test']:\n",
        "            if i == 'train':\n",
        "                df = self.data_train.copy()\n",
        "            else:\n",
        "                df = self.data_test.copy()\n",
        "\n",
        "            df = df[~df[_CONSTANTS['ITEM_COL']].isin(items_in_rare_departments)]\n",
        "\n",
        "            if make_worse:\n",
        "                df['price'] = df['sales_value'] / (np.maximum(df['quantity'], 1))\n",
        "                df = df[df['price'] > 2]\n",
        "                df = df[df['price'] < 50]\n",
        "\n",
        "            basket_stat = self.user_features.merge(df, on=_CONSTANTS['USER_COL'], how='left')\n",
        "            basket_stat = basket_stat.pivot_table(index=_CONSTANTS['USER_COL'], values=['basket_id', 'sales_value'],\n",
        "                                                  aggfunc={'basket_id': 'count', 'sales_value': 'sum'})\n",
        "            basket_stat = basket_stat['sales_value'] / basket_stat['basket_id']\n",
        "            basket_stat = basket_stat.reset_index()\n",
        "            basket_stat.rename(columns={0: 'avg_check'}, inplace=True)\n",
        "            df = df.merge(basket_stat.reset_index(), on=_CONSTANTS['USER_COL'])\n",
        "            del basket_stat\n",
        "\n",
        "            df = df.merge(df.groupby(_CONSTANTS['ITEM_COL'])['quantity'].sum().reset_index(),\n",
        "                          on=_CONSTANTS['ITEM_COL'],\n",
        "                          how='left',\n",
        "                          suffixes=['', '_total'])\n",
        "\n",
        "            max_day = df['day'].max()\n",
        "            items_365 = df.loc[\n",
        "                (df['day'] <= max_day) & (df['day'] >= max_day - 365), _CONSTANTS['ITEM_COL']].unique().tolist()\n",
        "            df = df.loc[df[_CONSTANTS['ITEM_COL']].isin(items_365)]\n",
        "            del items_365\n",
        "\n",
        "            if make_worse:\n",
        "                df.loc[df['quantity_total'] >= _CONSTANTS['TAKE_N_POPULAR'], _CONSTANTS['ITEM_COL']] = 999999\n",
        "\n",
        "            if i == 'train':\n",
        "                self.data_train = df.copy()\n",
        "            else:\n",
        "                self.data_test = df.copy()\n",
        "            del df\n",
        "\n",
        "    def data_split(self,\n",
        "                   val_lvl_1_size_weeks=_CONSTANTS['VAL_MATCHER_WEEKS'],\n",
        "                   val_lvl_2_size_weeks=_CONSTANTS['VAL_RANKER_WEEKS']):\n",
        "\n",
        "        for i in ['train', 'test']:\n",
        "            if i == 'train':\n",
        "                df = self.data_train.copy()\n",
        "            else:\n",
        "                df = self.data_test.copy()\n",
        "\n",
        "            data_train_lvl_1 = df[df['week_no'] < df['week_no'].max() - \\\n",
        "                                  (val_lvl_1_size_weeks + val_lvl_2_size_weeks)]\n",
        "            data_val_lvl_1 = df[(df['week_no'] >= df['week_no'].max() - \\\n",
        "                                 (val_lvl_1_size_weeks + val_lvl_2_size_weeks)) & \\\n",
        "                                (df['week_no'] < df['week_no'].max() - \\\n",
        "                                 (val_lvl_2_size_weeks))]\n",
        "\n",
        "            data_train_lvl_2 = data_val_lvl_1.copy()\n",
        "            data_val_lvl_2 = df[df['week_no'] >= df['week_no'].max() - \\\n",
        "                                val_lvl_2_size_weeks]\n",
        "\n",
        "            result_lvl_1 = data_val_lvl_1.groupby(_CONSTANTS['USER_COL'])[\n",
        "                _CONSTANTS['ITEM_COL']].unique().reset_index()\n",
        "            result_lvl_1.columns = [_CONSTANTS['USER_COL'], _CONSTANTS['ACTUAL_COL']]\n",
        "\n",
        "            users_train = data_train_lvl_1[_CONSTANTS['USER_COL']].tolist()\n",
        "            users_valid = result_lvl_1[_CONSTANTS['USER_COL']].tolist()\n",
        "            new_users = list(set(users_valid) - set(users_train))\n",
        "            all_users = list(set(users_valid) & set(users_train))\n",
        "            result_lvl_1 = result_lvl_1[~result_lvl_1[_CONSTANTS['USER_COL']].isin(new_users)]\n",
        "            \n",
        "            if i == 'train':\n",
        "                self.data_train_lvl_1 = data_train_lvl_1.copy()\n",
        "                self.data_val_lvl_1 = data_val_lvl_1.copy()\n",
        "                self.data_train_lvl_2 = data_train_lvl_2.copy()\n",
        "                self.data_val_lvl_2 = data_val_lvl_2.copy()\n",
        "                self.result_lvl_1 = result_lvl_1.copy()\n",
        "            else:\n",
        "                self.data_train_lvl_1_real = data_train_lvl_1.copy()\n",
        "                self.data_val_lvl_1_real = data_val_lvl_1.copy()\n",
        "                self.data_train_lvl_2_real = data_train_lvl_2.copy()\n",
        "                self.data_val_lvl_2_real = data_val_lvl_2.copy()\n",
        "                self.result_lvl_1_real = result_lvl_1.copy()\n",
        "\n",
        "    def data_test_split(self):\n",
        "        data_train_lvl_1 = self.data_train.copy()\n",
        "        data_val_lvl_1 = self.data_test.copy()\n",
        "\n",
        "        data_train_lvl_2 = data_val_lvl_1.copy()\n",
        "        data_val_lvl_2 = data_val_lvl_1.copy()\n",
        "\n",
        "        result_lvl_1 = data_val_lvl_1.groupby(_CONSTANTS['USER_COL'])[\n",
        "            _CONSTANTS['ITEM_COL']].unique().reset_index()\n",
        "        result_lvl_1.columns = [_CONSTANTS['USER_COL'], _CONSTANTS['ACTUAL_COL']]\n",
        "\n",
        "        users_train = data_train_lvl_1[_CONSTANTS['USER_COL']].tolist()\n",
        "        users_valid = result_lvl_1[_CONSTANTS['USER_COL']].tolist()\n",
        "        new_users = list(set(users_valid) - set(users_train))\n",
        "        all_users = list(set(users_valid) & set(users_train))\n",
        "        result_lvl_1 = result_lvl_1[~result_lvl_1[_CONSTANTS['USER_COL']].isin(new_users)]\n",
        "\n",
        "        self.data_train_lvl_1_real = data_train_lvl_1.copy()\n",
        "        self.data_val_lvl_1_real = data_val_lvl_1.copy()\n",
        "        self.data_train_lvl_2_real = data_train_lvl_2.copy()\n",
        "        self.data_val_lvl_2_real = data_val_lvl_2.copy()\n",
        "        self.result_lvl_1_real = result_lvl_1.copy()\n",
        "\n",
        "    def postfilter_items(user_id, recommendations):\n",
        "        pass"
      ],
      "metadata": {
        "id": "cEKBzaxY_aK4"
      },
      "id": "cEKBzaxY_aK4",
      "execution_count": 6,
      "outputs": []
    },
    {
      "cell_type": "code",
      "execution_count": 7,
      "id": "03124ec0-21aa-4e85-b566-bcc32f9a4ebe",
      "metadata": {
        "tags": [],
        "id": "03124ec0-21aa-4e85-b566-bcc32f9a4ebe"
      },
      "outputs": [],
      "source": [
        "data = Dataset()\n",
        "data.data_prefilter()\n",
        "data.data_split()"
      ]
    },
    {
      "cell_type": "markdown",
      "id": "df26de3e-bee1-4bc3-ac28-3e32a206871e",
      "metadata": {
        "id": "df26de3e-bee1-4bc3-ac28-3e32a206871e"
      },
      "source": [
        "# Формирования рекомендаций"
      ]
    },
    {
      "cell_type": "code",
      "execution_count": 8,
      "id": "dfcb36c8-c7d6-477b-bf18-7b547c9a0500",
      "metadata": {
        "colab": {
          "base_uri": "https://localhost:8080/",
          "height": 136,
          "referenced_widgets": [
            "953b30252e9341f38a441ff424b30aab",
            "24ef428b99224a07a834b9b477ae51b8",
            "380779b3b09e4fbcada3a5032325b3c1",
            "98c639227eb743df9784fb9836a94c19",
            "3a99de8f3ae9430e9dbcb80f3295413b",
            "255ae36466fa45188edae4a30ce035a3",
            "b370c5c8e80e4c0bbb341d29d3325ed1",
            "9f2e8134846b45a3acc88db6e4fd8f02",
            "0ea0fb46e4a045ee86551aef7a264b1b",
            "ec87f8b8f8c94f2bb8255b268d12155a",
            "aeee83d2bf49444ca925511b757cb1bc",
            "fef67c12ddc84be0afb6a1092a33c227",
            "06020b6afff547c8a93b39767d882d5e",
            "0c233117b65041828f02e973c51487be",
            "5dcc72a4939248069597c56faeb543ef",
            "32cc887b29ed4cdab64b78b30a756003",
            "ec9dadd533654236882e8bf9cb2530bd",
            "6d7cc41202124098bddf34992253e20b",
            "eafcf0ee6ce340828b7e7ceee971e600",
            "cc583ff9bf4f46f79373b753a38f7ea4",
            "14c4691b637d464aac1d56ca75bfe70b",
            "284de3589b8d4858b3cef419d9eb3a6a"
          ]
        },
        "id": "dfcb36c8-c7d6-477b-bf18-7b547c9a0500",
        "outputId": "4f8196e3-9f0f-4c8a-af7a-2f7947dcbca3"
      },
      "outputs": [
        {
          "output_type": "stream",
          "name": "stderr",
          "text": [
            "GPU training requires factor size to be a multiple of 32. Increasing factors from 20 to 32.\n",
            "WARNING:root:OpenBLAS detected. Its highly recommend to set the environment variable 'export OPENBLAS_NUM_THREADS=1' to disable its internal multithreading\n"
          ]
        },
        {
          "output_type": "display_data",
          "data": {
            "text/plain": [
              "  0%|          | 0/15 [00:00<?, ?it/s]"
            ],
            "application/vnd.jupyter.widget-view+json": {
              "version_major": 2,
              "version_minor": 0,
              "model_id": "953b30252e9341f38a441ff424b30aab"
            }
          },
          "metadata": {}
        },
        {
          "output_type": "display_data",
          "data": {
            "text/plain": [
              "  0%|          | 0/48263 [00:00<?, ?it/s]"
            ],
            "application/vnd.jupyter.widget-view+json": {
              "version_major": 2,
              "version_minor": 0,
              "model_id": "fef67c12ddc84be0afb6a1092a33c227"
            }
          },
          "metadata": {}
        }
      ],
      "source": [
        "recommender = MainRecommender(data.data_train_lvl_1, gpu=_GPU_ACTION, K1=1, B=0.3)\n",
        "recommender.preprocessing(data, t='train')\n",
        "recommender.preprocessing(data, t='test')"
      ]
    },
    {
      "cell_type": "code",
      "execution_count": 9,
      "id": "1a5ab2c6-83f5-4ba3-80b4-28fa2a6b9b40",
      "metadata": {
        "colab": {
          "base_uri": "https://localhost:8080/",
          "height": 142
        },
        "id": "1a5ab2c6-83f5-4ba3-80b4-28fa2a6b9b40",
        "outputId": "9d118208-2618-47e6-f110-ff5b52e1c17d"
      },
      "outputs": [
        {
          "output_type": "execute_result",
          "data": {
            "text/plain": [
              "   user_id                                             actual  \\\n",
              "0        1  [853529, 865456, 867607, 872137, 874905, 87524...   \n",
              "\n",
              "                                            own_recs  own_recs_score  \n",
              "0  [940947, 1075074, 9527290, 9655212, 934369, 85...        0.420986  "
            ],
            "text/html": [
              "\n",
              "  <div id=\"df-1b790e4e-516f-4479-906d-d74ee74d0844\">\n",
              "    <div class=\"colab-df-container\">\n",
              "      <div>\n",
              "<style scoped>\n",
              "    .dataframe tbody tr th:only-of-type {\n",
              "        vertical-align: middle;\n",
              "    }\n",
              "\n",
              "    .dataframe tbody tr th {\n",
              "        vertical-align: top;\n",
              "    }\n",
              "\n",
              "    .dataframe thead th {\n",
              "        text-align: right;\n",
              "    }\n",
              "</style>\n",
              "<table border=\"1\" class=\"dataframe\">\n",
              "  <thead>\n",
              "    <tr style=\"text-align: right;\">\n",
              "      <th></th>\n",
              "      <th>user_id</th>\n",
              "      <th>actual</th>\n",
              "      <th>own_recs</th>\n",
              "      <th>own_recs_score</th>\n",
              "    </tr>\n",
              "  </thead>\n",
              "  <tbody>\n",
              "    <tr>\n",
              "      <th>0</th>\n",
              "      <td>1</td>\n",
              "      <td>[853529, 865456, 867607, 872137, 874905, 87524...</td>\n",
              "      <td>[940947, 1075074, 9527290, 9655212, 934369, 85...</td>\n",
              "      <td>0.420986</td>\n",
              "    </tr>\n",
              "  </tbody>\n",
              "</table>\n",
              "</div>\n",
              "      <button class=\"colab-df-convert\" onclick=\"convertToInteractive('df-1b790e4e-516f-4479-906d-d74ee74d0844')\"\n",
              "              title=\"Convert this dataframe to an interactive table.\"\n",
              "              style=\"display:none;\">\n",
              "        \n",
              "  <svg xmlns=\"http://www.w3.org/2000/svg\" height=\"24px\"viewBox=\"0 0 24 24\"\n",
              "       width=\"24px\">\n",
              "    <path d=\"M0 0h24v24H0V0z\" fill=\"none\"/>\n",
              "    <path d=\"M18.56 5.44l.94 2.06.94-2.06 2.06-.94-2.06-.94-.94-2.06-.94 2.06-2.06.94zm-11 1L8.5 8.5l.94-2.06 2.06-.94-2.06-.94L8.5 2.5l-.94 2.06-2.06.94zm10 10l.94 2.06.94-2.06 2.06-.94-2.06-.94-.94-2.06-.94 2.06-2.06.94z\"/><path d=\"M17.41 7.96l-1.37-1.37c-.4-.4-.92-.59-1.43-.59-.52 0-1.04.2-1.43.59L10.3 9.45l-7.72 7.72c-.78.78-.78 2.05 0 2.83L4 21.41c.39.39.9.59 1.41.59.51 0 1.02-.2 1.41-.59l7.78-7.78 2.81-2.81c.8-.78.8-2.07 0-2.86zM5.41 20L4 18.59l7.72-7.72 1.47 1.35L5.41 20z\"/>\n",
              "  </svg>\n",
              "      </button>\n",
              "      \n",
              "  <style>\n",
              "    .colab-df-container {\n",
              "      display:flex;\n",
              "      flex-wrap:wrap;\n",
              "      gap: 12px;\n",
              "    }\n",
              "\n",
              "    .colab-df-convert {\n",
              "      background-color: #E8F0FE;\n",
              "      border: none;\n",
              "      border-radius: 50%;\n",
              "      cursor: pointer;\n",
              "      display: none;\n",
              "      fill: #1967D2;\n",
              "      height: 32px;\n",
              "      padding: 0 0 0 0;\n",
              "      width: 32px;\n",
              "    }\n",
              "\n",
              "    .colab-df-convert:hover {\n",
              "      background-color: #E2EBFA;\n",
              "      box-shadow: 0px 1px 2px rgba(60, 64, 67, 0.3), 0px 1px 3px 1px rgba(60, 64, 67, 0.15);\n",
              "      fill: #174EA6;\n",
              "    }\n",
              "\n",
              "    [theme=dark] .colab-df-convert {\n",
              "      background-color: #3B4455;\n",
              "      fill: #D2E3FC;\n",
              "    }\n",
              "\n",
              "    [theme=dark] .colab-df-convert:hover {\n",
              "      background-color: #434B5C;\n",
              "      box-shadow: 0px 1px 3px 1px rgba(0, 0, 0, 0.15);\n",
              "      filter: drop-shadow(0px 1px 2px rgba(0, 0, 0, 0.3));\n",
              "      fill: #FFFFFF;\n",
              "    }\n",
              "  </style>\n",
              "\n",
              "      <script>\n",
              "        const buttonEl =\n",
              "          document.querySelector('#df-1b790e4e-516f-4479-906d-d74ee74d0844 button.colab-df-convert');\n",
              "        buttonEl.style.display =\n",
              "          google.colab.kernel.accessAllowed ? 'block' : 'none';\n",
              "\n",
              "        async function convertToInteractive(key) {\n",
              "          const element = document.querySelector('#df-1b790e4e-516f-4479-906d-d74ee74d0844');\n",
              "          const dataTable =\n",
              "            await google.colab.kernel.invokeFunction('convertToInteractive',\n",
              "                                                     [key], {});\n",
              "          if (!dataTable) return;\n",
              "\n",
              "          const docLinkHtml = 'Like what you see? Visit the ' +\n",
              "            '<a target=\"_blank\" href=https://colab.research.google.com/notebooks/data_table.ipynb>data table notebook</a>'\n",
              "            + ' to learn more about interactive tables.';\n",
              "          element.innerHTML = '';\n",
              "          dataTable['output_type'] = 'display_data';\n",
              "          await google.colab.output.renderOutput(dataTable, element);\n",
              "          const docLink = document.createElement('div');\n",
              "          docLink.innerHTML = docLinkHtml;\n",
              "          element.appendChild(docLink);\n",
              "        }\n",
              "      </script>\n",
              "    </div>\n",
              "  </div>\n",
              "  "
            ]
          },
          "metadata": {},
          "execution_count": 9
        }
      ],
      "source": [
        "recommender.recommend_1lvl(data.result_lvl_1).head(1)"
      ]
    },
    {
      "cell_type": "markdown",
      "id": "68de4dd6-39e5-48e4-bea9-5fb5e481d93c",
      "metadata": {
        "id": "68de4dd6-39e5-48e4-bea9-5fb5e481d93c"
      },
      "source": [
        "# Ранжирования полученных рекомендаций \n"
      ]
    },
    {
      "cell_type": "code",
      "execution_count": 10,
      "id": "cc6f1add-716d-42a3-a731-dd554e51796e",
      "metadata": {
        "colab": {
          "base_uri": "https://localhost:8080/",
          "height": 17,
          "referenced_widgets": [
            "95b0e1390dfe402a883ff93dfd2d3e5d"
          ]
        },
        "id": "cc6f1add-716d-42a3-a731-dd554e51796e",
        "outputId": "5301a008-8ad8-4253-91fe-1d4d8453e73a"
      },
      "outputs": [
        {
          "output_type": "display_data",
          "data": {
            "text/plain": [
              "MetricVisualizer(layout=Layout(align_self='stretch', height='500px'))"
            ],
            "application/vnd.jupyter.widget-view+json": {
              "version_major": 2,
              "version_minor": 0,
              "model_id": "95b0e1390dfe402a883ff93dfd2d3e5d"
            }
          },
          "metadata": {}
        }
      ],
      "source": [
        "recommender.ranker_fit()"
      ]
    },
    {
      "cell_type": "code",
      "execution_count": 11,
      "id": "a485e6dc-dcf0-4ad8-990f-dfb7ff53bdc2",
      "metadata": {
        "colab": {
          "base_uri": "https://localhost:8080/",
          "height": 288
        },
        "id": "a485e6dc-dcf0-4ad8-990f-dfb7ff53bdc2",
        "outputId": "92c41551-6d37-4e14-b195-6b45306046a6"
      },
      "outputs": [
        {
          "output_type": "execute_result",
          "data": {
            "text/plain": [
              "   user_id  item_id  manufacturer  brand  commodity_type  household_size_desc  \\\n",
              "0     1364  1007136             2      0             215                    1   \n",
              "1     1364   857055           560      0             124                    1   \n",
              "2     1364  1135834           910      0              17                    1   \n",
              "3     1364   856252           988      0              40                    1   \n",
              "4     1364  1122115           194      0              38                    1   \n",
              "\n",
              "   kid_category_desc   age  income  has_kids  adults_num  Homeowner  \\\n",
              "0                  0  75.0   112.0       0.0         1.0          1   \n",
              "1                  0  75.0   112.0       0.0         1.0          1   \n",
              "2                  0  75.0   112.0       0.0         1.0          1   \n",
              "3                  0  75.0   112.0       0.0         1.0          1   \n",
              "4                  0  75.0   112.0       0.0         1.0          1   \n",
              "\n",
              "   Probable Owner  Probable Renter  Renter  Unknown  A  B  U   predict  \n",
              "0               0                0       0        0  0  1  0  0.904975  \n",
              "1               0                0       0        0  0  1  0  0.599330  \n",
              "2               0                0       0        0  0  1  0  0.778615  \n",
              "3               0                0       0        0  0  1  0  0.565604  \n",
              "4               0                0       0        0  0  1  0  0.657083  "
            ],
            "text/html": [
              "\n",
              "  <div id=\"df-8bdceb33-230d-428d-a070-077dc97b7cc3\">\n",
              "    <div class=\"colab-df-container\">\n",
              "      <div>\n",
              "<style scoped>\n",
              "    .dataframe tbody tr th:only-of-type {\n",
              "        vertical-align: middle;\n",
              "    }\n",
              "\n",
              "    .dataframe tbody tr th {\n",
              "        vertical-align: top;\n",
              "    }\n",
              "\n",
              "    .dataframe thead th {\n",
              "        text-align: right;\n",
              "    }\n",
              "</style>\n",
              "<table border=\"1\" class=\"dataframe\">\n",
              "  <thead>\n",
              "    <tr style=\"text-align: right;\">\n",
              "      <th></th>\n",
              "      <th>user_id</th>\n",
              "      <th>item_id</th>\n",
              "      <th>manufacturer</th>\n",
              "      <th>brand</th>\n",
              "      <th>commodity_type</th>\n",
              "      <th>household_size_desc</th>\n",
              "      <th>kid_category_desc</th>\n",
              "      <th>age</th>\n",
              "      <th>income</th>\n",
              "      <th>has_kids</th>\n",
              "      <th>adults_num</th>\n",
              "      <th>Homeowner</th>\n",
              "      <th>Probable Owner</th>\n",
              "      <th>Probable Renter</th>\n",
              "      <th>Renter</th>\n",
              "      <th>Unknown</th>\n",
              "      <th>A</th>\n",
              "      <th>B</th>\n",
              "      <th>U</th>\n",
              "      <th>predict</th>\n",
              "    </tr>\n",
              "  </thead>\n",
              "  <tbody>\n",
              "    <tr>\n",
              "      <th>0</th>\n",
              "      <td>1364</td>\n",
              "      <td>1007136</td>\n",
              "      <td>2</td>\n",
              "      <td>0</td>\n",
              "      <td>215</td>\n",
              "      <td>1</td>\n",
              "      <td>0</td>\n",
              "      <td>75.0</td>\n",
              "      <td>112.0</td>\n",
              "      <td>0.0</td>\n",
              "      <td>1.0</td>\n",
              "      <td>1</td>\n",
              "      <td>0</td>\n",
              "      <td>0</td>\n",
              "      <td>0</td>\n",
              "      <td>0</td>\n",
              "      <td>0</td>\n",
              "      <td>1</td>\n",
              "      <td>0</td>\n",
              "      <td>0.904975</td>\n",
              "    </tr>\n",
              "    <tr>\n",
              "      <th>1</th>\n",
              "      <td>1364</td>\n",
              "      <td>857055</td>\n",
              "      <td>560</td>\n",
              "      <td>0</td>\n",
              "      <td>124</td>\n",
              "      <td>1</td>\n",
              "      <td>0</td>\n",
              "      <td>75.0</td>\n",
              "      <td>112.0</td>\n",
              "      <td>0.0</td>\n",
              "      <td>1.0</td>\n",
              "      <td>1</td>\n",
              "      <td>0</td>\n",
              "      <td>0</td>\n",
              "      <td>0</td>\n",
              "      <td>0</td>\n",
              "      <td>0</td>\n",
              "      <td>1</td>\n",
              "      <td>0</td>\n",
              "      <td>0.599330</td>\n",
              "    </tr>\n",
              "    <tr>\n",
              "      <th>2</th>\n",
              "      <td>1364</td>\n",
              "      <td>1135834</td>\n",
              "      <td>910</td>\n",
              "      <td>0</td>\n",
              "      <td>17</td>\n",
              "      <td>1</td>\n",
              "      <td>0</td>\n",
              "      <td>75.0</td>\n",
              "      <td>112.0</td>\n",
              "      <td>0.0</td>\n",
              "      <td>1.0</td>\n",
              "      <td>1</td>\n",
              "      <td>0</td>\n",
              "      <td>0</td>\n",
              "      <td>0</td>\n",
              "      <td>0</td>\n",
              "      <td>0</td>\n",
              "      <td>1</td>\n",
              "      <td>0</td>\n",
              "      <td>0.778615</td>\n",
              "    </tr>\n",
              "    <tr>\n",
              "      <th>3</th>\n",
              "      <td>1364</td>\n",
              "      <td>856252</td>\n",
              "      <td>988</td>\n",
              "      <td>0</td>\n",
              "      <td>40</td>\n",
              "      <td>1</td>\n",
              "      <td>0</td>\n",
              "      <td>75.0</td>\n",
              "      <td>112.0</td>\n",
              "      <td>0.0</td>\n",
              "      <td>1.0</td>\n",
              "      <td>1</td>\n",
              "      <td>0</td>\n",
              "      <td>0</td>\n",
              "      <td>0</td>\n",
              "      <td>0</td>\n",
              "      <td>0</td>\n",
              "      <td>1</td>\n",
              "      <td>0</td>\n",
              "      <td>0.565604</td>\n",
              "    </tr>\n",
              "    <tr>\n",
              "      <th>4</th>\n",
              "      <td>1364</td>\n",
              "      <td>1122115</td>\n",
              "      <td>194</td>\n",
              "      <td>0</td>\n",
              "      <td>38</td>\n",
              "      <td>1</td>\n",
              "      <td>0</td>\n",
              "      <td>75.0</td>\n",
              "      <td>112.0</td>\n",
              "      <td>0.0</td>\n",
              "      <td>1.0</td>\n",
              "      <td>1</td>\n",
              "      <td>0</td>\n",
              "      <td>0</td>\n",
              "      <td>0</td>\n",
              "      <td>0</td>\n",
              "      <td>0</td>\n",
              "      <td>1</td>\n",
              "      <td>0</td>\n",
              "      <td>0.657083</td>\n",
              "    </tr>\n",
              "  </tbody>\n",
              "</table>\n",
              "</div>\n",
              "      <button class=\"colab-df-convert\" onclick=\"convertToInteractive('df-8bdceb33-230d-428d-a070-077dc97b7cc3')\"\n",
              "              title=\"Convert this dataframe to an interactive table.\"\n",
              "              style=\"display:none;\">\n",
              "        \n",
              "  <svg xmlns=\"http://www.w3.org/2000/svg\" height=\"24px\"viewBox=\"0 0 24 24\"\n",
              "       width=\"24px\">\n",
              "    <path d=\"M0 0h24v24H0V0z\" fill=\"none\"/>\n",
              "    <path d=\"M18.56 5.44l.94 2.06.94-2.06 2.06-.94-2.06-.94-.94-2.06-.94 2.06-2.06.94zm-11 1L8.5 8.5l.94-2.06 2.06-.94-2.06-.94L8.5 2.5l-.94 2.06-2.06.94zm10 10l.94 2.06.94-2.06 2.06-.94-2.06-.94-.94-2.06-.94 2.06-2.06.94z\"/><path d=\"M17.41 7.96l-1.37-1.37c-.4-.4-.92-.59-1.43-.59-.52 0-1.04.2-1.43.59L10.3 9.45l-7.72 7.72c-.78.78-.78 2.05 0 2.83L4 21.41c.39.39.9.59 1.41.59.51 0 1.02-.2 1.41-.59l7.78-7.78 2.81-2.81c.8-.78.8-2.07 0-2.86zM5.41 20L4 18.59l7.72-7.72 1.47 1.35L5.41 20z\"/>\n",
              "  </svg>\n",
              "      </button>\n",
              "      \n",
              "  <style>\n",
              "    .colab-df-container {\n",
              "      display:flex;\n",
              "      flex-wrap:wrap;\n",
              "      gap: 12px;\n",
              "    }\n",
              "\n",
              "    .colab-df-convert {\n",
              "      background-color: #E8F0FE;\n",
              "      border: none;\n",
              "      border-radius: 50%;\n",
              "      cursor: pointer;\n",
              "      display: none;\n",
              "      fill: #1967D2;\n",
              "      height: 32px;\n",
              "      padding: 0 0 0 0;\n",
              "      width: 32px;\n",
              "    }\n",
              "\n",
              "    .colab-df-convert:hover {\n",
              "      background-color: #E2EBFA;\n",
              "      box-shadow: 0px 1px 2px rgba(60, 64, 67, 0.3), 0px 1px 3px 1px rgba(60, 64, 67, 0.15);\n",
              "      fill: #174EA6;\n",
              "    }\n",
              "\n",
              "    [theme=dark] .colab-df-convert {\n",
              "      background-color: #3B4455;\n",
              "      fill: #D2E3FC;\n",
              "    }\n",
              "\n",
              "    [theme=dark] .colab-df-convert:hover {\n",
              "      background-color: #434B5C;\n",
              "      box-shadow: 0px 1px 3px 1px rgba(0, 0, 0, 0.15);\n",
              "      filter: drop-shadow(0px 1px 2px rgba(0, 0, 0, 0.3));\n",
              "      fill: #FFFFFF;\n",
              "    }\n",
              "  </style>\n",
              "\n",
              "      <script>\n",
              "        const buttonEl =\n",
              "          document.querySelector('#df-8bdceb33-230d-428d-a070-077dc97b7cc3 button.colab-df-convert');\n",
              "        buttonEl.style.display =\n",
              "          google.colab.kernel.accessAllowed ? 'block' : 'none';\n",
              "\n",
              "        async function convertToInteractive(key) {\n",
              "          const element = document.querySelector('#df-8bdceb33-230d-428d-a070-077dc97b7cc3');\n",
              "          const dataTable =\n",
              "            await google.colab.kernel.invokeFunction('convertToInteractive',\n",
              "                                                     [key], {});\n",
              "          if (!dataTable) return;\n",
              "\n",
              "          const docLinkHtml = 'Like what you see? Visit the ' +\n",
              "            '<a target=\"_blank\" href=https://colab.research.google.com/notebooks/data_table.ipynb>data table notebook</a>'\n",
              "            + ' to learn more about interactive tables.';\n",
              "          element.innerHTML = '';\n",
              "          dataTable['output_type'] = 'display_data';\n",
              "          await google.colab.output.renderOutput(dataTable, element);\n",
              "          const docLink = document.createElement('div');\n",
              "          docLink.innerHTML = docLinkHtml;\n",
              "          element.appendChild(docLink);\n",
              "        }\n",
              "      </script>\n",
              "    </div>\n",
              "  </div>\n",
              "  "
            ]
          },
          "metadata": {},
          "execution_count": 11
        }
      ],
      "source": [
        "recommender.ranker_predict(recommender.X_train).head()"
      ]
    },
    {
      "cell_type": "markdown",
      "id": "90466797-4cb0-4cd7-b510-7470af2f1f5d",
      "metadata": {
        "id": "90466797-4cb0-4cd7-b510-7470af2f1f5d"
      },
      "source": [
        "# Оценка результатов"
      ]
    },
    {
      "cell_type": "code",
      "execution_count": 12,
      "id": "fa842559-2eb2-4b48-aabb-1241f61c39aa",
      "metadata": {
        "colab": {
          "base_uri": "https://localhost:8080/"
        },
        "id": "fa842559-2eb2-4b48-aabb-1241f61c39aa",
        "outputId": "e3cdcfe0-00be-46a1-df5d-d808133ea7bf"
      },
      "outputs": [
        {
          "output_type": "stream",
          "name": "stderr",
          "text": [
            "/usr/local/lib/python3.7/dist-packages/numpy/lib/arraysetops.py:608: FutureWarning: elementwise comparison failed; returning scalar instead, but in the future will perform elementwise comparison\n",
            "  mask |= (ar1 == a)\n"
          ]
        },
        {
          "output_type": "stream",
          "name": "stdout",
          "text": [
            "precision@5 of 2lvl-model is 0.2683246073298429\n"
          ]
        }
      ],
      "source": [
        "recommender.evaluate_2models()"
      ]
    },
    {
      "cell_type": "markdown",
      "id": "22d97bd7-e90e-4b47-bf4f-b202216ae655",
      "metadata": {
        "id": "22d97bd7-e90e-4b47-bf4f-b202216ae655"
      },
      "source": [
        "# Предсказываем по тестовым данным"
      ]
    },
    {
      "cell_type": "code",
      "execution_count": 13,
      "id": "1753279d-a759-4312-84cc-a061fe6c7f6a",
      "metadata": {
        "colab": {
          "base_uri": "https://localhost:8080/",
          "height": 188,
          "referenced_widgets": [
            "180ab7bf8ef2436a89b824c1f6898f06",
            "f6375f334bf24d05a5b7ab829ed56552",
            "2d4c4831fc114704806c3acda4de392e",
            "559ba65b38664d898c897017f125ef17",
            "40eb32966c2a403cada7c87734001719",
            "9db3359a2a40496487b6b292cd16f2ac",
            "fd569233925444b090ec72ba98815a05",
            "41d7e4486a8b4124abe8b8d37d0bca2a",
            "54e9d8a7121e4b7bb6c214d797e01637",
            "65ec66ff879d4a08b9367107798709d8",
            "3fdb877fd19e44bd9d54c1404ac226ad",
            "656d7075f0e447dd9aa0a6b2c0f7f449",
            "5c3d25b44f6143b4a017a42a328e2767",
            "7339eaa729ab4141aa602ef3410c852c",
            "4435d9fbf735493c8d7c4b579dbeda5c",
            "eee3f390767f4e91b930bd8df1d286d8",
            "c7fb5fd627244d14b8bc015b9dcfd7ae",
            "307312a3e6d94fd6924cc784acd20b5a",
            "e78a98c01f3f41afb2bd083f9f156c41",
            "2a5a55434eb14cd7a61f6f9371b45054",
            "b11fa6ab97ed4bbeac52eeaaa36dce45",
            "4ec4f2716756479aacfaa44667844de6",
            "44b51feff98749aca8b8a9afda516ef4"
          ]
        },
        "id": "1753279d-a759-4312-84cc-a061fe6c7f6a",
        "outputId": "c04c8cf4-8090-4a00-bd1e-fa7e71f92549"
      },
      "outputs": [
        {
          "output_type": "stream",
          "name": "stderr",
          "text": [
            "WARNING:implicit:GPU training requires factor size to be a multiple of 32. Increasing factors from 20 to 32.\n"
          ]
        },
        {
          "output_type": "display_data",
          "data": {
            "text/plain": [
              "  0%|          | 0/15 [00:00<?, ?it/s]"
            ],
            "application/vnd.jupyter.widget-view+json": {
              "version_major": 2,
              "version_minor": 0,
              "model_id": "180ab7bf8ef2436a89b824c1f6898f06"
            }
          },
          "metadata": {}
        },
        {
          "output_type": "display_data",
          "data": {
            "text/plain": [
              "  0%|          | 0/52244 [00:00<?, ?it/s]"
            ],
            "application/vnd.jupyter.widget-view+json": {
              "version_major": 2,
              "version_minor": 0,
              "model_id": "656d7075f0e447dd9aa0a6b2c0f7f449"
            }
          },
          "metadata": {}
        },
        {
          "output_type": "display_data",
          "data": {
            "text/plain": [
              "MetricVisualizer(layout=Layout(align_self='stretch', height='500px'))"
            ],
            "application/vnd.jupyter.widget-view+json": {
              "version_major": 2,
              "version_minor": 0,
              "model_id": "44b51feff98749aca8b8a9afda516ef4"
            }
          },
          "metadata": {}
        },
        {
          "output_type": "stream",
          "name": "stderr",
          "text": [
            "/usr/local/lib/python3.7/dist-packages/numpy/lib/arraysetops.py:608: FutureWarning: elementwise comparison failed; returning scalar instead, but in the future will perform elementwise comparison\n",
            "  mask |= (ar1 == a)\n"
          ]
        },
        {
          "output_type": "stream",
          "name": "stdout",
          "text": [
            "precision@5 of 2lvl-model is 0.3229946524064171\n",
            "Файл с результатами сохранен.\n"
          ]
        }
      ],
      "source": [
        "data.data_test_split()\n",
        "recommender = MainRecommender(data.data_train_lvl_1_real, gpu=_GPU_ACTION, K1=1, B=0.3)\n",
        "recommender.preprocessing(data, t='train', training=False)\n",
        "recommender.preprocessing(data, t='test', training=False)\n",
        "recommender.ranker_fit(training=False)\n",
        "recommender.evaluate_2models(training=False)"
      ]
    }
  ],
  "metadata": {
    "kernelspec": {
      "display_name": "Python 3",
      "name": "python3"
    },
    "language_info": {
      "name": "python"
    },
    "colab": {
      "name": "gb-hw-8_curs.ipynb",
      "provenance": []
    },
    "gpuClass": "standard",
    "accelerator": "GPU",
    "widgets": {
      "application/vnd.jupyter.widget-state+json": {
        "953b30252e9341f38a441ff424b30aab": {
          "model_module": "@jupyter-widgets/controls",
          "model_name": "HBoxModel",
          "model_module_version": "1.5.0",
          "state": {
            "_dom_classes": [],
            "_model_module": "@jupyter-widgets/controls",
            "_model_module_version": "1.5.0",
            "_model_name": "HBoxModel",
            "_view_count": null,
            "_view_module": "@jupyter-widgets/controls",
            "_view_module_version": "1.5.0",
            "_view_name": "HBoxView",
            "box_style": "",
            "children": [
              "IPY_MODEL_24ef428b99224a07a834b9b477ae51b8",
              "IPY_MODEL_380779b3b09e4fbcada3a5032325b3c1",
              "IPY_MODEL_98c639227eb743df9784fb9836a94c19"
            ],
            "layout": "IPY_MODEL_3a99de8f3ae9430e9dbcb80f3295413b"
          }
        },
        "24ef428b99224a07a834b9b477ae51b8": {
          "model_module": "@jupyter-widgets/controls",
          "model_name": "HTMLModel",
          "model_module_version": "1.5.0",
          "state": {
            "_dom_classes": [],
            "_model_module": "@jupyter-widgets/controls",
            "_model_module_version": "1.5.0",
            "_model_name": "HTMLModel",
            "_view_count": null,
            "_view_module": "@jupyter-widgets/controls",
            "_view_module_version": "1.5.0",
            "_view_name": "HTMLView",
            "description": "",
            "description_tooltip": null,
            "layout": "IPY_MODEL_255ae36466fa45188edae4a30ce035a3",
            "placeholder": "​",
            "style": "IPY_MODEL_b370c5c8e80e4c0bbb341d29d3325ed1",
            "value": "100%"
          }
        },
        "380779b3b09e4fbcada3a5032325b3c1": {
          "model_module": "@jupyter-widgets/controls",
          "model_name": "FloatProgressModel",
          "model_module_version": "1.5.0",
          "state": {
            "_dom_classes": [],
            "_model_module": "@jupyter-widgets/controls",
            "_model_module_version": "1.5.0",
            "_model_name": "FloatProgressModel",
            "_view_count": null,
            "_view_module": "@jupyter-widgets/controls",
            "_view_module_version": "1.5.0",
            "_view_name": "ProgressView",
            "bar_style": "success",
            "description": "",
            "description_tooltip": null,
            "layout": "IPY_MODEL_9f2e8134846b45a3acc88db6e4fd8f02",
            "max": 15,
            "min": 0,
            "orientation": "horizontal",
            "style": "IPY_MODEL_0ea0fb46e4a045ee86551aef7a264b1b",
            "value": 15
          }
        },
        "98c639227eb743df9784fb9836a94c19": {
          "model_module": "@jupyter-widgets/controls",
          "model_name": "HTMLModel",
          "model_module_version": "1.5.0",
          "state": {
            "_dom_classes": [],
            "_model_module": "@jupyter-widgets/controls",
            "_model_module_version": "1.5.0",
            "_model_name": "HTMLModel",
            "_view_count": null,
            "_view_module": "@jupyter-widgets/controls",
            "_view_module_version": "1.5.0",
            "_view_name": "HTMLView",
            "description": "",
            "description_tooltip": null,
            "layout": "IPY_MODEL_ec87f8b8f8c94f2bb8255b268d12155a",
            "placeholder": "​",
            "style": "IPY_MODEL_aeee83d2bf49444ca925511b757cb1bc",
            "value": " 15/15 [00:00&lt;00:00, 51.25it/s]"
          }
        },
        "3a99de8f3ae9430e9dbcb80f3295413b": {
          "model_module": "@jupyter-widgets/base",
          "model_name": "LayoutModel",
          "model_module_version": "1.2.0",
          "state": {
            "_model_module": "@jupyter-widgets/base",
            "_model_module_version": "1.2.0",
            "_model_name": "LayoutModel",
            "_view_count": null,
            "_view_module": "@jupyter-widgets/base",
            "_view_module_version": "1.2.0",
            "_view_name": "LayoutView",
            "align_content": null,
            "align_items": null,
            "align_self": null,
            "border": null,
            "bottom": null,
            "display": null,
            "flex": null,
            "flex_flow": null,
            "grid_area": null,
            "grid_auto_columns": null,
            "grid_auto_flow": null,
            "grid_auto_rows": null,
            "grid_column": null,
            "grid_gap": null,
            "grid_row": null,
            "grid_template_areas": null,
            "grid_template_columns": null,
            "grid_template_rows": null,
            "height": null,
            "justify_content": null,
            "justify_items": null,
            "left": null,
            "margin": null,
            "max_height": null,
            "max_width": null,
            "min_height": null,
            "min_width": null,
            "object_fit": null,
            "object_position": null,
            "order": null,
            "overflow": null,
            "overflow_x": null,
            "overflow_y": null,
            "padding": null,
            "right": null,
            "top": null,
            "visibility": null,
            "width": null
          }
        },
        "255ae36466fa45188edae4a30ce035a3": {
          "model_module": "@jupyter-widgets/base",
          "model_name": "LayoutModel",
          "model_module_version": "1.2.0",
          "state": {
            "_model_module": "@jupyter-widgets/base",
            "_model_module_version": "1.2.0",
            "_model_name": "LayoutModel",
            "_view_count": null,
            "_view_module": "@jupyter-widgets/base",
            "_view_module_version": "1.2.0",
            "_view_name": "LayoutView",
            "align_content": null,
            "align_items": null,
            "align_self": null,
            "border": null,
            "bottom": null,
            "display": null,
            "flex": null,
            "flex_flow": null,
            "grid_area": null,
            "grid_auto_columns": null,
            "grid_auto_flow": null,
            "grid_auto_rows": null,
            "grid_column": null,
            "grid_gap": null,
            "grid_row": null,
            "grid_template_areas": null,
            "grid_template_columns": null,
            "grid_template_rows": null,
            "height": null,
            "justify_content": null,
            "justify_items": null,
            "left": null,
            "margin": null,
            "max_height": null,
            "max_width": null,
            "min_height": null,
            "min_width": null,
            "object_fit": null,
            "object_position": null,
            "order": null,
            "overflow": null,
            "overflow_x": null,
            "overflow_y": null,
            "padding": null,
            "right": null,
            "top": null,
            "visibility": null,
            "width": null
          }
        },
        "b370c5c8e80e4c0bbb341d29d3325ed1": {
          "model_module": "@jupyter-widgets/controls",
          "model_name": "DescriptionStyleModel",
          "model_module_version": "1.5.0",
          "state": {
            "_model_module": "@jupyter-widgets/controls",
            "_model_module_version": "1.5.0",
            "_model_name": "DescriptionStyleModel",
            "_view_count": null,
            "_view_module": "@jupyter-widgets/base",
            "_view_module_version": "1.2.0",
            "_view_name": "StyleView",
            "description_width": ""
          }
        },
        "9f2e8134846b45a3acc88db6e4fd8f02": {
          "model_module": "@jupyter-widgets/base",
          "model_name": "LayoutModel",
          "model_module_version": "1.2.0",
          "state": {
            "_model_module": "@jupyter-widgets/base",
            "_model_module_version": "1.2.0",
            "_model_name": "LayoutModel",
            "_view_count": null,
            "_view_module": "@jupyter-widgets/base",
            "_view_module_version": "1.2.0",
            "_view_name": "LayoutView",
            "align_content": null,
            "align_items": null,
            "align_self": null,
            "border": null,
            "bottom": null,
            "display": null,
            "flex": null,
            "flex_flow": null,
            "grid_area": null,
            "grid_auto_columns": null,
            "grid_auto_flow": null,
            "grid_auto_rows": null,
            "grid_column": null,
            "grid_gap": null,
            "grid_row": null,
            "grid_template_areas": null,
            "grid_template_columns": null,
            "grid_template_rows": null,
            "height": null,
            "justify_content": null,
            "justify_items": null,
            "left": null,
            "margin": null,
            "max_height": null,
            "max_width": null,
            "min_height": null,
            "min_width": null,
            "object_fit": null,
            "object_position": null,
            "order": null,
            "overflow": null,
            "overflow_x": null,
            "overflow_y": null,
            "padding": null,
            "right": null,
            "top": null,
            "visibility": null,
            "width": null
          }
        },
        "0ea0fb46e4a045ee86551aef7a264b1b": {
          "model_module": "@jupyter-widgets/controls",
          "model_name": "ProgressStyleModel",
          "model_module_version": "1.5.0",
          "state": {
            "_model_module": "@jupyter-widgets/controls",
            "_model_module_version": "1.5.0",
            "_model_name": "ProgressStyleModel",
            "_view_count": null,
            "_view_module": "@jupyter-widgets/base",
            "_view_module_version": "1.2.0",
            "_view_name": "StyleView",
            "bar_color": null,
            "description_width": ""
          }
        },
        "ec87f8b8f8c94f2bb8255b268d12155a": {
          "model_module": "@jupyter-widgets/base",
          "model_name": "LayoutModel",
          "model_module_version": "1.2.0",
          "state": {
            "_model_module": "@jupyter-widgets/base",
            "_model_module_version": "1.2.0",
            "_model_name": "LayoutModel",
            "_view_count": null,
            "_view_module": "@jupyter-widgets/base",
            "_view_module_version": "1.2.0",
            "_view_name": "LayoutView",
            "align_content": null,
            "align_items": null,
            "align_self": null,
            "border": null,
            "bottom": null,
            "display": null,
            "flex": null,
            "flex_flow": null,
            "grid_area": null,
            "grid_auto_columns": null,
            "grid_auto_flow": null,
            "grid_auto_rows": null,
            "grid_column": null,
            "grid_gap": null,
            "grid_row": null,
            "grid_template_areas": null,
            "grid_template_columns": null,
            "grid_template_rows": null,
            "height": null,
            "justify_content": null,
            "justify_items": null,
            "left": null,
            "margin": null,
            "max_height": null,
            "max_width": null,
            "min_height": null,
            "min_width": null,
            "object_fit": null,
            "object_position": null,
            "order": null,
            "overflow": null,
            "overflow_x": null,
            "overflow_y": null,
            "padding": null,
            "right": null,
            "top": null,
            "visibility": null,
            "width": null
          }
        },
        "aeee83d2bf49444ca925511b757cb1bc": {
          "model_module": "@jupyter-widgets/controls",
          "model_name": "DescriptionStyleModel",
          "model_module_version": "1.5.0",
          "state": {
            "_model_module": "@jupyter-widgets/controls",
            "_model_module_version": "1.5.0",
            "_model_name": "DescriptionStyleModel",
            "_view_count": null,
            "_view_module": "@jupyter-widgets/base",
            "_view_module_version": "1.2.0",
            "_view_name": "StyleView",
            "description_width": ""
          }
        },
        "fef67c12ddc84be0afb6a1092a33c227": {
          "model_module": "@jupyter-widgets/controls",
          "model_name": "HBoxModel",
          "model_module_version": "1.5.0",
          "state": {
            "_dom_classes": [],
            "_model_module": "@jupyter-widgets/controls",
            "_model_module_version": "1.5.0",
            "_model_name": "HBoxModel",
            "_view_count": null,
            "_view_module": "@jupyter-widgets/controls",
            "_view_module_version": "1.5.0",
            "_view_name": "HBoxView",
            "box_style": "",
            "children": [
              "IPY_MODEL_06020b6afff547c8a93b39767d882d5e",
              "IPY_MODEL_0c233117b65041828f02e973c51487be",
              "IPY_MODEL_5dcc72a4939248069597c56faeb543ef"
            ],
            "layout": "IPY_MODEL_32cc887b29ed4cdab64b78b30a756003"
          }
        },
        "06020b6afff547c8a93b39767d882d5e": {
          "model_module": "@jupyter-widgets/controls",
          "model_name": "HTMLModel",
          "model_module_version": "1.5.0",
          "state": {
            "_dom_classes": [],
            "_model_module": "@jupyter-widgets/controls",
            "_model_module_version": "1.5.0",
            "_model_name": "HTMLModel",
            "_view_count": null,
            "_view_module": "@jupyter-widgets/controls",
            "_view_module_version": "1.5.0",
            "_view_name": "HTMLView",
            "description": "",
            "description_tooltip": null,
            "layout": "IPY_MODEL_ec9dadd533654236882e8bf9cb2530bd",
            "placeholder": "​",
            "style": "IPY_MODEL_6d7cc41202124098bddf34992253e20b",
            "value": "100%"
          }
        },
        "0c233117b65041828f02e973c51487be": {
          "model_module": "@jupyter-widgets/controls",
          "model_name": "FloatProgressModel",
          "model_module_version": "1.5.0",
          "state": {
            "_dom_classes": [],
            "_model_module": "@jupyter-widgets/controls",
            "_model_module_version": "1.5.0",
            "_model_name": "FloatProgressModel",
            "_view_count": null,
            "_view_module": "@jupyter-widgets/controls",
            "_view_module_version": "1.5.0",
            "_view_name": "ProgressView",
            "bar_style": "success",
            "description": "",
            "description_tooltip": null,
            "layout": "IPY_MODEL_eafcf0ee6ce340828b7e7ceee971e600",
            "max": 48263,
            "min": 0,
            "orientation": "horizontal",
            "style": "IPY_MODEL_cc583ff9bf4f46f79373b753a38f7ea4",
            "value": 48263
          }
        },
        "5dcc72a4939248069597c56faeb543ef": {
          "model_module": "@jupyter-widgets/controls",
          "model_name": "HTMLModel",
          "model_module_version": "1.5.0",
          "state": {
            "_dom_classes": [],
            "_model_module": "@jupyter-widgets/controls",
            "_model_module_version": "1.5.0",
            "_model_name": "HTMLModel",
            "_view_count": null,
            "_view_module": "@jupyter-widgets/controls",
            "_view_module_version": "1.5.0",
            "_view_name": "HTMLView",
            "description": "",
            "description_tooltip": null,
            "layout": "IPY_MODEL_14c4691b637d464aac1d56ca75bfe70b",
            "placeholder": "​",
            "style": "IPY_MODEL_284de3589b8d4858b3cef419d9eb3a6a",
            "value": " 48263/48263 [00:06&lt;00:00, 5991.32it/s]"
          }
        },
        "32cc887b29ed4cdab64b78b30a756003": {
          "model_module": "@jupyter-widgets/base",
          "model_name": "LayoutModel",
          "model_module_version": "1.2.0",
          "state": {
            "_model_module": "@jupyter-widgets/base",
            "_model_module_version": "1.2.0",
            "_model_name": "LayoutModel",
            "_view_count": null,
            "_view_module": "@jupyter-widgets/base",
            "_view_module_version": "1.2.0",
            "_view_name": "LayoutView",
            "align_content": null,
            "align_items": null,
            "align_self": null,
            "border": null,
            "bottom": null,
            "display": null,
            "flex": null,
            "flex_flow": null,
            "grid_area": null,
            "grid_auto_columns": null,
            "grid_auto_flow": null,
            "grid_auto_rows": null,
            "grid_column": null,
            "grid_gap": null,
            "grid_row": null,
            "grid_template_areas": null,
            "grid_template_columns": null,
            "grid_template_rows": null,
            "height": null,
            "justify_content": null,
            "justify_items": null,
            "left": null,
            "margin": null,
            "max_height": null,
            "max_width": null,
            "min_height": null,
            "min_width": null,
            "object_fit": null,
            "object_position": null,
            "order": null,
            "overflow": null,
            "overflow_x": null,
            "overflow_y": null,
            "padding": null,
            "right": null,
            "top": null,
            "visibility": null,
            "width": null
          }
        },
        "ec9dadd533654236882e8bf9cb2530bd": {
          "model_module": "@jupyter-widgets/base",
          "model_name": "LayoutModel",
          "model_module_version": "1.2.0",
          "state": {
            "_model_module": "@jupyter-widgets/base",
            "_model_module_version": "1.2.0",
            "_model_name": "LayoutModel",
            "_view_count": null,
            "_view_module": "@jupyter-widgets/base",
            "_view_module_version": "1.2.0",
            "_view_name": "LayoutView",
            "align_content": null,
            "align_items": null,
            "align_self": null,
            "border": null,
            "bottom": null,
            "display": null,
            "flex": null,
            "flex_flow": null,
            "grid_area": null,
            "grid_auto_columns": null,
            "grid_auto_flow": null,
            "grid_auto_rows": null,
            "grid_column": null,
            "grid_gap": null,
            "grid_row": null,
            "grid_template_areas": null,
            "grid_template_columns": null,
            "grid_template_rows": null,
            "height": null,
            "justify_content": null,
            "justify_items": null,
            "left": null,
            "margin": null,
            "max_height": null,
            "max_width": null,
            "min_height": null,
            "min_width": null,
            "object_fit": null,
            "object_position": null,
            "order": null,
            "overflow": null,
            "overflow_x": null,
            "overflow_y": null,
            "padding": null,
            "right": null,
            "top": null,
            "visibility": null,
            "width": null
          }
        },
        "6d7cc41202124098bddf34992253e20b": {
          "model_module": "@jupyter-widgets/controls",
          "model_name": "DescriptionStyleModel",
          "model_module_version": "1.5.0",
          "state": {
            "_model_module": "@jupyter-widgets/controls",
            "_model_module_version": "1.5.0",
            "_model_name": "DescriptionStyleModel",
            "_view_count": null,
            "_view_module": "@jupyter-widgets/base",
            "_view_module_version": "1.2.0",
            "_view_name": "StyleView",
            "description_width": ""
          }
        },
        "eafcf0ee6ce340828b7e7ceee971e600": {
          "model_module": "@jupyter-widgets/base",
          "model_name": "LayoutModel",
          "model_module_version": "1.2.0",
          "state": {
            "_model_module": "@jupyter-widgets/base",
            "_model_module_version": "1.2.0",
            "_model_name": "LayoutModel",
            "_view_count": null,
            "_view_module": "@jupyter-widgets/base",
            "_view_module_version": "1.2.0",
            "_view_name": "LayoutView",
            "align_content": null,
            "align_items": null,
            "align_self": null,
            "border": null,
            "bottom": null,
            "display": null,
            "flex": null,
            "flex_flow": null,
            "grid_area": null,
            "grid_auto_columns": null,
            "grid_auto_flow": null,
            "grid_auto_rows": null,
            "grid_column": null,
            "grid_gap": null,
            "grid_row": null,
            "grid_template_areas": null,
            "grid_template_columns": null,
            "grid_template_rows": null,
            "height": null,
            "justify_content": null,
            "justify_items": null,
            "left": null,
            "margin": null,
            "max_height": null,
            "max_width": null,
            "min_height": null,
            "min_width": null,
            "object_fit": null,
            "object_position": null,
            "order": null,
            "overflow": null,
            "overflow_x": null,
            "overflow_y": null,
            "padding": null,
            "right": null,
            "top": null,
            "visibility": null,
            "width": null
          }
        },
        "cc583ff9bf4f46f79373b753a38f7ea4": {
          "model_module": "@jupyter-widgets/controls",
          "model_name": "ProgressStyleModel",
          "model_module_version": "1.5.0",
          "state": {
            "_model_module": "@jupyter-widgets/controls",
            "_model_module_version": "1.5.0",
            "_model_name": "ProgressStyleModel",
            "_view_count": null,
            "_view_module": "@jupyter-widgets/base",
            "_view_module_version": "1.2.0",
            "_view_name": "StyleView",
            "bar_color": null,
            "description_width": ""
          }
        },
        "14c4691b637d464aac1d56ca75bfe70b": {
          "model_module": "@jupyter-widgets/base",
          "model_name": "LayoutModel",
          "model_module_version": "1.2.0",
          "state": {
            "_model_module": "@jupyter-widgets/base",
            "_model_module_version": "1.2.0",
            "_model_name": "LayoutModel",
            "_view_count": null,
            "_view_module": "@jupyter-widgets/base",
            "_view_module_version": "1.2.0",
            "_view_name": "LayoutView",
            "align_content": null,
            "align_items": null,
            "align_self": null,
            "border": null,
            "bottom": null,
            "display": null,
            "flex": null,
            "flex_flow": null,
            "grid_area": null,
            "grid_auto_columns": null,
            "grid_auto_flow": null,
            "grid_auto_rows": null,
            "grid_column": null,
            "grid_gap": null,
            "grid_row": null,
            "grid_template_areas": null,
            "grid_template_columns": null,
            "grid_template_rows": null,
            "height": null,
            "justify_content": null,
            "justify_items": null,
            "left": null,
            "margin": null,
            "max_height": null,
            "max_width": null,
            "min_height": null,
            "min_width": null,
            "object_fit": null,
            "object_position": null,
            "order": null,
            "overflow": null,
            "overflow_x": null,
            "overflow_y": null,
            "padding": null,
            "right": null,
            "top": null,
            "visibility": null,
            "width": null
          }
        },
        "284de3589b8d4858b3cef419d9eb3a6a": {
          "model_module": "@jupyter-widgets/controls",
          "model_name": "DescriptionStyleModel",
          "model_module_version": "1.5.0",
          "state": {
            "_model_module": "@jupyter-widgets/controls",
            "_model_module_version": "1.5.0",
            "_model_name": "DescriptionStyleModel",
            "_view_count": null,
            "_view_module": "@jupyter-widgets/base",
            "_view_module_version": "1.2.0",
            "_view_name": "StyleView",
            "description_width": ""
          }
        },
        "95b0e1390dfe402a883ff93dfd2d3e5d": {
          "model_module": "catboost-widget",
          "model_name": "CatboostWidgetModel",
          "model_module_version": "^1.0.0",
          "state": {
            "_dom_classes": [],
            "_model_module": "catboost-widget",
            "_model_module_version": "^1.0.0",
            "_model_name": "CatboostWidgetModel",
            "_view_count": null,
            "_view_module": "catboost-widget",
            "_view_module_version": "^1.0.0",
            "_view_name": "CatboostWidgetView",
            "data": {
              "catboost_info": {
                "path": "catboost_info",
                "name": "catboost_info",
                "content": {
                  "passed_iterations": 199,
                  "total_iterations": 200,
                  "data": {
                    "iterations": [
                      {
                        "learn": [
                          0.6831835944
                        ],
                        "iteration": 0,
                        "passed_time": 0.1085516304,
                        "remaining_time": 21.60177445,
                        "test": [
                          0.6835326877
                        ]
                      },
                      {
                        "learn": [
                          0.6752650222
                        ],
                        "iteration": 1,
                        "passed_time": 0.2103120191,
                        "remaining_time": 20.82088989,
                        "test": [
                          0.6756277251
                        ]
                      },
                      {
                        "learn": [
                          0.6695341327
                        ],
                        "iteration": 2,
                        "passed_time": 0.2845721694,
                        "remaining_time": 18.68690579,
                        "test": [
                          0.6703157326
                        ]
                      },
                      {
                        "learn": [
                          0.6641155206
                        ],
                        "iteration": 3,
                        "passed_time": 0.3474476812,
                        "remaining_time": 17.02493638,
                        "test": [
                          0.6648518179
                        ]
                      },
                      {
                        "learn": [
                          0.6604612973
                        ],
                        "iteration": 4,
                        "passed_time": 0.4085393604,
                        "remaining_time": 15.93303505,
                        "test": [
                          0.6613874514
                        ]
                      },
                      {
                        "learn": [
                          0.6569032262
                        ],
                        "iteration": 5,
                        "passed_time": 0.4633569896,
                        "remaining_time": 14.981876,
                        "test": [
                          0.6577903054
                        ]
                      },
                      {
                        "learn": [
                          0.6542534401
                        ],
                        "iteration": 6,
                        "passed_time": 0.5099942842,
                        "remaining_time": 14.06127098,
                        "test": [
                          0.6554901636
                        ]
                      },
                      {
                        "learn": [
                          0.6521012702
                        ],
                        "iteration": 7,
                        "passed_time": 0.5568623803,
                        "remaining_time": 13.36469713,
                        "test": [
                          0.6530838794
                        ]
                      },
                      {
                        "learn": [
                          0.6501223734
                        ],
                        "iteration": 8,
                        "passed_time": 0.6024154533,
                        "remaining_time": 12.78459462,
                        "test": [
                          0.6516952705
                        ]
                      },
                      {
                        "learn": [
                          0.6480932859
                        ],
                        "iteration": 9,
                        "passed_time": 0.6542979458,
                        "remaining_time": 12.43166097,
                        "test": [
                          0.6500681008
                        ]
                      },
                      {
                        "learn": [
                          0.6460309867
                        ],
                        "iteration": 10,
                        "passed_time": 0.7095757903,
                        "remaining_time": 12.19180222,
                        "test": [
                          0.6484666203
                        ]
                      },
                      {
                        "learn": [
                          0.6443868194
                        ],
                        "iteration": 11,
                        "passed_time": 0.7680763076,
                        "remaining_time": 12.03319549,
                        "test": [
                          0.6471982397
                        ]
                      },
                      {
                        "learn": [
                          0.6422528102
                        ],
                        "iteration": 12,
                        "passed_time": 0.8135466235,
                        "remaining_time": 11.70255528,
                        "test": [
                          0.6452058249
                        ]
                      },
                      {
                        "learn": [
                          0.6407585311
                        ],
                        "iteration": 13,
                        "passed_time": 0.8590459665,
                        "remaining_time": 11.41303927,
                        "test": [
                          0.6442900934
                        ]
                      },
                      {
                        "learn": [
                          0.6392281171
                        ],
                        "iteration": 14,
                        "passed_time": 0.908255496,
                        "remaining_time": 11.20181778,
                        "test": [
                          0.6431496615
                        ]
                      },
                      {
                        "learn": [
                          0.637425541
                        ],
                        "iteration": 15,
                        "passed_time": 0.9533178065,
                        "remaining_time": 10.96315478,
                        "test": [
                          0.6419101304
                        ]
                      },
                      {
                        "learn": [
                          0.6356908811
                        ],
                        "iteration": 16,
                        "passed_time": 0.9985120119,
                        "remaining_time": 10.74868813,
                        "test": [
                          0.6405154264
                        ]
                      },
                      {
                        "learn": [
                          0.634321799
                        ],
                        "iteration": 17,
                        "passed_time": 1.044012019,
                        "remaining_time": 10.55612152,
                        "test": [
                          0.6396405084
                        ]
                      },
                      {
                        "learn": [
                          0.6326516968
                        ],
                        "iteration": 18,
                        "passed_time": 1.089436322,
                        "remaining_time": 10.37831443,
                        "test": [
                          0.6387149798
                        ]
                      },
                      {
                        "learn": [
                          0.6311031842
                        ],
                        "iteration": 19,
                        "passed_time": 1.134897785,
                        "remaining_time": 10.21408007,
                        "test": [
                          0.6374105262
                        ]
                      },
                      {
                        "learn": [
                          0.6296133831
                        ],
                        "iteration": 20,
                        "passed_time": 1.180316875,
                        "remaining_time": 10.06079622,
                        "test": [
                          0.6365216124
                        ]
                      },
                      {
                        "learn": [
                          0.6283295071
                        ],
                        "iteration": 21,
                        "passed_time": 1.225242876,
                        "remaining_time": 9.913328725,
                        "test": [
                          0.6354996482
                        ]
                      },
                      {
                        "learn": [
                          0.627409281
                        ],
                        "iteration": 22,
                        "passed_time": 1.274852754,
                        "remaining_time": 9.810823371,
                        "test": [
                          0.6350886232
                        ]
                      },
                      {
                        "learn": [
                          0.6260615315
                        ],
                        "iteration": 23,
                        "passed_time": 1.320363691,
                        "remaining_time": 9.682667065,
                        "test": [
                          0.6340972692
                        ]
                      },
                      {
                        "learn": [
                          0.6248231817
                        ],
                        "iteration": 24,
                        "passed_time": 1.365796482,
                        "remaining_time": 9.560575376,
                        "test": [
                          0.6333403674
                        ]
                      },
                      {
                        "learn": [
                          0.6237349689
                        ],
                        "iteration": 25,
                        "passed_time": 1.41119621,
                        "remaining_time": 9.444159253,
                        "test": [
                          0.6324890165
                        ]
                      },
                      {
                        "learn": [
                          0.6228192207
                        ],
                        "iteration": 26,
                        "passed_time": 1.458135597,
                        "remaining_time": 9.342868822,
                        "test": [
                          0.6319878314
                        ]
                      },
                      {
                        "learn": [
                          0.621422089
                        ],
                        "iteration": 27,
                        "passed_time": 1.507932494,
                        "remaining_time": 9.263013893,
                        "test": [
                          0.6310400901
                        ]
                      },
                      {
                        "learn": [
                          0.620173726
                        ],
                        "iteration": 28,
                        "passed_time": 1.553128805,
                        "remaining_time": 9.158104331,
                        "test": [
                          0.6304859016
                        ]
                      },
                      {
                        "learn": [
                          0.6189055229
                        ],
                        "iteration": 29,
                        "passed_time": 1.598596163,
                        "remaining_time": 9.058711589,
                        "test": [
                          0.629643806
                        ]
                      },
                      {
                        "learn": [
                          0.617833294
                        ],
                        "iteration": 30,
                        "passed_time": 1.643907823,
                        "remaining_time": 8.961949098,
                        "test": [
                          0.6290755314
                        ]
                      },
                      {
                        "learn": [
                          0.6166988709
                        ],
                        "iteration": 31,
                        "passed_time": 1.689093319,
                        "remaining_time": 8.867739925,
                        "test": [
                          0.6282793059
                        ]
                      },
                      {
                        "learn": [
                          0.6150469915
                        ],
                        "iteration": 32,
                        "passed_time": 1.739846113,
                        "remaining_time": 8.804675782,
                        "test": [
                          0.6274363525
                        ]
                      },
                      {
                        "learn": [
                          0.6135872924
                        ],
                        "iteration": 33,
                        "passed_time": 1.785343472,
                        "remaining_time": 8.716676954,
                        "test": [
                          0.6265616151
                        ]
                      },
                      {
                        "learn": [
                          0.6124597106
                        ],
                        "iteration": 34,
                        "passed_time": 1.830677644,
                        "remaining_time": 8.630337465,
                        "test": [
                          0.6261293707
                        ]
                      },
                      {
                        "learn": [
                          0.611392706
                        ],
                        "iteration": 35,
                        "passed_time": 1.875855215,
                        "remaining_time": 8.545562645,
                        "test": [
                          0.6255902615
                        ]
                      },
                      {
                        "learn": [
                          0.6103934309
                        ],
                        "iteration": 36,
                        "passed_time": 1.920936105,
                        "remaining_time": 8.4625023,
                        "test": [
                          0.6248737669
                        ]
                      },
                      {
                        "learn": [
                          0.6093249336
                        ],
                        "iteration": 37,
                        "passed_time": 1.966499632,
                        "remaining_time": 8.383498432,
                        "test": [
                          0.6243570511
                        ]
                      },
                      {
                        "learn": [
                          0.608368697
                        ],
                        "iteration": 38,
                        "passed_time": 2.01172911,
                        "remaining_time": 8.304830427,
                        "test": [
                          0.6237233123
                        ]
                      },
                      {
                        "learn": [
                          0.6072962815
                        ],
                        "iteration": 39,
                        "passed_time": 2.056945696,
                        "remaining_time": 8.227782782,
                        "test": [
                          0.6231918331
                        ]
                      },
                      {
                        "learn": [
                          0.6063333901
                        ],
                        "iteration": 40,
                        "passed_time": 2.10238934,
                        "remaining_time": 8.153168416,
                        "test": [
                          0.6226924088
                        ]
                      },
                      {
                        "learn": [
                          0.6053698767
                        ],
                        "iteration": 41,
                        "passed_time": 2.148027347,
                        "remaining_time": 8.080674305,
                        "test": [
                          0.6221700946
                        ]
                      },
                      {
                        "learn": [
                          0.6044289398
                        ],
                        "iteration": 42,
                        "passed_time": 2.193969349,
                        "remaining_time": 8.010539253,
                        "test": [
                          0.6216149581
                        ]
                      },
                      {
                        "learn": [
                          0.6034816592
                        ],
                        "iteration": 43,
                        "passed_time": 2.23916619,
                        "remaining_time": 7.938861946,
                        "test": [
                          0.6210961203
                        ]
                      },
                      {
                        "learn": [
                          0.6021596581
                        ],
                        "iteration": 44,
                        "passed_time": 2.285066576,
                        "remaining_time": 7.870784872,
                        "test": [
                          0.6203870299
                        ]
                      },
                      {
                        "learn": [
                          0.601283963
                        ],
                        "iteration": 45,
                        "passed_time": 2.330618977,
                        "remaining_time": 7.802507008,
                        "test": [
                          0.6199365458
                        ]
                      },
                      {
                        "learn": [
                          0.6004239409
                        ],
                        "iteration": 46,
                        "passed_time": 2.376167301,
                        "remaining_time": 7.735182915,
                        "test": [
                          0.6195383879
                        ]
                      },
                      {
                        "learn": [
                          0.5994586861
                        ],
                        "iteration": 47,
                        "passed_time": 2.421839392,
                        "remaining_time": 7.669158075,
                        "test": [
                          0.618946817
                        ]
                      },
                      {
                        "learn": [
                          0.5986360427
                        ],
                        "iteration": 48,
                        "passed_time": 2.46717464,
                        "remaining_time": 7.602925932,
                        "test": [
                          0.6185048207
                        ]
                      },
                      {
                        "learn": [
                          0.5979331855
                        ],
                        "iteration": 49,
                        "passed_time": 2.512443766,
                        "remaining_time": 7.537331297,
                        "test": [
                          0.6180675649
                        ]
                      },
                      {
                        "learn": [
                          0.596931236
                        ],
                        "iteration": 50,
                        "passed_time": 2.557856521,
                        "remaining_time": 7.472953365,
                        "test": [
                          0.6174710729
                        ]
                      },
                      {
                        "learn": [
                          0.5962686807
                        ],
                        "iteration": 51,
                        "passed_time": 2.603937843,
                        "remaining_time": 7.411207707,
                        "test": [
                          0.61731739
                        ]
                      },
                      {
                        "learn": [
                          0.5954621456
                        ],
                        "iteration": 52,
                        "passed_time": 2.649350143,
                        "remaining_time": 7.348197568,
                        "test": [
                          0.6169614001
                        ]
                      },
                      {
                        "learn": [
                          0.5942461236
                        ],
                        "iteration": 53,
                        "passed_time": 2.694671332,
                        "remaining_time": 7.28559286,
                        "test": [
                          0.6165135797
                        ]
                      },
                      {
                        "learn": [
                          0.5934565675
                        ],
                        "iteration": 54,
                        "passed_time": 2.742590002,
                        "remaining_time": 7.230464552,
                        "test": [
                          0.6161915861
                        ]
                      },
                      {
                        "learn": [
                          0.5926721736
                        ],
                        "iteration": 55,
                        "passed_time": 2.787937526,
                        "remaining_time": 7.168982211,
                        "test": [
                          0.6157587095
                        ]
                      },
                      {
                        "learn": [
                          0.5919043233
                        ],
                        "iteration": 56,
                        "passed_time": 2.833305458,
                        "remaining_time": 7.108117202,
                        "test": [
                          0.6153636217
                        ]
                      },
                      {
                        "learn": [
                          0.5910882104
                        ],
                        "iteration": 57,
                        "passed_time": 2.878873223,
                        "remaining_time": 7.048275821,
                        "test": [
                          0.6150543597
                        ]
                      },
                      {
                        "learn": [
                          0.5896857921
                        ],
                        "iteration": 58,
                        "passed_time": 2.934455556,
                        "remaining_time": 7.012851414,
                        "test": [
                          0.6144728117
                        ]
                      },
                      {
                        "learn": [
                          0.588769422
                        ],
                        "iteration": 59,
                        "passed_time": 2.97994012,
                        "remaining_time": 6.953193614,
                        "test": [
                          0.6141435944
                        ]
                      },
                      {
                        "learn": [
                          0.5880626465
                        ],
                        "iteration": 60,
                        "passed_time": 3.02517251,
                        "remaining_time": 6.893425884,
                        "test": [
                          0.6137285061
                        ]
                      },
                      {
                        "learn": [
                          0.5872102743
                        ],
                        "iteration": 61,
                        "passed_time": 3.071026228,
                        "remaining_time": 6.835509992,
                        "test": [
                          0.6133658794
                        ]
                      },
                      {
                        "learn": [
                          0.5865245205
                        ],
                        "iteration": 62,
                        "passed_time": 3.117096647,
                        "remaining_time": 6.778448265,
                        "test": [
                          0.6130494389
                        ]
                      },
                      {
                        "learn": [
                          0.5857458484
                        ],
                        "iteration": 63,
                        "passed_time": 3.162241749,
                        "remaining_time": 6.719763716,
                        "test": [
                          0.61266013
                        ]
                      },
                      {
                        "learn": [
                          0.5851894586
                        ],
                        "iteration": 64,
                        "passed_time": 3.207619657,
                        "remaining_time": 6.661979287,
                        "test": [
                          0.6123538929
                        ]
                      },
                      {
                        "learn": [
                          0.5841395574
                        ],
                        "iteration": 65,
                        "passed_time": 3.253675,
                        "remaining_time": 6.605946212,
                        "test": [
                          0.6118213302
                        ]
                      },
                      {
                        "learn": [
                          0.5834197833
                        ],
                        "iteration": 66,
                        "passed_time": 3.298878001,
                        "remaining_time": 6.548519017,
                        "test": [
                          0.6113894469
                        ]
                      },
                      {
                        "learn": [
                          0.5825728842
                        ],
                        "iteration": 67,
                        "passed_time": 3.344004866,
                        "remaining_time": 6.491303563,
                        "test": [
                          0.6111571618
                        ]
                      },
                      {
                        "learn": [
                          0.5816903478
                        ],
                        "iteration": 68,
                        "passed_time": 3.390112539,
                        "remaining_time": 6.436300618,
                        "test": [
                          0.6109041087
                        ]
                      },
                      {
                        "learn": [
                          0.580713898
                        ],
                        "iteration": 69,
                        "passed_time": 3.435630362,
                        "remaining_time": 6.380456387,
                        "test": [
                          0.6105858172
                        ]
                      },
                      {
                        "learn": [
                          0.5801315732
                        ],
                        "iteration": 70,
                        "passed_time": 3.481165283,
                        "remaining_time": 6.324934107,
                        "test": [
                          0.610217231
                        ]
                      },
                      {
                        "learn": [
                          0.5793956908
                        ],
                        "iteration": 71,
                        "passed_time": 3.527510141,
                        "remaining_time": 6.27112914,
                        "test": [
                          0.6099059825
                        ]
                      },
                      {
                        "learn": [
                          0.5785936337
                        ],
                        "iteration": 72,
                        "passed_time": 3.572872599,
                        "remaining_time": 6.215819453,
                        "test": [
                          0.6094690879
                        ]
                      },
                      {
                        "learn": [
                          0.5778919581
                        ],
                        "iteration": 73,
                        "passed_time": 3.618936597,
                        "remaining_time": 6.161973124,
                        "test": [
                          0.6091359427
                        ]
                      },
                      {
                        "learn": [
                          0.5769064902
                        ],
                        "iteration": 74,
                        "passed_time": 3.664551216,
                        "remaining_time": 6.10758536,
                        "test": [
                          0.6087510583
                        ]
                      },
                      {
                        "learn": [
                          0.5762798831
                        ],
                        "iteration": 75,
                        "passed_time": 3.70975103,
                        "remaining_time": 6.052751681,
                        "test": [
                          0.6084232857
                        ]
                      },
                      {
                        "learn": [
                          0.575593072
                        ],
                        "iteration": 76,
                        "passed_time": 3.758956674,
                        "remaining_time": 6.004567155,
                        "test": [
                          0.608076235
                        ]
                      },
                      {
                        "learn": [
                          0.5748530847
                        ],
                        "iteration": 77,
                        "passed_time": 3.804330631,
                        "remaining_time": 5.950363295,
                        "test": [
                          0.6078231368
                        ]
                      },
                      {
                        "learn": [
                          0.5741730528
                        ],
                        "iteration": 78,
                        "passed_time": 3.849596824,
                        "remaining_time": 5.896217921,
                        "test": [
                          0.6075959534
                        ]
                      },
                      {
                        "learn": [
                          0.5734691382
                        ],
                        "iteration": 79,
                        "passed_time": 3.894902494,
                        "remaining_time": 5.84235374,
                        "test": [
                          0.6073286336
                        ]
                      },
                      {
                        "learn": [
                          0.5728896122
                        ],
                        "iteration": 80,
                        "passed_time": 3.952298199,
                        "remaining_time": 5.806462786,
                        "test": [
                          0.6070211324
                        ]
                      },
                      {
                        "learn": [
                          0.5721348849
                        ],
                        "iteration": 81,
                        "passed_time": 3.998651829,
                        "remaining_time": 5.754157511,
                        "test": [
                          0.6068899782
                        ]
                      },
                      {
                        "learn": [
                          0.5710870361
                        ],
                        "iteration": 82,
                        "passed_time": 4.044149014,
                        "remaining_time": 5.700788369,
                        "test": [
                          0.6064857705
                        ]
                      },
                      {
                        "learn": [
                          0.5704887274
                        ],
                        "iteration": 83,
                        "passed_time": 4.089456815,
                        "remaining_time": 5.647345125,
                        "test": [
                          0.6060486501
                        ]
                      },
                      {
                        "learn": [
                          0.5699805382
                        ],
                        "iteration": 84,
                        "passed_time": 4.134706055,
                        "remaining_time": 5.594014075,
                        "test": [
                          0.605853341
                        ]
                      },
                      {
                        "learn": [
                          0.5692108221
                        ],
                        "iteration": 85,
                        "passed_time": 4.180022252,
                        "remaining_time": 5.540959729,
                        "test": [
                          0.6056405146
                        ]
                      },
                      {
                        "learn": [
                          0.5683856287
                        ],
                        "iteration": 86,
                        "passed_time": 4.225682926,
                        "remaining_time": 5.488530697,
                        "test": [
                          0.6053646167
                        ]
                      },
                      {
                        "learn": [
                          0.5676132383
                        ],
                        "iteration": 87,
                        "passed_time": 4.274491114,
                        "remaining_time": 5.440261418,
                        "test": [
                          0.6050684927
                        ]
                      },
                      {
                        "learn": [
                          0.5670178527
                        ],
                        "iteration": 88,
                        "passed_time": 4.319702045,
                        "remaining_time": 5.387493562,
                        "test": [
                          0.6045306477
                        ]
                      },
                      {
                        "learn": [
                          0.5663883847
                        ],
                        "iteration": 89,
                        "passed_time": 4.365033454,
                        "remaining_time": 5.335040889,
                        "test": [
                          0.604407575
                        ]
                      },
                      {
                        "learn": [
                          0.5658494093
                        ],
                        "iteration": 90,
                        "passed_time": 4.410346145,
                        "remaining_time": 5.282722306,
                        "test": [
                          0.6041732582
                        ]
                      },
                      {
                        "learn": [
                          0.5651529581
                        ],
                        "iteration": 91,
                        "passed_time": 4.455955072,
                        "remaining_time": 5.23090378,
                        "test": [
                          0.6039853985
                        ]
                      },
                      {
                        "learn": [
                          0.5646197667
                        ],
                        "iteration": 92,
                        "passed_time": 4.501480402,
                        "remaining_time": 5.179122613,
                        "test": [
                          0.6038841321
                        ]
                      },
                      {
                        "learn": [
                          0.5638253595
                        ],
                        "iteration": 93,
                        "passed_time": 4.547372678,
                        "remaining_time": 5.127888339,
                        "test": [
                          0.6036213723
                        ]
                      },
                      {
                        "learn": [
                          0.5632217643
                        ],
                        "iteration": 94,
                        "passed_time": 4.59562939,
                        "remaining_time": 5.079379852,
                        "test": [
                          0.6033015909
                        ]
                      },
                      {
                        "learn": [
                          0.5625462103
                        ],
                        "iteration": 95,
                        "passed_time": 4.641748179,
                        "remaining_time": 5.028560527,
                        "test": [
                          0.6031358535
                        ]
                      },
                      {
                        "learn": [
                          0.561946098
                        ],
                        "iteration": 96,
                        "passed_time": 4.687131181,
                        "remaining_time": 4.977056821,
                        "test": [
                          0.6028896629
                        ]
                      },
                      {
                        "learn": [
                          0.5614477976
                        ],
                        "iteration": 97,
                        "passed_time": 4.736985742,
                        "remaining_time": 4.930332099,
                        "test": [
                          0.6025873988
                        ]
                      },
                      {
                        "learn": [
                          0.5606252164
                        ],
                        "iteration": 98,
                        "passed_time": 4.788525983,
                        "remaining_time": 4.885263882,
                        "test": [
                          0.602278814
                        ]
                      },
                      {
                        "learn": [
                          0.5598782013
                        ],
                        "iteration": 99,
                        "passed_time": 4.834075056,
                        "remaining_time": 4.834075056,
                        "test": [
                          0.6019713579
                        ]
                      },
                      {
                        "learn": [
                          0.5593758583
                        ],
                        "iteration": 100,
                        "passed_time": 4.880047153,
                        "remaining_time": 4.783412556,
                        "test": [
                          0.6017894125
                        ]
                      },
                      {
                        "learn": [
                          0.5587071457
                        ],
                        "iteration": 101,
                        "passed_time": 4.931397543,
                        "remaining_time": 4.738009404,
                        "test": [
                          0.6016348267
                        ]
                      },
                      {
                        "learn": [
                          0.5579178384
                        ],
                        "iteration": 102,
                        "passed_time": 4.977604878,
                        "remaining_time": 4.687647313,
                        "test": [
                          0.6011518813
                        ]
                      },
                      {
                        "learn": [
                          0.5572456429
                        ],
                        "iteration": 103,
                        "passed_time": 5.023250709,
                        "remaining_time": 4.636846809,
                        "test": [
                          0.6008430708
                        ]
                      },
                      {
                        "learn": [
                          0.5564338213
                        ],
                        "iteration": 104,
                        "passed_time": 5.068818071,
                        "remaining_time": 4.586073493,
                        "test": [
                          0.6005553443
                        ]
                      },
                      {
                        "learn": [
                          0.5558946594
                        ],
                        "iteration": 105,
                        "passed_time": 5.113994407,
                        "remaining_time": 4.535051644,
                        "test": [
                          0.6004123614
                        ]
                      },
                      {
                        "learn": [
                          0.5552511354
                        ],
                        "iteration": 106,
                        "passed_time": 5.159585562,
                        "remaining_time": 4.4844996,
                        "test": [
                          0.6001312264
                        ]
                      },
                      {
                        "learn": [
                          0.5542689016
                        ],
                        "iteration": 107,
                        "passed_time": 5.208934868,
                        "remaining_time": 4.437240814,
                        "test": [
                          0.5997355516
                        ]
                      },
                      {
                        "learn": [
                          0.553647892
                        ],
                        "iteration": 108,
                        "passed_time": 5.254103654,
                        "remaining_time": 4.386453509,
                        "test": [
                          0.5993440305
                        ]
                      },
                      {
                        "learn": [
                          0.5531525147
                        ],
                        "iteration": 109,
                        "passed_time": 5.299503995,
                        "remaining_time": 4.335957814,
                        "test": [
                          0.5989449245
                        ]
                      },
                      {
                        "learn": [
                          0.5520851992
                        ],
                        "iteration": 110,
                        "passed_time": 5.344978181,
                        "remaining_time": 4.285613136,
                        "test": [
                          0.5985969257
                        ]
                      },
                      {
                        "learn": [
                          0.5513887479
                        ],
                        "iteration": 111,
                        "passed_time": 5.391002066,
                        "remaining_time": 4.235787338,
                        "test": [
                          0.5983475747
                        ]
                      },
                      {
                        "learn": [
                          0.5505345098
                        ],
                        "iteration": 112,
                        "passed_time": 5.436670055,
                        "remaining_time": 4.185754821,
                        "test": [
                          0.5980744761
                        ]
                      },
                      {
                        "learn": [
                          0.550062953
                        ],
                        "iteration": 113,
                        "passed_time": 5.482196017,
                        "remaining_time": 4.135691732,
                        "test": [
                          0.5978039057
                        ]
                      },
                      {
                        "learn": [
                          0.5495730489
                        ],
                        "iteration": 114,
                        "passed_time": 5.52953577,
                        "remaining_time": 4.087048178,
                        "test": [
                          0.5978370893
                        ]
                      },
                      {
                        "learn": [
                          0.5488291434
                        ],
                        "iteration": 115,
                        "passed_time": 5.57807841,
                        "remaining_time": 4.039298159,
                        "test": [
                          0.5976136531
                        ]
                      },
                      {
                        "learn": [
                          0.5481021548
                        ],
                        "iteration": 116,
                        "passed_time": 5.623696991,
                        "remaining_time": 3.989460259,
                        "test": [
                          0.5972678214
                        ]
                      },
                      {
                        "learn": [
                          0.5474055792
                        ],
                        "iteration": 117,
                        "passed_time": 5.668967993,
                        "remaining_time": 3.939452334,
                        "test": [
                          0.596907091
                        ]
                      },
                      {
                        "learn": [
                          0.5468424102
                        ],
                        "iteration": 118,
                        "passed_time": 5.714974573,
                        "remaining_time": 3.890024709,
                        "test": [
                          0.596756749
                        ]
                      },
                      {
                        "learn": [
                          0.5461737598
                        ],
                        "iteration": 119,
                        "passed_time": 5.77468922,
                        "remaining_time": 3.849792813,
                        "test": [
                          0.5966380556
                        ]
                      },
                      {
                        "learn": [
                          0.5455266286
                        ],
                        "iteration": 120,
                        "passed_time": 5.820632627,
                        "remaining_time": 3.800247748,
                        "test": [
                          0.5963564692
                        ]
                      },
                      {
                        "learn": [
                          0.5449281333
                        ],
                        "iteration": 121,
                        "passed_time": 5.867247663,
                        "remaining_time": 3.751191129,
                        "test": [
                          0.5962540741
                        ]
                      },
                      {
                        "learn": [
                          0.5443715569
                        ],
                        "iteration": 122,
                        "passed_time": 5.913245614,
                        "remaining_time": 3.701787905,
                        "test": [
                          0.5961021068
                        ]
                      },
                      {
                        "learn": [
                          0.543866664
                        ],
                        "iteration": 123,
                        "passed_time": 5.958569555,
                        "remaining_time": 3.652026502,
                        "test": [
                          0.5959555121
                        ]
                      },
                      {
                        "learn": [
                          0.5432423581
                        ],
                        "iteration": 124,
                        "passed_time": 6.007722098,
                        "remaining_time": 3.604633259,
                        "test": [
                          0.5956139695
                        ]
                      },
                      {
                        "learn": [
                          0.5426717258
                        ],
                        "iteration": 125,
                        "passed_time": 6.058779322,
                        "remaining_time": 3.558330713,
                        "test": [
                          0.5954449364
                        ]
                      },
                      {
                        "learn": [
                          0.5419940572
                        ],
                        "iteration": 126,
                        "passed_time": 6.104629219,
                        "remaining_time": 3.508960102,
                        "test": [
                          0.5952803729
                        ]
                      },
                      {
                        "learn": [
                          0.5413430078
                        ],
                        "iteration": 127,
                        "passed_time": 6.150177569,
                        "remaining_time": 3.459474883,
                        "test": [
                          0.5949128251
                        ]
                      },
                      {
                        "learn": [
                          0.5410229561
                        ],
                        "iteration": 128,
                        "passed_time": 6.196045783,
                        "remaining_time": 3.410226749,
                        "test": [
                          0.5949391011
                        ]
                      },
                      {
                        "learn": [
                          0.5406030827
                        ],
                        "iteration": 129,
                        "passed_time": 6.241966298,
                        "remaining_time": 3.361058776,
                        "test": [
                          0.5947339949
                        ]
                      },
                      {
                        "learn": [
                          0.5399754183
                        ],
                        "iteration": 130,
                        "passed_time": 6.287375656,
                        "remaining_time": 3.311671147,
                        "test": [
                          0.5946966126
                        ]
                      },
                      {
                        "learn": [
                          0.5394097616
                        ],
                        "iteration": 131,
                        "passed_time": 6.332684824,
                        "remaining_time": 3.262292182,
                        "test": [
                          0.5943544379
                        ]
                      },
                      {
                        "learn": [
                          0.5389214745
                        ],
                        "iteration": 132,
                        "passed_time": 6.378345558,
                        "remaining_time": 3.213151521,
                        "test": [
                          0.5942821112
                        ]
                      },
                      {
                        "learn": [
                          0.5380175433
                        ],
                        "iteration": 133,
                        "passed_time": 6.424079085,
                        "remaining_time": 3.164098654,
                        "test": [
                          0.5942640521
                        ]
                      },
                      {
                        "learn": [
                          0.5375666971
                        ],
                        "iteration": 134,
                        "passed_time": 6.469570231,
                        "remaining_time": 3.11497826,
                        "test": [
                          0.5939432775
                        ]
                      },
                      {
                        "learn": [
                          0.5371509285
                        ],
                        "iteration": 135,
                        "passed_time": 6.514997379,
                        "remaining_time": 3.065881119,
                        "test": [
                          0.5937785334
                        ]
                      },
                      {
                        "learn": [
                          0.5366979056
                        ],
                        "iteration": 136,
                        "passed_time": 6.560425016,
                        "remaining_time": 3.016837781,
                        "test": [
                          0.5936640387
                        ]
                      },
                      {
                        "learn": [
                          0.5360244662
                        ],
                        "iteration": 137,
                        "passed_time": 6.606618208,
                        "remaining_time": 2.968190789,
                        "test": [
                          0.5934874208
                        ]
                      },
                      {
                        "learn": [
                          0.5354479877
                        ],
                        "iteration": 138,
                        "passed_time": 6.652389147,
                        "remaining_time": 2.919393798,
                        "test": [
                          0.5932003263
                        ]
                      },
                      {
                        "learn": [
                          0.5347451304
                        ],
                        "iteration": 139,
                        "passed_time": 6.698568821,
                        "remaining_time": 2.870815209,
                        "test": [
                          0.5931961276
                        ]
                      },
                      {
                        "learn": [
                          0.5341924101
                        ],
                        "iteration": 140,
                        "passed_time": 6.744289927,
                        "remaining_time": 2.822078764,
                        "test": [
                          0.5931004595
                        ]
                      },
                      {
                        "learn": [
                          0.5335450923
                        ],
                        "iteration": 141,
                        "passed_time": 6.794368759,
                        "remaining_time": 2.775164704,
                        "test": [
                          0.5927538152
                        ]
                      },
                      {
                        "learn": [
                          0.5330937486
                        ],
                        "iteration": 142,
                        "passed_time": 6.839718967,
                        "remaining_time": 2.726321546,
                        "test": [
                          0.5925211237
                        ]
                      },
                      {
                        "learn": [
                          0.5326401659
                        ],
                        "iteration": 143,
                        "passed_time": 6.885199282,
                        "remaining_time": 2.677577499,
                        "test": [
                          0.5924227017
                        ]
                      },
                      {
                        "learn": [
                          0.5320055358
                        ],
                        "iteration": 144,
                        "passed_time": 6.930900896,
                        "remaining_time": 2.628962409,
                        "test": [
                          0.5921843216
                        ]
                      },
                      {
                        "learn": [
                          0.5316380299
                        ],
                        "iteration": 145,
                        "passed_time": 6.976012371,
                        "remaining_time": 2.580168959,
                        "test": [
                          0.5919592601
                        ]
                      },
                      {
                        "learn": [
                          0.5312068372
                        ],
                        "iteration": 146,
                        "passed_time": 7.023792847,
                        "remaining_time": 2.532387897,
                        "test": [
                          0.5918399798
                        ]
                      },
                      {
                        "learn": [
                          0.5307144453
                        ],
                        "iteration": 147,
                        "passed_time": 7.069558318,
                        "remaining_time": 2.483898868,
                        "test": [
                          0.5916623235
                        ]
                      },
                      {
                        "learn": [
                          0.5301329912
                        ],
                        "iteration": 148,
                        "passed_time": 7.115187382,
                        "remaining_time": 2.435399708,
                        "test": [
                          0.5914536055
                        ]
                      },
                      {
                        "learn": [
                          0.5296412835
                        ],
                        "iteration": 149,
                        "passed_time": 7.16086371,
                        "remaining_time": 2.38695457,
                        "test": [
                          0.5914834481
                        ]
                      },
                      {
                        "learn": [
                          0.5290761865
                        ],
                        "iteration": 150,
                        "passed_time": 7.206280584,
                        "remaining_time": 2.338461911,
                        "test": [
                          0.5912476415
                        ]
                      },
                      {
                        "learn": [
                          0.528622044
                        ],
                        "iteration": 151,
                        "passed_time": 7.252252866,
                        "remaining_time": 2.290185116,
                        "test": [
                          0.5910709784
                        ]
                      },
                      {
                        "learn": [
                          0.5280909051
                        ],
                        "iteration": 152,
                        "passed_time": 7.299022663,
                        "remaining_time": 2.242183432,
                        "test": [
                          0.5906811728
                        ]
                      },
                      {
                        "learn": [
                          0.527691929
                        ],
                        "iteration": 153,
                        "passed_time": 7.344519394,
                        "remaining_time": 2.193817481,
                        "test": [
                          0.5905533144
                        ]
                      },
                      {
                        "learn": [
                          0.5270430563
                        ],
                        "iteration": 154,
                        "passed_time": 7.390109962,
                        "remaining_time": 2.145515795,
                        "test": [
                          0.590279674
                        ]
                      },
                      {
                        "learn": [
                          0.5266150355
                        ],
                        "iteration": 155,
                        "passed_time": 7.435705531,
                        "remaining_time": 2.097250278,
                        "test": [
                          0.5901061712
                        ]
                      },
                      {
                        "learn": [
                          0.5261625101
                        ],
                        "iteration": 156,
                        "passed_time": 7.481196328,
                        "remaining_time": 2.048990077,
                        "test": [
                          0.5899485153
                        ]
                      },
                      {
                        "learn": [
                          0.5255217849
                        ],
                        "iteration": 157,
                        "passed_time": 7.528629876,
                        "remaining_time": 2.001281359,
                        "test": [
                          0.5896579896
                        ]
                      },
                      {
                        "learn": [
                          0.5252327682
                        ],
                        "iteration": 158,
                        "passed_time": 7.574463554,
                        "remaining_time": 1.953163558,
                        "test": [
                          0.5896396597
                        ]
                      },
                      {
                        "learn": [
                          0.524789261
                        ],
                        "iteration": 159,
                        "passed_time": 7.61983538,
                        "remaining_time": 1.904958845,
                        "test": [
                          0.5895338334
                        ]
                      },
                      {
                        "learn": [
                          0.5243812667
                        ],
                        "iteration": 160,
                        "passed_time": 7.66494509,
                        "remaining_time": 1.856725829,
                        "test": [
                          0.5893464702
                        ]
                      },
                      {
                        "learn": [
                          0.524031735
                        ],
                        "iteration": 161,
                        "passed_time": 7.7103425,
                        "remaining_time": 1.808598858,
                        "test": [
                          0.5893064242
                        ]
                      },
                      {
                        "learn": [
                          0.5234815646
                        ],
                        "iteration": 162,
                        "passed_time": 7.756009207,
                        "remaining_time": 1.760566507,
                        "test": [
                          0.5891482717
                        ]
                      },
                      {
                        "learn": [
                          0.522999497
                        ],
                        "iteration": 163,
                        "passed_time": 7.815428659,
                        "remaining_time": 1.715581901,
                        "test": [
                          0.5888980629
                        ]
                      },
                      {
                        "learn": [
                          0.5225109611
                        ],
                        "iteration": 164,
                        "passed_time": 7.860801531,
                        "remaining_time": 1.667442749,
                        "test": [
                          0.5889295309
                        ]
                      },
                      {
                        "learn": [
                          0.5218419375
                        ],
                        "iteration": 165,
                        "passed_time": 7.906377722,
                        "remaining_time": 1.61937857,
                        "test": [
                          0.5887807691
                        ]
                      },
                      {
                        "learn": [
                          0.5215432807
                        ],
                        "iteration": 166,
                        "passed_time": 7.951600278,
                        "remaining_time": 1.571274306,
                        "test": [
                          0.5886216233
                        ]
                      },
                      {
                        "learn": [
                          0.520985305
                        ],
                        "iteration": 167,
                        "passed_time": 8.008571643,
                        "remaining_time": 1.525442218,
                        "test": [
                          0.5884755252
                        ]
                      },
                      {
                        "learn": [
                          0.5204648013
                        ],
                        "iteration": 168,
                        "passed_time": 8.054433096,
                        "remaining_time": 1.47744039,
                        "test": [
                          0.5882649562
                        ]
                      },
                      {
                        "learn": [
                          0.5199485579
                        ],
                        "iteration": 169,
                        "passed_time": 8.099761208,
                        "remaining_time": 1.429369625,
                        "test": [
                          0.5880697374
                        ]
                      },
                      {
                        "learn": [
                          0.5194933892
                        ],
                        "iteration": 170,
                        "passed_time": 8.145012464,
                        "remaining_time": 1.381317903,
                        "test": [
                          0.587970322
                        ]
                      },
                      {
                        "learn": [
                          0.5192203876
                        ],
                        "iteration": 171,
                        "passed_time": 8.190050686,
                        "remaining_time": 1.333264065,
                        "test": [
                          0.5878579945
                        ]
                      },
                      {
                        "learn": [
                          0.5188336948
                        ],
                        "iteration": 172,
                        "passed_time": 8.235487451,
                        "remaining_time": 1.28530729,
                        "test": [
                          0.5877543353
                        ]
                      },
                      {
                        "learn": [
                          0.518440596
                        ],
                        "iteration": 173,
                        "passed_time": 8.282546991,
                        "remaining_time": 1.237621964,
                        "test": [
                          0.5875742409
                        ]
                      },
                      {
                        "learn": [
                          0.5179559162
                        ],
                        "iteration": 174,
                        "passed_time": 8.328287186,
                        "remaining_time": 1.189755312,
                        "test": [
                          0.5875453915
                        ]
                      },
                      {
                        "learn": [
                          0.517340473
                        ],
                        "iteration": 175,
                        "passed_time": 8.373812581,
                        "remaining_time": 1.141883534,
                        "test": [
                          0.5873574415
                        ]
                      },
                      {
                        "learn": [
                          0.5169482449
                        ],
                        "iteration": 176,
                        "passed_time": 8.419218572,
                        "remaining_time": 1.094022752,
                        "test": [
                          0.5871633062
                        ]
                      },
                      {
                        "learn": [
                          0.5163550361
                        ],
                        "iteration": 177,
                        "passed_time": 8.464687835,
                        "remaining_time": 1.046197373,
                        "test": [
                          0.5869987879
                        ]
                      },
                      {
                        "learn": [
                          0.515766523
                        ],
                        "iteration": 178,
                        "passed_time": 8.510154159,
                        "remaining_time": 0.9983979739,
                        "test": [
                          0.5866544912
                        ]
                      },
                      {
                        "learn": [
                          0.5150498586
                        ],
                        "iteration": 179,
                        "passed_time": 8.555697752,
                        "remaining_time": 0.9506330836,
                        "test": [
                          0.5864753901
                        ]
                      },
                      {
                        "learn": [
                          0.5146599007
                        ],
                        "iteration": 180,
                        "passed_time": 8.601864909,
                        "remaining_time": 0.9029581949,
                        "test": [
                          0.5863242807
                        ]
                      },
                      {
                        "learn": [
                          0.5142167977
                        ],
                        "iteration": 181,
                        "passed_time": 8.64717213,
                        "remaining_time": 0.855214826,
                        "test": [
                          0.5862193122
                        ]
                      },
                      {
                        "learn": [
                          0.5136411277
                        ],
                        "iteration": 182,
                        "passed_time": 8.69246382,
                        "remaining_time": 0.807496639,
                        "test": [
                          0.5862190864
                        ]
                      },
                      {
                        "learn": [
                          0.5130341429
                        ],
                        "iteration": 183,
                        "passed_time": 8.738076944,
                        "remaining_time": 0.7598327778,
                        "test": [
                          0.5860194883
                        ]
                      },
                      {
                        "learn": [
                          0.5126333942
                        ],
                        "iteration": 184,
                        "passed_time": 8.783681414,
                        "remaining_time": 0.7121903849,
                        "test": [
                          0.5857169082
                        ]
                      },
                      {
                        "learn": [
                          0.5121954534
                        ],
                        "iteration": 185,
                        "passed_time": 8.833140133,
                        "remaining_time": 0.66486001,
                        "test": [
                          0.5857655323
                        ]
                      },
                      {
                        "learn": [
                          0.5118478186
                        ],
                        "iteration": 186,
                        "passed_time": 8.878850706,
                        "remaining_time": 0.6172463057,
                        "test": [
                          0.5857684217
                        ]
                      },
                      {
                        "learn": [
                          0.5111221361
                        ],
                        "iteration": 187,
                        "passed_time": 8.925110172,
                        "remaining_time": 0.5696878833,
                        "test": [
                          0.5857106778
                        ]
                      },
                      {
                        "learn": [
                          0.510827864
                        ],
                        "iteration": 188,
                        "passed_time": 8.971135123,
                        "remaining_time": 0.5221295574,
                        "test": [
                          0.5856917609
                        ]
                      },
                      {
                        "learn": [
                          0.510546124
                        ],
                        "iteration": 189,
                        "passed_time": 9.024775959,
                        "remaining_time": 0.4749882084,
                        "test": [
                          0.5856614216
                        ]
                      },
                      {
                        "learn": [
                          0.5102701059
                        ],
                        "iteration": 190,
                        "passed_time": 9.071100735,
                        "remaining_time": 0.427434066,
                        "test": [
                          0.5856087793
                        ]
                      },
                      {
                        "learn": [
                          0.5098312322
                        ],
                        "iteration": 191,
                        "passed_time": 9.116312473,
                        "remaining_time": 0.3798463531,
                        "test": [
                          0.5854419584
                        ]
                      },
                      {
                        "learn": [
                          0.5095134195
                        ],
                        "iteration": 192,
                        "passed_time": 9.16148962,
                        "remaining_time": 0.332282007,
                        "test": [
                          0.5853726567
                        ]
                      },
                      {
                        "learn": [
                          0.5092059311
                        ],
                        "iteration": 193,
                        "passed_time": 9.206826597,
                        "remaining_time": 0.2847472143,
                        "test": [
                          0.5853514824
                        ]
                      },
                      {
                        "learn": [
                          0.5088623079
                        ],
                        "iteration": 194,
                        "passed_time": 9.252375847,
                        "remaining_time": 0.2372404063,
                        "test": [
                          0.5851068268
                        ]
                      },
                      {
                        "learn": [
                          0.5082425111
                        ],
                        "iteration": 195,
                        "passed_time": 9.297510149,
                        "remaining_time": 0.1897451051,
                        "test": [
                          0.5850172085
                        ]
                      },
                      {
                        "learn": [
                          0.5078900873
                        ],
                        "iteration": 196,
                        "passed_time": 9.342367508,
                        "remaining_time": 0.142269556,
                        "test": [
                          0.5849121497
                        ]
                      },
                      {
                        "learn": [
                          0.5074722041
                        ],
                        "iteration": 197,
                        "passed_time": 9.38820633,
                        "remaining_time": 0.09483036697,
                        "test": [
                          0.5847785124
                        ]
                      },
                      {
                        "learn": [
                          0.5070803493
                        ],
                        "iteration": 198,
                        "passed_time": 9.433774803,
                        "remaining_time": 0.04740590353,
                        "test": [
                          0.5847818082
                        ]
                      },
                      {
                        "learn": [
                          0.5067621013
                        ],
                        "iteration": 199,
                        "passed_time": 9.478938119,
                        "remaining_time": 0,
                        "test": [
                          0.5846628891
                        ]
                      }
                    ],
                    "meta": {
                      "test_sets": [
                        "test"
                      ],
                      "test_metrics": [
                        {
                          "best_value": "Min",
                          "name": "PairLogit"
                        }
                      ],
                      "learn_metrics": [
                        {
                          "best_value": "Min",
                          "name": "PairLogit"
                        }
                      ],
                      "launch_mode": "Train",
                      "parameters": "",
                      "iteration_count": 200,
                      "learn_sets": [
                        "learn"
                      ],
                      "name": "experiment"
                    }
                  }
                }
              }
            },
            "layout": "IPY_MODEL_fa2d0ecb37634a12b65d772bfde4d821"
          }
        },
        "180ab7bf8ef2436a89b824c1f6898f06": {
          "model_module": "@jupyter-widgets/controls",
          "model_name": "HBoxModel",
          "model_module_version": "1.5.0",
          "state": {
            "_dom_classes": [],
            "_model_module": "@jupyter-widgets/controls",
            "_model_module_version": "1.5.0",
            "_model_name": "HBoxModel",
            "_view_count": null,
            "_view_module": "@jupyter-widgets/controls",
            "_view_module_version": "1.5.0",
            "_view_name": "HBoxView",
            "box_style": "",
            "children": [
              "IPY_MODEL_f6375f334bf24d05a5b7ab829ed56552",
              "IPY_MODEL_2d4c4831fc114704806c3acda4de392e",
              "IPY_MODEL_559ba65b38664d898c897017f125ef17"
            ],
            "layout": "IPY_MODEL_40eb32966c2a403cada7c87734001719"
          }
        },
        "f6375f334bf24d05a5b7ab829ed56552": {
          "model_module": "@jupyter-widgets/controls",
          "model_name": "HTMLModel",
          "model_module_version": "1.5.0",
          "state": {
            "_dom_classes": [],
            "_model_module": "@jupyter-widgets/controls",
            "_model_module_version": "1.5.0",
            "_model_name": "HTMLModel",
            "_view_count": null,
            "_view_module": "@jupyter-widgets/controls",
            "_view_module_version": "1.5.0",
            "_view_name": "HTMLView",
            "description": "",
            "description_tooltip": null,
            "layout": "IPY_MODEL_9db3359a2a40496487b6b292cd16f2ac",
            "placeholder": "​",
            "style": "IPY_MODEL_fd569233925444b090ec72ba98815a05",
            "value": "100%"
          }
        },
        "2d4c4831fc114704806c3acda4de392e": {
          "model_module": "@jupyter-widgets/controls",
          "model_name": "FloatProgressModel",
          "model_module_version": "1.5.0",
          "state": {
            "_dom_classes": [],
            "_model_module": "@jupyter-widgets/controls",
            "_model_module_version": "1.5.0",
            "_model_name": "FloatProgressModel",
            "_view_count": null,
            "_view_module": "@jupyter-widgets/controls",
            "_view_module_version": "1.5.0",
            "_view_name": "ProgressView",
            "bar_style": "success",
            "description": "",
            "description_tooltip": null,
            "layout": "IPY_MODEL_41d7e4486a8b4124abe8b8d37d0bca2a",
            "max": 15,
            "min": 0,
            "orientation": "horizontal",
            "style": "IPY_MODEL_54e9d8a7121e4b7bb6c214d797e01637",
            "value": 15
          }
        },
        "559ba65b38664d898c897017f125ef17": {
          "model_module": "@jupyter-widgets/controls",
          "model_name": "HTMLModel",
          "model_module_version": "1.5.0",
          "state": {
            "_dom_classes": [],
            "_model_module": "@jupyter-widgets/controls",
            "_model_module_version": "1.5.0",
            "_model_name": "HTMLModel",
            "_view_count": null,
            "_view_module": "@jupyter-widgets/controls",
            "_view_module_version": "1.5.0",
            "_view_name": "HTMLView",
            "description": "",
            "description_tooltip": null,
            "layout": "IPY_MODEL_65ec66ff879d4a08b9367107798709d8",
            "placeholder": "​",
            "style": "IPY_MODEL_3fdb877fd19e44bd9d54c1404ac226ad",
            "value": " 15/15 [00:00&lt;00:00, 40.54it/s]"
          }
        },
        "40eb32966c2a403cada7c87734001719": {
          "model_module": "@jupyter-widgets/base",
          "model_name": "LayoutModel",
          "model_module_version": "1.2.0",
          "state": {
            "_model_module": "@jupyter-widgets/base",
            "_model_module_version": "1.2.0",
            "_model_name": "LayoutModel",
            "_view_count": null,
            "_view_module": "@jupyter-widgets/base",
            "_view_module_version": "1.2.0",
            "_view_name": "LayoutView",
            "align_content": null,
            "align_items": null,
            "align_self": null,
            "border": null,
            "bottom": null,
            "display": null,
            "flex": null,
            "flex_flow": null,
            "grid_area": null,
            "grid_auto_columns": null,
            "grid_auto_flow": null,
            "grid_auto_rows": null,
            "grid_column": null,
            "grid_gap": null,
            "grid_row": null,
            "grid_template_areas": null,
            "grid_template_columns": null,
            "grid_template_rows": null,
            "height": null,
            "justify_content": null,
            "justify_items": null,
            "left": null,
            "margin": null,
            "max_height": null,
            "max_width": null,
            "min_height": null,
            "min_width": null,
            "object_fit": null,
            "object_position": null,
            "order": null,
            "overflow": null,
            "overflow_x": null,
            "overflow_y": null,
            "padding": null,
            "right": null,
            "top": null,
            "visibility": null,
            "width": null
          }
        },
        "9db3359a2a40496487b6b292cd16f2ac": {
          "model_module": "@jupyter-widgets/base",
          "model_name": "LayoutModel",
          "model_module_version": "1.2.0",
          "state": {
            "_model_module": "@jupyter-widgets/base",
            "_model_module_version": "1.2.0",
            "_model_name": "LayoutModel",
            "_view_count": null,
            "_view_module": "@jupyter-widgets/base",
            "_view_module_version": "1.2.0",
            "_view_name": "LayoutView",
            "align_content": null,
            "align_items": null,
            "align_self": null,
            "border": null,
            "bottom": null,
            "display": null,
            "flex": null,
            "flex_flow": null,
            "grid_area": null,
            "grid_auto_columns": null,
            "grid_auto_flow": null,
            "grid_auto_rows": null,
            "grid_column": null,
            "grid_gap": null,
            "grid_row": null,
            "grid_template_areas": null,
            "grid_template_columns": null,
            "grid_template_rows": null,
            "height": null,
            "justify_content": null,
            "justify_items": null,
            "left": null,
            "margin": null,
            "max_height": null,
            "max_width": null,
            "min_height": null,
            "min_width": null,
            "object_fit": null,
            "object_position": null,
            "order": null,
            "overflow": null,
            "overflow_x": null,
            "overflow_y": null,
            "padding": null,
            "right": null,
            "top": null,
            "visibility": null,
            "width": null
          }
        },
        "fd569233925444b090ec72ba98815a05": {
          "model_module": "@jupyter-widgets/controls",
          "model_name": "DescriptionStyleModel",
          "model_module_version": "1.5.0",
          "state": {
            "_model_module": "@jupyter-widgets/controls",
            "_model_module_version": "1.5.0",
            "_model_name": "DescriptionStyleModel",
            "_view_count": null,
            "_view_module": "@jupyter-widgets/base",
            "_view_module_version": "1.2.0",
            "_view_name": "StyleView",
            "description_width": ""
          }
        },
        "41d7e4486a8b4124abe8b8d37d0bca2a": {
          "model_module": "@jupyter-widgets/base",
          "model_name": "LayoutModel",
          "model_module_version": "1.2.0",
          "state": {
            "_model_module": "@jupyter-widgets/base",
            "_model_module_version": "1.2.0",
            "_model_name": "LayoutModel",
            "_view_count": null,
            "_view_module": "@jupyter-widgets/base",
            "_view_module_version": "1.2.0",
            "_view_name": "LayoutView",
            "align_content": null,
            "align_items": null,
            "align_self": null,
            "border": null,
            "bottom": null,
            "display": null,
            "flex": null,
            "flex_flow": null,
            "grid_area": null,
            "grid_auto_columns": null,
            "grid_auto_flow": null,
            "grid_auto_rows": null,
            "grid_column": null,
            "grid_gap": null,
            "grid_row": null,
            "grid_template_areas": null,
            "grid_template_columns": null,
            "grid_template_rows": null,
            "height": null,
            "justify_content": null,
            "justify_items": null,
            "left": null,
            "margin": null,
            "max_height": null,
            "max_width": null,
            "min_height": null,
            "min_width": null,
            "object_fit": null,
            "object_position": null,
            "order": null,
            "overflow": null,
            "overflow_x": null,
            "overflow_y": null,
            "padding": null,
            "right": null,
            "top": null,
            "visibility": null,
            "width": null
          }
        },
        "54e9d8a7121e4b7bb6c214d797e01637": {
          "model_module": "@jupyter-widgets/controls",
          "model_name": "ProgressStyleModel",
          "model_module_version": "1.5.0",
          "state": {
            "_model_module": "@jupyter-widgets/controls",
            "_model_module_version": "1.5.0",
            "_model_name": "ProgressStyleModel",
            "_view_count": null,
            "_view_module": "@jupyter-widgets/base",
            "_view_module_version": "1.2.0",
            "_view_name": "StyleView",
            "bar_color": null,
            "description_width": ""
          }
        },
        "65ec66ff879d4a08b9367107798709d8": {
          "model_module": "@jupyter-widgets/base",
          "model_name": "LayoutModel",
          "model_module_version": "1.2.0",
          "state": {
            "_model_module": "@jupyter-widgets/base",
            "_model_module_version": "1.2.0",
            "_model_name": "LayoutModel",
            "_view_count": null,
            "_view_module": "@jupyter-widgets/base",
            "_view_module_version": "1.2.0",
            "_view_name": "LayoutView",
            "align_content": null,
            "align_items": null,
            "align_self": null,
            "border": null,
            "bottom": null,
            "display": null,
            "flex": null,
            "flex_flow": null,
            "grid_area": null,
            "grid_auto_columns": null,
            "grid_auto_flow": null,
            "grid_auto_rows": null,
            "grid_column": null,
            "grid_gap": null,
            "grid_row": null,
            "grid_template_areas": null,
            "grid_template_columns": null,
            "grid_template_rows": null,
            "height": null,
            "justify_content": null,
            "justify_items": null,
            "left": null,
            "margin": null,
            "max_height": null,
            "max_width": null,
            "min_height": null,
            "min_width": null,
            "object_fit": null,
            "object_position": null,
            "order": null,
            "overflow": null,
            "overflow_x": null,
            "overflow_y": null,
            "padding": null,
            "right": null,
            "top": null,
            "visibility": null,
            "width": null
          }
        },
        "3fdb877fd19e44bd9d54c1404ac226ad": {
          "model_module": "@jupyter-widgets/controls",
          "model_name": "DescriptionStyleModel",
          "model_module_version": "1.5.0",
          "state": {
            "_model_module": "@jupyter-widgets/controls",
            "_model_module_version": "1.5.0",
            "_model_name": "DescriptionStyleModel",
            "_view_count": null,
            "_view_module": "@jupyter-widgets/base",
            "_view_module_version": "1.2.0",
            "_view_name": "StyleView",
            "description_width": ""
          }
        },
        "656d7075f0e447dd9aa0a6b2c0f7f449": {
          "model_module": "@jupyter-widgets/controls",
          "model_name": "HBoxModel",
          "model_module_version": "1.5.0",
          "state": {
            "_dom_classes": [],
            "_model_module": "@jupyter-widgets/controls",
            "_model_module_version": "1.5.0",
            "_model_name": "HBoxModel",
            "_view_count": null,
            "_view_module": "@jupyter-widgets/controls",
            "_view_module_version": "1.5.0",
            "_view_name": "HBoxView",
            "box_style": "",
            "children": [
              "IPY_MODEL_5c3d25b44f6143b4a017a42a328e2767",
              "IPY_MODEL_7339eaa729ab4141aa602ef3410c852c",
              "IPY_MODEL_4435d9fbf735493c8d7c4b579dbeda5c"
            ],
            "layout": "IPY_MODEL_eee3f390767f4e91b930bd8df1d286d8"
          }
        },
        "5c3d25b44f6143b4a017a42a328e2767": {
          "model_module": "@jupyter-widgets/controls",
          "model_name": "HTMLModel",
          "model_module_version": "1.5.0",
          "state": {
            "_dom_classes": [],
            "_model_module": "@jupyter-widgets/controls",
            "_model_module_version": "1.5.0",
            "_model_name": "HTMLModel",
            "_view_count": null,
            "_view_module": "@jupyter-widgets/controls",
            "_view_module_version": "1.5.0",
            "_view_name": "HTMLView",
            "description": "",
            "description_tooltip": null,
            "layout": "IPY_MODEL_c7fb5fd627244d14b8bc015b9dcfd7ae",
            "placeholder": "​",
            "style": "IPY_MODEL_307312a3e6d94fd6924cc784acd20b5a",
            "value": "100%"
          }
        },
        "7339eaa729ab4141aa602ef3410c852c": {
          "model_module": "@jupyter-widgets/controls",
          "model_name": "FloatProgressModel",
          "model_module_version": "1.5.0",
          "state": {
            "_dom_classes": [],
            "_model_module": "@jupyter-widgets/controls",
            "_model_module_version": "1.5.0",
            "_model_name": "FloatProgressModel",
            "_view_count": null,
            "_view_module": "@jupyter-widgets/controls",
            "_view_module_version": "1.5.0",
            "_view_name": "ProgressView",
            "bar_style": "success",
            "description": "",
            "description_tooltip": null,
            "layout": "IPY_MODEL_e78a98c01f3f41afb2bd083f9f156c41",
            "max": 52244,
            "min": 0,
            "orientation": "horizontal",
            "style": "IPY_MODEL_2a5a55434eb14cd7a61f6f9371b45054",
            "value": 52244
          }
        },
        "4435d9fbf735493c8d7c4b579dbeda5c": {
          "model_module": "@jupyter-widgets/controls",
          "model_name": "HTMLModel",
          "model_module_version": "1.5.0",
          "state": {
            "_dom_classes": [],
            "_model_module": "@jupyter-widgets/controls",
            "_model_module_version": "1.5.0",
            "_model_name": "HTMLModel",
            "_view_count": null,
            "_view_module": "@jupyter-widgets/controls",
            "_view_module_version": "1.5.0",
            "_view_name": "HTMLView",
            "description": "",
            "description_tooltip": null,
            "layout": "IPY_MODEL_b11fa6ab97ed4bbeac52eeaaa36dce45",
            "placeholder": "​",
            "style": "IPY_MODEL_4ec4f2716756479aacfaa44667844de6",
            "value": " 52244/52244 [00:05&lt;00:00, 8405.01it/s]"
          }
        },
        "eee3f390767f4e91b930bd8df1d286d8": {
          "model_module": "@jupyter-widgets/base",
          "model_name": "LayoutModel",
          "model_module_version": "1.2.0",
          "state": {
            "_model_module": "@jupyter-widgets/base",
            "_model_module_version": "1.2.0",
            "_model_name": "LayoutModel",
            "_view_count": null,
            "_view_module": "@jupyter-widgets/base",
            "_view_module_version": "1.2.0",
            "_view_name": "LayoutView",
            "align_content": null,
            "align_items": null,
            "align_self": null,
            "border": null,
            "bottom": null,
            "display": null,
            "flex": null,
            "flex_flow": null,
            "grid_area": null,
            "grid_auto_columns": null,
            "grid_auto_flow": null,
            "grid_auto_rows": null,
            "grid_column": null,
            "grid_gap": null,
            "grid_row": null,
            "grid_template_areas": null,
            "grid_template_columns": null,
            "grid_template_rows": null,
            "height": null,
            "justify_content": null,
            "justify_items": null,
            "left": null,
            "margin": null,
            "max_height": null,
            "max_width": null,
            "min_height": null,
            "min_width": null,
            "object_fit": null,
            "object_position": null,
            "order": null,
            "overflow": null,
            "overflow_x": null,
            "overflow_y": null,
            "padding": null,
            "right": null,
            "top": null,
            "visibility": null,
            "width": null
          }
        },
        "c7fb5fd627244d14b8bc015b9dcfd7ae": {
          "model_module": "@jupyter-widgets/base",
          "model_name": "LayoutModel",
          "model_module_version": "1.2.0",
          "state": {
            "_model_module": "@jupyter-widgets/base",
            "_model_module_version": "1.2.0",
            "_model_name": "LayoutModel",
            "_view_count": null,
            "_view_module": "@jupyter-widgets/base",
            "_view_module_version": "1.2.0",
            "_view_name": "LayoutView",
            "align_content": null,
            "align_items": null,
            "align_self": null,
            "border": null,
            "bottom": null,
            "display": null,
            "flex": null,
            "flex_flow": null,
            "grid_area": null,
            "grid_auto_columns": null,
            "grid_auto_flow": null,
            "grid_auto_rows": null,
            "grid_column": null,
            "grid_gap": null,
            "grid_row": null,
            "grid_template_areas": null,
            "grid_template_columns": null,
            "grid_template_rows": null,
            "height": null,
            "justify_content": null,
            "justify_items": null,
            "left": null,
            "margin": null,
            "max_height": null,
            "max_width": null,
            "min_height": null,
            "min_width": null,
            "object_fit": null,
            "object_position": null,
            "order": null,
            "overflow": null,
            "overflow_x": null,
            "overflow_y": null,
            "padding": null,
            "right": null,
            "top": null,
            "visibility": null,
            "width": null
          }
        },
        "307312a3e6d94fd6924cc784acd20b5a": {
          "model_module": "@jupyter-widgets/controls",
          "model_name": "DescriptionStyleModel",
          "model_module_version": "1.5.0",
          "state": {
            "_model_module": "@jupyter-widgets/controls",
            "_model_module_version": "1.5.0",
            "_model_name": "DescriptionStyleModel",
            "_view_count": null,
            "_view_module": "@jupyter-widgets/base",
            "_view_module_version": "1.2.0",
            "_view_name": "StyleView",
            "description_width": ""
          }
        },
        "e78a98c01f3f41afb2bd083f9f156c41": {
          "model_module": "@jupyter-widgets/base",
          "model_name": "LayoutModel",
          "model_module_version": "1.2.0",
          "state": {
            "_model_module": "@jupyter-widgets/base",
            "_model_module_version": "1.2.0",
            "_model_name": "LayoutModel",
            "_view_count": null,
            "_view_module": "@jupyter-widgets/base",
            "_view_module_version": "1.2.0",
            "_view_name": "LayoutView",
            "align_content": null,
            "align_items": null,
            "align_self": null,
            "border": null,
            "bottom": null,
            "display": null,
            "flex": null,
            "flex_flow": null,
            "grid_area": null,
            "grid_auto_columns": null,
            "grid_auto_flow": null,
            "grid_auto_rows": null,
            "grid_column": null,
            "grid_gap": null,
            "grid_row": null,
            "grid_template_areas": null,
            "grid_template_columns": null,
            "grid_template_rows": null,
            "height": null,
            "justify_content": null,
            "justify_items": null,
            "left": null,
            "margin": null,
            "max_height": null,
            "max_width": null,
            "min_height": null,
            "min_width": null,
            "object_fit": null,
            "object_position": null,
            "order": null,
            "overflow": null,
            "overflow_x": null,
            "overflow_y": null,
            "padding": null,
            "right": null,
            "top": null,
            "visibility": null,
            "width": null
          }
        },
        "2a5a55434eb14cd7a61f6f9371b45054": {
          "model_module": "@jupyter-widgets/controls",
          "model_name": "ProgressStyleModel",
          "model_module_version": "1.5.0",
          "state": {
            "_model_module": "@jupyter-widgets/controls",
            "_model_module_version": "1.5.0",
            "_model_name": "ProgressStyleModel",
            "_view_count": null,
            "_view_module": "@jupyter-widgets/base",
            "_view_module_version": "1.2.0",
            "_view_name": "StyleView",
            "bar_color": null,
            "description_width": ""
          }
        },
        "b11fa6ab97ed4bbeac52eeaaa36dce45": {
          "model_module": "@jupyter-widgets/base",
          "model_name": "LayoutModel",
          "model_module_version": "1.2.0",
          "state": {
            "_model_module": "@jupyter-widgets/base",
            "_model_module_version": "1.2.0",
            "_model_name": "LayoutModel",
            "_view_count": null,
            "_view_module": "@jupyter-widgets/base",
            "_view_module_version": "1.2.0",
            "_view_name": "LayoutView",
            "align_content": null,
            "align_items": null,
            "align_self": null,
            "border": null,
            "bottom": null,
            "display": null,
            "flex": null,
            "flex_flow": null,
            "grid_area": null,
            "grid_auto_columns": null,
            "grid_auto_flow": null,
            "grid_auto_rows": null,
            "grid_column": null,
            "grid_gap": null,
            "grid_row": null,
            "grid_template_areas": null,
            "grid_template_columns": null,
            "grid_template_rows": null,
            "height": null,
            "justify_content": null,
            "justify_items": null,
            "left": null,
            "margin": null,
            "max_height": null,
            "max_width": null,
            "min_height": null,
            "min_width": null,
            "object_fit": null,
            "object_position": null,
            "order": null,
            "overflow": null,
            "overflow_x": null,
            "overflow_y": null,
            "padding": null,
            "right": null,
            "top": null,
            "visibility": null,
            "width": null
          }
        },
        "4ec4f2716756479aacfaa44667844de6": {
          "model_module": "@jupyter-widgets/controls",
          "model_name": "DescriptionStyleModel",
          "model_module_version": "1.5.0",
          "state": {
            "_model_module": "@jupyter-widgets/controls",
            "_model_module_version": "1.5.0",
            "_model_name": "DescriptionStyleModel",
            "_view_count": null,
            "_view_module": "@jupyter-widgets/base",
            "_view_module_version": "1.2.0",
            "_view_name": "StyleView",
            "description_width": ""
          }
        },
        "44b51feff98749aca8b8a9afda516ef4": {
          "model_module": "catboost-widget",
          "model_name": "CatboostWidgetModel",
          "model_module_version": "^1.0.0",
          "state": {
            "_dom_classes": [],
            "_model_module": "catboost-widget",
            "_model_module_version": "^1.0.0",
            "_model_name": "CatboostWidgetModel",
            "_view_count": null,
            "_view_module": "catboost-widget",
            "_view_module_version": "^1.0.0",
            "_view_name": "CatboostWidgetView",
            "data": {
              "catboost_info": {
                "path": "catboost_info",
                "name": "catboost_info",
                "content": {
                  "passed_iterations": 199,
                  "total_iterations": 200,
                  "data": {
                    "iterations": [
                      {
                        "learn": [
                          0.6837523367
                        ],
                        "iteration": 0,
                        "passed_time": 0.1080839936,
                        "remaining_time": 21.50871473,
                        "test": [
                          0.6837524424
                        ]
                      },
                      {
                        "learn": [
                          0.6769733002
                        ],
                        "iteration": 1,
                        "passed_time": 0.2149115678,
                        "remaining_time": 21.27624521,
                        "test": [
                          0.6769732474
                        ]
                      },
                      {
                        "learn": [
                          0.6718758459
                        ],
                        "iteration": 2,
                        "passed_time": 0.3011259216,
                        "remaining_time": 19.77393552,
                        "test": [
                          0.6718756873
                        ]
                      },
                      {
                        "learn": [
                          0.6678499983
                        ],
                        "iteration": 3,
                        "passed_time": 0.3504944257,
                        "remaining_time": 17.17422686,
                        "test": [
                          0.6678499983
                        ]
                      },
                      {
                        "learn": [
                          0.6647248926
                        ],
                        "iteration": 4,
                        "passed_time": 0.3997061497,
                        "remaining_time": 15.58853984,
                        "test": [
                          0.6647249454
                        ]
                      },
                      {
                        "learn": [
                          0.6613809718
                        ],
                        "iteration": 5,
                        "passed_time": 0.4485000547,
                        "remaining_time": 14.50150177,
                        "test": [
                          0.6613810247
                        ]
                      },
                      {
                        "learn": [
                          0.658749059
                        ],
                        "iteration": 6,
                        "passed_time": 0.4959115542,
                        "remaining_time": 13.67298999,
                        "test": [
                          0.658749059
                        ]
                      },
                      {
                        "learn": [
                          0.6563735493
                        ],
                        "iteration": 7,
                        "passed_time": 0.5407374972,
                        "remaining_time": 12.97769993,
                        "test": [
                          0.6563735493
                        ]
                      },
                      {
                        "learn": [
                          0.6542390059
                        ],
                        "iteration": 8,
                        "passed_time": 0.5854821987,
                        "remaining_time": 12.42523333,
                        "test": [
                          0.6542391116
                        ]
                      },
                      {
                        "learn": [
                          0.6520371103
                        ],
                        "iteration": 9,
                        "passed_time": 0.6308070488,
                        "remaining_time": 11.98533393,
                        "test": [
                          0.6520371631
                        ]
                      },
                      {
                        "learn": [
                          0.6496275545
                        ],
                        "iteration": 10,
                        "passed_time": 0.6793177809,
                        "remaining_time": 11.6719146,
                        "test": [
                          0.6496276074
                        ]
                      },
                      {
                        "learn": [
                          0.6478393404
                        ],
                        "iteration": 11,
                        "passed_time": 0.7311028631,
                        "remaining_time": 11.45394485,
                        "test": [
                          0.6478391818
                        ]
                      },
                      {
                        "learn": [
                          0.6461205402
                        ],
                        "iteration": 12,
                        "passed_time": 0.776150134,
                        "remaining_time": 11.16462116,
                        "test": [
                          0.6461205402
                        ]
                      },
                      {
                        "learn": [
                          0.6444371606
                        ],
                        "iteration": 13,
                        "passed_time": 0.8208100238,
                        "remaining_time": 10.90504746,
                        "test": [
                          0.6444373192
                        ]
                      },
                      {
                        "learn": [
                          0.6428436543
                        ],
                        "iteration": 14,
                        "passed_time": 0.865089329,
                        "remaining_time": 10.66943506,
                        "test": [
                          0.6428436543
                        ]
                      },
                      {
                        "learn": [
                          0.6409146035
                        ],
                        "iteration": 15,
                        "passed_time": 0.9110623492,
                        "remaining_time": 10.47721702,
                        "test": [
                          0.6409146035
                        ]
                      },
                      {
                        "learn": [
                          0.6391115338
                        ],
                        "iteration": 16,
                        "passed_time": 0.9554229574,
                        "remaining_time": 10.28484713,
                        "test": [
                          0.6391113752
                        ]
                      },
                      {
                        "learn": [
                          0.6376417883
                        ],
                        "iteration": 17,
                        "passed_time": 1.000056114,
                        "remaining_time": 10.11167849,
                        "test": [
                          0.6376418412
                        ]
                      },
                      {
                        "learn": [
                          0.6357513301
                        ],
                        "iteration": 18,
                        "passed_time": 1.044529953,
                        "remaining_time": 9.950522183,
                        "test": [
                          0.6357513301
                        ]
                      },
                      {
                        "learn": [
                          0.6346478447
                        ],
                        "iteration": 19,
                        "passed_time": 1.088652707,
                        "remaining_time": 9.797874361,
                        "test": [
                          0.6346479505
                        ]
                      },
                      {
                        "learn": [
                          0.6332731006
                        ],
                        "iteration": 20,
                        "passed_time": 1.133129407,
                        "remaining_time": 9.658579234,
                        "test": [
                          0.6332730477
                        ]
                      },
                      {
                        "learn": [
                          0.6317612204
                        ],
                        "iteration": 21,
                        "passed_time": 1.177562478,
                        "remaining_time": 9.527550958,
                        "test": [
                          0.6317612733
                        ]
                      },
                      {
                        "learn": [
                          0.6300477069
                        ],
                        "iteration": 22,
                        "passed_time": 1.222039693,
                        "remaining_time": 9.404392424,
                        "test": [
                          0.6300477597
                        ]
                      },
                      {
                        "learn": [
                          0.6287795419
                        ],
                        "iteration": 23,
                        "passed_time": 1.266632186,
                        "remaining_time": 9.28863603,
                        "test": [
                          0.6287795947
                        ]
                      },
                      {
                        "learn": [
                          0.6273282469
                        ],
                        "iteration": 24,
                        "passed_time": 1.311026853,
                        "remaining_time": 9.177187968,
                        "test": [
                          0.6273282469
                        ]
                      },
                      {
                        "learn": [
                          0.6258137762
                        ],
                        "iteration": 25,
                        "passed_time": 1.357387758,
                        "remaining_time": 9.084056534,
                        "test": [
                          0.6258138819
                        ]
                      },
                      {
                        "learn": [
                          0.6247164762
                        ],
                        "iteration": 26,
                        "passed_time": 1.401742166,
                        "remaining_time": 8.981533135,
                        "test": [
                          0.6247165291
                        ]
                      },
                      {
                        "learn": [
                          0.623197089
                        ],
                        "iteration": 27,
                        "passed_time": 1.446030822,
                        "remaining_time": 8.882760765,
                        "test": [
                          0.623197089
                        ]
                      },
                      {
                        "learn": [
                          0.622009387
                        ],
                        "iteration": 28,
                        "passed_time": 1.490364417,
                        "remaining_time": 8.78801087,
                        "test": [
                          0.6220094399
                        ]
                      },
                      {
                        "learn": [
                          0.620732129
                        ],
                        "iteration": 29,
                        "passed_time": 1.534942193,
                        "remaining_time": 8.698005762,
                        "test": [
                          0.6207320761
                        ]
                      },
                      {
                        "learn": [
                          0.6196917663
                        ],
                        "iteration": 30,
                        "passed_time": 1.579575376,
                        "remaining_time": 8.611233502,
                        "test": [
                          0.6196917663
                        ]
                      },
                      {
                        "learn": [
                          0.6183511741
                        ],
                        "iteration": 31,
                        "passed_time": 1.62444701,
                        "remaining_time": 8.528346803,
                        "test": [
                          0.6183511212
                        ]
                      },
                      {
                        "learn": [
                          0.6168432589
                        ],
                        "iteration": 32,
                        "passed_time": 1.670166399,
                        "remaining_time": 8.452054199,
                        "test": [
                          0.616843206
                        ]
                      },
                      {
                        "learn": [
                          0.6156689322
                        ],
                        "iteration": 33,
                        "passed_time": 1.71482245,
                        "remaining_time": 8.372368431,
                        "test": [
                          0.6156689322
                        ]
                      },
                      {
                        "learn": [
                          0.61419353
                        ],
                        "iteration": 34,
                        "passed_time": 1.765739007,
                        "remaining_time": 8.324198177,
                        "test": [
                          0.61419353
                        ]
                      },
                      {
                        "learn": [
                          0.6132786199
                        ],
                        "iteration": 35,
                        "passed_time": 1.811369146,
                        "remaining_time": 8.251792777,
                        "test": [
                          0.613278567
                        ]
                      },
                      {
                        "learn": [
                          0.6117113883
                        ],
                        "iteration": 36,
                        "passed_time": 1.857213499,
                        "remaining_time": 8.18177839,
                        "test": [
                          0.6117114941
                        ]
                      },
                      {
                        "learn": [
                          0.6107208261
                        ],
                        "iteration": 37,
                        "passed_time": 1.901774452,
                        "remaining_time": 8.107564767,
                        "test": [
                          0.6107208261
                        ]
                      },
                      {
                        "learn": [
                          0.6099584362
                        ],
                        "iteration": 38,
                        "passed_time": 1.946332743,
                        "remaining_time": 8.034860812,
                        "test": [
                          0.6099584362
                        ]
                      },
                      {
                        "learn": [
                          0.6085776125
                        ],
                        "iteration": 39,
                        "passed_time": 1.991178273,
                        "remaining_time": 7.964713094,
                        "test": [
                          0.6085775067
                        ]
                      },
                      {
                        "learn": [
                          0.6075864687
                        ],
                        "iteration": 40,
                        "passed_time": 2.03550921,
                        "remaining_time": 7.893804011,
                        "test": [
                          0.6075865744
                        ]
                      },
                      {
                        "learn": [
                          0.6063796819
                        ],
                        "iteration": 41,
                        "passed_time": 2.079797022,
                        "remaining_time": 7.823998321,
                        "test": [
                          0.606379629
                        ]
                      },
                      {
                        "learn": [
                          0.6053927674
                        ],
                        "iteration": 42,
                        "passed_time": 2.124221467,
                        "remaining_time": 7.755878378,
                        "test": [
                          0.6053927146
                        ]
                      },
                      {
                        "learn": [
                          0.6044877434
                        ],
                        "iteration": 43,
                        "passed_time": 2.168779956,
                        "remaining_time": 7.689310753,
                        "test": [
                          0.6044877963
                        ]
                      },
                      {
                        "learn": [
                          0.6034847046
                        ],
                        "iteration": 44,
                        "passed_time": 2.213099057,
                        "remaining_time": 7.622896754,
                        "test": [
                          0.6034848632
                        ]
                      },
                      {
                        "learn": [
                          0.6024882742
                        ],
                        "iteration": 45,
                        "passed_time": 2.257539897,
                        "remaining_time": 7.55785096,
                        "test": [
                          0.602488327
                        ]
                      },
                      {
                        "learn": [
                          0.6013202915
                        ],
                        "iteration": 46,
                        "passed_time": 2.302132584,
                        "remaining_time": 7.494176285,
                        "test": [
                          0.6013203444
                        ]
                      },
                      {
                        "learn": [
                          0.6003901558
                        ],
                        "iteration": 47,
                        "passed_time": 2.346601227,
                        "remaining_time": 7.430903887,
                        "test": [
                          0.6003900501
                        ]
                      },
                      {
                        "learn": [
                          0.5994457461
                        ],
                        "iteration": 48,
                        "passed_time": 2.391132366,
                        "remaining_time": 7.368591576,
                        "test": [
                          0.5994458519
                        ]
                      },
                      {
                        "learn": [
                          0.5985180952
                        ],
                        "iteration": 49,
                        "passed_time": 2.435425953,
                        "remaining_time": 7.30627786,
                        "test": [
                          0.5985180952
                        ]
                      },
                      {
                        "learn": [
                          0.5974526209
                        ],
                        "iteration": 50,
                        "passed_time": 2.480029627,
                        "remaining_time": 7.245576754,
                        "test": [
                          0.5974527266
                        ]
                      },
                      {
                        "learn": [
                          0.5967034478
                        ],
                        "iteration": 51,
                        "passed_time": 2.524288458,
                        "remaining_time": 7.184513304,
                        "test": [
                          0.596703342
                        ]
                      },
                      {
                        "learn": [
                          0.5956579042
                        ],
                        "iteration": 52,
                        "passed_time": 2.574035173,
                        "remaining_time": 7.139305102,
                        "test": [
                          0.5956577985
                        ]
                      },
                      {
                        "learn": [
                          0.5947854989
                        ],
                        "iteration": 53,
                        "passed_time": 2.61905058,
                        "remaining_time": 7.081136754,
                        "test": [
                          0.5947853932
                        ]
                      },
                      {
                        "learn": [
                          0.59388518
                        ],
                        "iteration": 54,
                        "passed_time": 2.663902644,
                        "remaining_time": 7.023016062,
                        "test": [
                          0.5938852329
                        ]
                      },
                      {
                        "learn": [
                          0.5929242759
                        ],
                        "iteration": 55,
                        "passed_time": 2.708443365,
                        "remaining_time": 6.964568653,
                        "test": [
                          0.5929242759
                        ]
                      },
                      {
                        "learn": [
                          0.5917046425
                        ],
                        "iteration": 56,
                        "passed_time": 2.757804212,
                        "remaining_time": 6.918701794,
                        "test": [
                          0.5917046954
                        ]
                      },
                      {
                        "learn": [
                          0.5906643328
                        ],
                        "iteration": 57,
                        "passed_time": 2.802391356,
                        "remaining_time": 6.861027113,
                        "test": [
                          0.5906643328
                        ]
                      },
                      {
                        "learn": [
                          0.5895895011
                        ],
                        "iteration": 58,
                        "passed_time": 2.846773352,
                        "remaining_time": 6.803305808,
                        "test": [
                          0.5895895011
                        ]
                      },
                      {
                        "learn": [
                          0.5886992797
                        ],
                        "iteration": 59,
                        "passed_time": 2.896418077,
                        "remaining_time": 6.758308846,
                        "test": [
                          0.5886992797
                        ]
                      },
                      {
                        "learn": [
                          0.5876614547
                        ],
                        "iteration": 60,
                        "passed_time": 2.943127397,
                        "remaining_time": 6.706470626,
                        "test": [
                          0.5876614019
                        ]
                      },
                      {
                        "learn": [
                          0.5868045393
                        ],
                        "iteration": 61,
                        "passed_time": 2.987745988,
                        "remaining_time": 6.650144296,
                        "test": [
                          0.5868043807
                        ]
                      },
                      {
                        "learn": [
                          0.5853804178
                        ],
                        "iteration": 62,
                        "passed_time": 3.032686643,
                        "remaining_time": 6.594890001,
                        "test": [
                          0.5853804178
                        ]
                      },
                      {
                        "learn": [
                          0.5845444905
                        ],
                        "iteration": 63,
                        "passed_time": 3.078045059,
                        "remaining_time": 6.54084575,
                        "test": [
                          0.5845444905
                        ]
                      },
                      {
                        "learn": [
                          0.5836837687
                        ],
                        "iteration": 64,
                        "passed_time": 3.123485385,
                        "remaining_time": 6.487238876,
                        "test": [
                          0.5836836629
                        ]
                      },
                      {
                        "learn": [
                          0.5827691229
                        ],
                        "iteration": 65,
                        "passed_time": 3.174849761,
                        "remaining_time": 6.445907091,
                        "test": [
                          0.5827691229
                        ]
                      },
                      {
                        "learn": [
                          0.582119762
                        ],
                        "iteration": 66,
                        "passed_time": 3.220790442,
                        "remaining_time": 6.393509385,
                        "test": [
                          0.5821197091
                        ]
                      },
                      {
                        "learn": [
                          0.5811262921
                        ],
                        "iteration": 67,
                        "passed_time": 3.265355814,
                        "remaining_time": 6.338631875,
                        "test": [
                          0.5811263449
                        ]
                      },
                      {
                        "learn": [
                          0.5799549259
                        ],
                        "iteration": 68,
                        "passed_time": 3.310041956,
                        "remaining_time": 6.284282554,
                        "test": [
                          0.5799549788
                        ]
                      },
                      {
                        "learn": [
                          0.5792550773
                        ],
                        "iteration": 69,
                        "passed_time": 3.356468284,
                        "remaining_time": 6.233441098,
                        "test": [
                          0.5792550773
                        ]
                      },
                      {
                        "learn": [
                          0.578255422
                        ],
                        "iteration": 70,
                        "passed_time": 3.401857038,
                        "remaining_time": 6.180838843,
                        "test": [
                          0.578255422
                        ]
                      },
                      {
                        "learn": [
                          0.5775487007
                        ],
                        "iteration": 71,
                        "passed_time": 3.447270428,
                        "remaining_time": 6.12848076,
                        "test": [
                          0.5775487007
                        ]
                      },
                      {
                        "learn": [
                          0.5765240924
                        ],
                        "iteration": 72,
                        "passed_time": 3.492001169,
                        "remaining_time": 6.075125322,
                        "test": [
                          0.5765240395
                        ]
                      },
                      {
                        "learn": [
                          0.5755416187
                        ],
                        "iteration": 73,
                        "passed_time": 3.537199056,
                        "remaining_time": 6.022798392,
                        "test": [
                          0.5755416187
                        ]
                      },
                      {
                        "learn": [
                          0.5744915815
                        ],
                        "iteration": 74,
                        "passed_time": 3.582752527,
                        "remaining_time": 5.971254212,
                        "test": [
                          0.5744916344
                        ]
                      },
                      {
                        "learn": [
                          0.5738177962
                        ],
                        "iteration": 75,
                        "passed_time": 3.630747775,
                        "remaining_time": 5.923851632,
                        "test": [
                          0.573817849
                        ]
                      },
                      {
                        "learn": [
                          0.5727271045
                        ],
                        "iteration": 76,
                        "passed_time": 3.675731388,
                        "remaining_time": 5.871622867,
                        "test": [
                          0.5727271045
                        ]
                      },
                      {
                        "learn": [
                          0.5718198601
                        ],
                        "iteration": 77,
                        "passed_time": 3.720534467,
                        "remaining_time": 5.8192975,
                        "test": [
                          0.5718198072
                        ]
                      },
                      {
                        "learn": [
                          0.5709323349
                        ],
                        "iteration": 78,
                        "passed_time": 3.771318332,
                        "remaining_time": 5.776323015,
                        "test": [
                          0.5709323878
                        ]
                      },
                      {
                        "learn": [
                          0.5701540322
                        ],
                        "iteration": 79,
                        "passed_time": 3.815912367,
                        "remaining_time": 5.723868551,
                        "test": [
                          0.5701540322
                        ]
                      },
                      {
                        "learn": [
                          0.5694890756
                        ],
                        "iteration": 80,
                        "passed_time": 3.860505077,
                        "remaining_time": 5.671606224,
                        "test": [
                          0.5694890756
                        ]
                      },
                      {
                        "learn": [
                          0.5686059384
                        ],
                        "iteration": 81,
                        "passed_time": 3.914962488,
                        "remaining_time": 5.633726507,
                        "test": [
                          0.5686059913
                        ]
                      },
                      {
                        "learn": [
                          0.5678335039
                        ],
                        "iteration": 82,
                        "passed_time": 3.960323962,
                        "remaining_time": 5.582625344,
                        "test": [
                          0.5678333453
                        ]
                      },
                      {
                        "learn": [
                          0.5670768237
                        ],
                        "iteration": 83,
                        "passed_time": 4.005360628,
                        "remaining_time": 5.531212296,
                        "test": [
                          0.5670769294
                        ]
                      },
                      {
                        "learn": [
                          0.5662285784
                        ],
                        "iteration": 84,
                        "passed_time": 4.050184125,
                        "remaining_time": 5.479660875,
                        "test": [
                          0.5662286313
                        ]
                      },
                      {
                        "learn": [
                          0.5651711928
                        ],
                        "iteration": 85,
                        "passed_time": 4.09468716,
                        "remaining_time": 5.427841119,
                        "test": [
                          0.5651711928
                        ]
                      },
                      {
                        "learn": [
                          0.5644349719
                        ],
                        "iteration": 86,
                        "passed_time": 4.139415966,
                        "remaining_time": 5.376482806,
                        "test": [
                          0.5644349719
                        ]
                      },
                      {
                        "learn": [
                          0.563795497
                        ],
                        "iteration": 87,
                        "passed_time": 4.183896995,
                        "remaining_time": 5.324959812,
                        "test": [
                          0.5637954442
                        ]
                      },
                      {
                        "learn": [
                          0.5631494138
                        ],
                        "iteration": 88,
                        "passed_time": 4.228348355,
                        "remaining_time": 5.273558061,
                        "test": [
                          0.5631494138
                        ]
                      },
                      {
                        "learn": [
                          0.562306138
                        ],
                        "iteration": 89,
                        "passed_time": 4.272754716,
                        "remaining_time": 5.222255764,
                        "test": [
                          0.5623061909
                        ]
                      },
                      {
                        "learn": [
                          0.56176859
                        ],
                        "iteration": 90,
                        "passed_time": 4.31738154,
                        "remaining_time": 5.171369097,
                        "test": [
                          0.5617686429
                        ]
                      },
                      {
                        "learn": [
                          0.5611455038
                        ],
                        "iteration": 91,
                        "passed_time": 4.36220059,
                        "remaining_time": 5.120844171,
                        "test": [
                          0.5611455567
                        ]
                      },
                      {
                        "learn": [
                          0.5602282147
                        ],
                        "iteration": 92,
                        "passed_time": 4.408858749,
                        "remaining_time": 5.072557915,
                        "test": [
                          0.5602282147
                        ]
                      },
                      {
                        "learn": [
                          0.5596078247
                        ],
                        "iteration": 93,
                        "passed_time": 4.453940981,
                        "remaining_time": 5.022529191,
                        "test": [
                          0.5596078247
                        ]
                      },
                      {
                        "learn": [
                          0.5589719976
                        ],
                        "iteration": 94,
                        "passed_time": 4.498613028,
                        "remaining_time": 4.972151241,
                        "test": [
                          0.5589719976
                        ]
                      },
                      {
                        "learn": [
                          0.5582407462
                        ],
                        "iteration": 95,
                        "passed_time": 4.542962891,
                        "remaining_time": 4.921543132,
                        "test": [
                          0.5582406934
                        ]
                      },
                      {
                        "learn": [
                          0.5572417253
                        ],
                        "iteration": 96,
                        "passed_time": 4.587512165,
                        "remaining_time": 4.871275804,
                        "test": [
                          0.5572416196
                        ]
                      },
                      {
                        "learn": [
                          0.5565824254
                        ],
                        "iteration": 97,
                        "passed_time": 4.63260069,
                        "remaining_time": 4.821686433,
                        "test": [
                          0.5565823726
                        ]
                      },
                      {
                        "learn": [
                          0.555748137
                        ],
                        "iteration": 98,
                        "passed_time": 4.677196462,
                        "remaining_time": 4.771685279,
                        "test": [
                          0.5557482427
                        ]
                      },
                      {
                        "learn": [
                          0.5552524594
                        ],
                        "iteration": 99,
                        "passed_time": 4.721814279,
                        "remaining_time": 4.721814279,
                        "test": [
                          0.5552524594
                        ]
                      },
                      {
                        "learn": [
                          0.5544508425
                        ],
                        "iteration": 100,
                        "passed_time": 4.772023406,
                        "remaining_time": 4.677527893,
                        "test": [
                          0.5544508953
                        ]
                      },
                      {
                        "learn": [
                          0.5535518453
                        ],
                        "iteration": 101,
                        "passed_time": 4.817841884,
                        "remaining_time": 4.628906908,
                        "test": [
                          0.5535518453
                        ]
                      },
                      {
                        "learn": [
                          0.5527267556
                        ],
                        "iteration": 102,
                        "passed_time": 4.862886955,
                        "remaining_time": 4.579611987,
                        "test": [
                          0.5527267027
                        ]
                      },
                      {
                        "learn": [
                          0.5521369225
                        ],
                        "iteration": 103,
                        "passed_time": 4.918933069,
                        "remaining_time": 4.540553602,
                        "test": [
                          0.5521369225
                        ]
                      },
                      {
                        "learn": [
                          0.5516531927
                        ],
                        "iteration": 104,
                        "passed_time": 4.964484081,
                        "remaining_time": 4.491676073,
                        "test": [
                          0.5516531927
                        ]
                      },
                      {
                        "learn": [
                          0.5508637352
                        ],
                        "iteration": 105,
                        "passed_time": 5.009394487,
                        "remaining_time": 4.442293224,
                        "test": [
                          0.5508637352
                        ]
                      },
                      {
                        "learn": [
                          0.5502482617
                        ],
                        "iteration": 106,
                        "passed_time": 5.05466334,
                        "remaining_time": 4.39330552,
                        "test": [
                          0.5502482617
                        ]
                      },
                      {
                        "learn": [
                          0.5495593037
                        ],
                        "iteration": 107,
                        "passed_time": 5.099187079,
                        "remaining_time": 4.343751956,
                        "test": [
                          0.5495593565
                        ]
                      },
                      {
                        "learn": [
                          0.5488982063
                        ],
                        "iteration": 108,
                        "passed_time": 5.143537387,
                        "remaining_time": 4.294145892,
                        "test": [
                          0.5488982063
                        ]
                      },
                      {
                        "learn": [
                          0.5482527047
                        ],
                        "iteration": 109,
                        "passed_time": 5.189117192,
                        "remaining_time": 4.245641339,
                        "test": [
                          0.5482527047
                        ]
                      },
                      {
                        "learn": [
                          0.547774473
                        ],
                        "iteration": 110,
                        "passed_time": 5.234446016,
                        "remaining_time": 4.196988247,
                        "test": [
                          0.5477744202
                        ]
                      },
                      {
                        "learn": [
                          0.5469927869
                        ],
                        "iteration": 111,
                        "passed_time": 5.27951048,
                        "remaining_time": 4.148186806,
                        "test": [
                          0.5469927869
                        ]
                      },
                      {
                        "learn": [
                          0.5462213569
                        ],
                        "iteration": 112,
                        "passed_time": 5.327098444,
                        "remaining_time": 4.101394378,
                        "test": [
                          0.5462214097
                        ]
                      },
                      {
                        "learn": [
                          0.5455664449
                        ],
                        "iteration": 113,
                        "passed_time": 5.371872883,
                        "remaining_time": 4.052465508,
                        "test": [
                          0.545566392
                        ]
                      },
                      {
                        "learn": [
                          0.5448470885
                        ],
                        "iteration": 114,
                        "passed_time": 5.416427797,
                        "remaining_time": 4.003446633,
                        "test": [
                          0.5448470885
                        ]
                      },
                      {
                        "learn": [
                          0.5441710299
                        ],
                        "iteration": 115,
                        "passed_time": 5.461159522,
                        "remaining_time": 3.954632757,
                        "test": [
                          0.5441709771
                        ]
                      },
                      {
                        "learn": [
                          0.5430112416
                        ],
                        "iteration": 116,
                        "passed_time": 5.505587912,
                        "remaining_time": 3.905673476,
                        "test": [
                          0.5430112944
                        ]
                      },
                      {
                        "learn": [
                          0.5424514367
                        ],
                        "iteration": 117,
                        "passed_time": 5.551247036,
                        "remaining_time": 3.857646245,
                        "test": [
                          0.5424514896
                        ]
                      },
                      {
                        "learn": [
                          0.541884812
                        ],
                        "iteration": 118,
                        "passed_time": 5.59799051,
                        "remaining_time": 3.810396901,
                        "test": [
                          0.5418849178
                        ]
                      },
                      {
                        "learn": [
                          0.5412534786
                        ],
                        "iteration": 119,
                        "passed_time": 5.643191424,
                        "remaining_time": 3.762127616,
                        "test": [
                          0.5412533729
                        ]
                      },
                      {
                        "learn": [
                          0.5405499822
                        ],
                        "iteration": 120,
                        "passed_time": 5.68834646,
                        "remaining_time": 3.713879094,
                        "test": [
                          0.5405500351
                        ]
                      },
                      {
                        "learn": [
                          0.5401399486
                        ],
                        "iteration": 121,
                        "passed_time": 5.73316835,
                        "remaining_time": 3.665468289,
                        "test": [
                          0.5401399486
                        ]
                      },
                      {
                        "learn": [
                          0.5394952928
                        ],
                        "iteration": 122,
                        "passed_time": 5.785525195,
                        "remaining_time": 3.621832846,
                        "test": [
                          0.5394952399
                        ]
                      },
                      {
                        "learn": [
                          0.5390185414
                        ],
                        "iteration": 123,
                        "passed_time": 5.830756664,
                        "remaining_time": 3.573689568,
                        "test": [
                          0.5390185943
                        ]
                      },
                      {
                        "learn": [
                          0.5381949849
                        ],
                        "iteration": 124,
                        "passed_time": 5.875554707,
                        "remaining_time": 3.525332824,
                        "test": [
                          0.5381949849
                        ]
                      },
                      {
                        "learn": [
                          0.5376771561
                        ],
                        "iteration": 125,
                        "passed_time": 5.932347058,
                        "remaining_time": 3.484076843,
                        "test": [
                          0.537677209
                        ]
                      },
                      {
                        "learn": [
                          0.5373272847
                        ],
                        "iteration": 126,
                        "passed_time": 5.977049995,
                        "remaining_time": 3.435627162,
                        "test": [
                          0.5373273376
                        ]
                      },
                      {
                        "learn": [
                          0.5367197941
                        ],
                        "iteration": 127,
                        "passed_time": 6.021494323,
                        "remaining_time": 3.387090556,
                        "test": [
                          0.5367197941
                        ]
                      },
                      {
                        "learn": [
                          0.5362892482
                        ],
                        "iteration": 128,
                        "passed_time": 6.066186825,
                        "remaining_time": 3.338753989,
                        "test": [
                          0.5362891425
                        ]
                      },
                      {
                        "learn": [
                          0.5354938696
                        ],
                        "iteration": 129,
                        "passed_time": 6.11118903,
                        "remaining_time": 3.290640247,
                        "test": [
                          0.5354937639
                        ]
                      },
                      {
                        "learn": [
                          0.5348118899
                        ],
                        "iteration": 130,
                        "passed_time": 6.156060777,
                        "remaining_time": 3.242505295,
                        "test": [
                          0.5348117842
                        ]
                      },
                      {
                        "learn": [
                          0.5340611308
                        ],
                        "iteration": 131,
                        "passed_time": 6.201429738,
                        "remaining_time": 3.194675925,
                        "test": [
                          0.5340611308
                        ]
                      },
                      {
                        "learn": [
                          0.5334373573
                        ],
                        "iteration": 132,
                        "passed_time": 6.246241899,
                        "remaining_time": 3.146603062,
                        "test": [
                          0.5334373573
                        ]
                      },
                      {
                        "learn": [
                          0.5329965552
                        ],
                        "iteration": 133,
                        "passed_time": 6.290756842,
                        "remaining_time": 3.098432475,
                        "test": [
                          0.5329965023
                        ]
                      },
                      {
                        "learn": [
                          0.5323720944
                        ],
                        "iteration": 134,
                        "passed_time": 6.335476144,
                        "remaining_time": 3.050414439,
                        "test": [
                          0.5323719887
                        ]
                      },
                      {
                        "learn": [
                          0.5317212532
                        ],
                        "iteration": 135,
                        "passed_time": 6.379960872,
                        "remaining_time": 3.002334528,
                        "test": [
                          0.5317212004
                        ]
                      },
                      {
                        "learn": [
                          0.5312212405
                        ],
                        "iteration": 136,
                        "passed_time": 6.429710055,
                        "remaining_time": 2.956727982,
                        "test": [
                          0.5312211877
                        ]
                      },
                      {
                        "learn": [
                          0.5306046569
                        ],
                        "iteration": 137,
                        "passed_time": 6.475206415,
                        "remaining_time": 2.909150708,
                        "test": [
                          0.5306046569
                        ]
                      },
                      {
                        "learn": [
                          0.5299339378
                        ],
                        "iteration": 138,
                        "passed_time": 6.520651529,
                        "remaining_time": 2.861580887,
                        "test": [
                          0.5299339378
                        ]
                      },
                      {
                        "learn": [
                          0.529120426
                        ],
                        "iteration": 139,
                        "passed_time": 6.565691961,
                        "remaining_time": 2.813867983,
                        "test": [
                          0.5291203731
                        ]
                      },
                      {
                        "learn": [
                          0.5286128005
                        ],
                        "iteration": 140,
                        "passed_time": 6.611003925,
                        "remaining_time": 2.766306607,
                        "test": [
                          0.5286127476
                        ]
                      },
                      {
                        "learn": [
                          0.5280662652
                        ],
                        "iteration": 141,
                        "passed_time": 6.657206284,
                        "remaining_time": 2.719140595,
                        "test": [
                          0.528066318
                        ]
                      },
                      {
                        "learn": [
                          0.527358328
                        ],
                        "iteration": 142,
                        "passed_time": 6.702494398,
                        "remaining_time": 2.671623641,
                        "test": [
                          0.5273582222
                        ]
                      },
                      {
                        "learn": [
                          0.5268631262
                        ],
                        "iteration": 143,
                        "passed_time": 6.747614486,
                        "remaining_time": 2.6240723,
                        "test": [
                          0.5268631262
                        ]
                      },
                      {
                        "learn": [
                          0.5258776391
                        ],
                        "iteration": 144,
                        "passed_time": 6.79251752,
                        "remaining_time": 2.576472163,
                        "test": [
                          0.5258775862
                        ]
                      },
                      {
                        "learn": [
                          0.5252892334
                        ],
                        "iteration": 145,
                        "passed_time": 6.84489682,
                        "remaining_time": 2.531674166,
                        "test": [
                          0.5252892863
                        ]
                      },
                      {
                        "learn": [
                          0.5248651372
                        ],
                        "iteration": 146,
                        "passed_time": 6.89025479,
                        "remaining_time": 2.484241523,
                        "test": [
                          0.5248651372
                        ]
                      },
                      {
                        "learn": [
                          0.5242259266
                        ],
                        "iteration": 147,
                        "passed_time": 6.940589138,
                        "remaining_time": 2.438585373,
                        "test": [
                          0.5242259266
                        ]
                      },
                      {
                        "learn": [
                          0.5237296675
                        ],
                        "iteration": 148,
                        "passed_time": 6.985544868,
                        "remaining_time": 2.391025425,
                        "test": [
                          0.5237296146
                        ]
                      },
                      {
                        "learn": [
                          0.5231943399
                        ],
                        "iteration": 149,
                        "passed_time": 7.030218776,
                        "remaining_time": 2.343406259,
                        "test": [
                          0.5231943399
                        ]
                      },
                      {
                        "learn": [
                          0.5227444976
                        ],
                        "iteration": 150,
                        "passed_time": 7.074844415,
                        "remaining_time": 2.295810439,
                        "test": [
                          0.5227444976
                        ]
                      },
                      {
                        "learn": [
                          0.5223047001
                        ],
                        "iteration": 151,
                        "passed_time": 7.120506111,
                        "remaining_time": 2.248580877,
                        "test": [
                          0.5223047001
                        ]
                      },
                      {
                        "learn": [
                          0.5216723093
                        ],
                        "iteration": 152,
                        "passed_time": 7.165485728,
                        "remaining_time": 2.201162282,
                        "test": [
                          0.5216723622
                        ]
                      },
                      {
                        "learn": [
                          0.5213736128
                        ],
                        "iteration": 153,
                        "passed_time": 7.209917905,
                        "remaining_time": 2.153611842,
                        "test": [
                          0.5213736656
                        ]
                      },
                      {
                        "learn": [
                          0.5208614936
                        ],
                        "iteration": 154,
                        "passed_time": 7.254787066,
                        "remaining_time": 2.106228503,
                        "test": [
                          0.5208615465
                        ]
                      },
                      {
                        "learn": [
                          0.5203749091
                        ],
                        "iteration": 155,
                        "passed_time": 7.299357657,
                        "remaining_time": 2.058793185,
                        "test": [
                          0.5203749619
                        ]
                      },
                      {
                        "learn": [
                          0.519987238
                        ],
                        "iteration": 156,
                        "passed_time": 7.343821591,
                        "remaining_time": 2.011365149,
                        "test": [
                          0.5199871851
                        ]
                      },
                      {
                        "learn": [
                          0.5195925357
                        ],
                        "iteration": 157,
                        "passed_time": 7.388407176,
                        "remaining_time": 1.964006971,
                        "test": [
                          0.5195924828
                        ]
                      },
                      {
                        "learn": [
                          0.518931967
                        ],
                        "iteration": 158,
                        "passed_time": 7.432990494,
                        "remaining_time": 1.916683083,
                        "test": [
                          0.518931967
                        ]
                      },
                      {
                        "learn": [
                          0.5182813372
                        ],
                        "iteration": 159,
                        "passed_time": 7.478446698,
                        "remaining_time": 1.869611675,
                        "test": [
                          0.5182813372
                        ]
                      },
                      {
                        "learn": [
                          0.5175853479
                        ],
                        "iteration": 160,
                        "passed_time": 7.523712674,
                        "remaining_time": 1.82251425,
                        "test": [
                          0.5175854008
                        ]
                      },
                      {
                        "learn": [
                          0.5171935532
                        ],
                        "iteration": 161,
                        "passed_time": 7.56845722,
                        "remaining_time": 1.775317126,
                        "test": [
                          0.5171935004
                        ]
                      },
                      {
                        "learn": [
                          0.5167345122
                        ],
                        "iteration": 162,
                        "passed_time": 7.613110513,
                        "remaining_time": 1.72812938,
                        "test": [
                          0.5167345122
                        ]
                      },
                      {
                        "learn": [
                          0.5162533729
                        ],
                        "iteration": 163,
                        "passed_time": 7.660352953,
                        "remaining_time": 1.681540892,
                        "test": [
                          0.5162534258
                        ]
                      },
                      {
                        "learn": [
                          0.5154657128
                        ],
                        "iteration": 164,
                        "passed_time": 7.70561975,
                        "remaining_time": 1.634525402,
                        "test": [
                          0.5154656071
                        ]
                      },
                      {
                        "learn": [
                          0.5149781238
                        ],
                        "iteration": 165,
                        "passed_time": 7.750424643,
                        "remaining_time": 1.587436373,
                        "test": [
                          0.5149781767
                        ]
                      },
                      {
                        "learn": [
                          0.5144000271
                        ],
                        "iteration": 166,
                        "passed_time": 7.795382337,
                        "remaining_time": 1.540404893,
                        "test": [
                          0.5144000271
                        ]
                      },
                      {
                        "learn": [
                          0.5133789079
                        ],
                        "iteration": 167,
                        "passed_time": 7.843055995,
                        "remaining_time": 1.493915428,
                        "test": [
                          0.5133789608
                        ]
                      },
                      {
                        "learn": [
                          0.5127317145
                        ],
                        "iteration": 168,
                        "passed_time": 7.887256249,
                        "remaining_time": 1.446774815,
                        "test": [
                          0.5127317145
                        ]
                      },
                      {
                        "learn": [
                          0.5120897549
                        ],
                        "iteration": 169,
                        "passed_time": 7.931425318,
                        "remaining_time": 1.399663291,
                        "test": [
                          0.5120897549
                        ]
                      },
                      {
                        "learn": [
                          0.5116335686
                        ],
                        "iteration": 170,
                        "passed_time": 7.988782228,
                        "remaining_time": 1.354822717,
                        "test": [
                          0.5116335686
                        ]
                      },
                      {
                        "learn": [
                          0.5110277698
                        ],
                        "iteration": 171,
                        "passed_time": 8.03319265,
                        "remaining_time": 1.307729036,
                        "test": [
                          0.5110277698
                        ]
                      },
                      {
                        "learn": [
                          0.5104266232
                        ],
                        "iteration": 172,
                        "passed_time": 8.078428315,
                        "remaining_time": 1.260795171,
                        "test": [
                          0.5104265704
                        ]
                      },
                      {
                        "learn": [
                          0.5099497661
                        ],
                        "iteration": 173,
                        "passed_time": 8.123867544,
                        "remaining_time": 1.213911242,
                        "test": [
                          0.509949819
                        ]
                      },
                      {
                        "learn": [
                          0.5094227386
                        ],
                        "iteration": 174,
                        "passed_time": 8.168959507,
                        "remaining_time": 1.166994215,
                        "test": [
                          0.5094226328
                        ]
                      },
                      {
                        "learn": [
                          0.5089413349
                        ],
                        "iteration": 175,
                        "passed_time": 8.214047196,
                        "remaining_time": 1.120097345,
                        "test": [
                          0.5089412821
                        ]
                      },
                      {
                        "learn": [
                          0.5085335217
                        ],
                        "iteration": 176,
                        "passed_time": 8.258485318,
                        "remaining_time": 1.07313651,
                        "test": [
                          0.5085335217
                        ]
                      },
                      {
                        "learn": [
                          0.5082694528
                        ],
                        "iteration": 177,
                        "passed_time": 8.303757751,
                        "remaining_time": 1.026307138,
                        "test": [
                          0.5082694528
                        ]
                      },
                      {
                        "learn": [
                          0.5077869918
                        ],
                        "iteration": 178,
                        "passed_time": 8.348153902,
                        "remaining_time": 0.9793923572,
                        "test": [
                          0.5077869918
                        ]
                      },
                      {
                        "learn": [
                          0.5072487566
                        ],
                        "iteration": 179,
                        "passed_time": 8.392593802,
                        "remaining_time": 0.9325104224,
                        "test": [
                          0.5072487037
                        ]
                      },
                      {
                        "learn": [
                          0.506596065
                        ],
                        "iteration": 180,
                        "passed_time": 8.439789489,
                        "remaining_time": 0.885944753,
                        "test": [
                          0.5065960122
                        ]
                      },
                      {
                        "learn": [
                          0.5059444308
                        ],
                        "iteration": 181,
                        "passed_time": 8.486089137,
                        "remaining_time": 0.839283541,
                        "test": [
                          0.5059444308
                        ]
                      },
                      {
                        "learn": [
                          0.5054731776
                        ],
                        "iteration": 182,
                        "passed_time": 8.531890306,
                        "remaining_time": 0.7925799738,
                        "test": [
                          0.5054732304
                        ]
                      },
                      {
                        "learn": [
                          0.504982628
                        ],
                        "iteration": 183,
                        "passed_time": 8.576981459,
                        "remaining_time": 0.7458244747,
                        "test": [
                          0.504982628
                        ]
                      },
                      {
                        "learn": [
                          0.5041891526
                        ],
                        "iteration": 184,
                        "passed_time": 8.623153066,
                        "remaining_time": 0.699174573,
                        "test": [
                          0.5041890997
                        ]
                      },
                      {
                        "learn": [
                          0.5036083597
                        ],
                        "iteration": 185,
                        "passed_time": 8.668326189,
                        "remaining_time": 0.6524546594,
                        "test": [
                          0.5036083068
                        ]
                      },
                      {
                        "learn": [
                          0.5028254576
                        ],
                        "iteration": 186,
                        "passed_time": 8.71336196,
                        "remaining_time": 0.6057417405,
                        "test": [
                          0.5028254576
                        ]
                      },
                      {
                        "learn": [
                          0.5023658879
                        ],
                        "iteration": 187,
                        "passed_time": 8.758261359,
                        "remaining_time": 0.5590379591,
                        "test": [
                          0.5023658879
                        ]
                      },
                      {
                        "learn": [
                          0.5020446702
                        ],
                        "iteration": 188,
                        "passed_time": 8.803628756,
                        "remaining_time": 0.5123805096,
                        "test": [
                          0.5020446173
                        ]
                      },
                      {
                        "learn": [
                          0.5015072808
                        ],
                        "iteration": 189,
                        "passed_time": 8.857226232,
                        "remaining_time": 0.4661698017,
                        "test": [
                          0.5015072808
                        ]
                      },
                      {
                        "learn": [
                          0.5010487684
                        ],
                        "iteration": 190,
                        "passed_time": 8.90213913,
                        "remaining_time": 0.4194725245,
                        "test": [
                          0.5010487684
                        ]
                      },
                      {
                        "learn": [
                          0.5003562683
                        ],
                        "iteration": 191,
                        "passed_time": 8.969436877,
                        "remaining_time": 0.3737265365,
                        "test": [
                          0.5003562683
                        ]
                      },
                      {
                        "learn": [
                          0.4997605141
                        ],
                        "iteration": 192,
                        "passed_time": 9.013900503,
                        "remaining_time": 0.3269290338,
                        "test": [
                          0.4997605141
                        ]
                      },
                      {
                        "learn": [
                          0.4991987532
                        ],
                        "iteration": 193,
                        "passed_time": 9.058120654,
                        "remaining_time": 0.2801480615,
                        "test": [
                          0.4991987003
                        ]
                      },
                      {
                        "learn": [
                          0.4988030993
                        ],
                        "iteration": 194,
                        "passed_time": 9.103591878,
                        "remaining_time": 0.2334254328,
                        "test": [
                          0.4988031521
                        ]
                      },
                      {
                        "learn": [
                          0.4981749378
                        ],
                        "iteration": 195,
                        "passed_time": 9.166354908,
                        "remaining_time": 0.1870684675,
                        "test": [
                          0.4981749907
                        ]
                      },
                      {
                        "learn": [
                          0.4978291371
                        ],
                        "iteration": 196,
                        "passed_time": 9.211078751,
                        "remaining_time": 0.1402702348,
                        "test": [
                          0.49782919
                        ]
                      },
                      {
                        "learn": [
                          0.4974094817
                        ],
                        "iteration": 197,
                        "passed_time": 9.255854918,
                        "remaining_time": 0.09349348402,
                        "test": [
                          0.4974094817
                        ]
                      },
                      {
                        "learn": [
                          0.496855968
                        ],
                        "iteration": 198,
                        "passed_time": 9.30032469,
                        "remaining_time": 0.04673529995,
                        "test": [
                          0.496855968
                        ]
                      },
                      {
                        "learn": [
                          0.4963553738
                        ],
                        "iteration": 199,
                        "passed_time": 9.345940299,
                        "remaining_time": 0,
                        "test": [
                          0.4963553209
                        ]
                      }
                    ],
                    "meta": {
                      "test_sets": [
                        "test"
                      ],
                      "test_metrics": [
                        {
                          "best_value": "Min",
                          "name": "PairLogit"
                        }
                      ],
                      "learn_metrics": [
                        {
                          "best_value": "Min",
                          "name": "PairLogit"
                        }
                      ],
                      "launch_mode": "Train",
                      "parameters": "",
                      "iteration_count": 200,
                      "learn_sets": [
                        "learn"
                      ],
                      "name": "experiment"
                    }
                  }
                }
              }
            },
            "layout": "IPY_MODEL_bb416b4984894201b9cb574845adac7a"
          }
        }
      }
    }
  },
  "nbformat": 4,
  "nbformat_minor": 5
}